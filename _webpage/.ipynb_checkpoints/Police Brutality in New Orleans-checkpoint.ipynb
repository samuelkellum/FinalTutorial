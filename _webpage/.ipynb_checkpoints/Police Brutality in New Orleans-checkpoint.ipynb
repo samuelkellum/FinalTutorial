{
 "cells": [
  {
   "cell_type": "markdown",
   "metadata": {},
   "source": [
    "https://samuelkellum.github.io/FinalTutorial/"
   ]
  },
  {
   "cell_type": "markdown",
   "metadata": {},
   "source": [
    "<h1 align='center'> Police Brutality in New Orleans </h1>\n",
    "<h3> Ajit Alapati and Samuel Kellum </h3>\n",
    "\n",
    "---\n",
    "\n",
    "<h4>Table of contents:</h4>\n",
    "<ol>\n",
    "<li> Introduction </li>\n",
    "<li> Extraction, Transform and Load </li>\n",
    "<li> Exploratory Data Analysis and Data Visualization </li>\n",
    "<li> Hypothesis Testing </li>\n",
    "<li> Conclusion and Further Study </li>\n",
    "</ol>\n",
    "\n",
    "---"
   ]
  },
  {
   "cell_type": "markdown",
   "metadata": {},
   "source": [
    "<h2 align='center'>1. Introduction </h2>\n",
    "<br>\n",
    "<p>We decided to meet in person to collaborate and discuss what data about New Orleans we wanted to explore. We first set up a GitHub repository to compile everything for our project, including the data sets.</p>\n",
    "<p>We did face some initial challenges setting up the GitHub page because neither of us has ever created a GitHub page. Additionally, we had some minor issues initializing the repository with the GitHub page because of GitHub’s new authentication features. In August, GitHub required that we use personal authentication tokens instead of account passwords when using its version control on the command line. In August, GitHub required that we use personal authentication tokens instead of account passwords when using its version control on the command line.  We had no problems importing the data into the Jupyter Notebook and tidying the data by deleting unnecessary columns. We had already imported CSV files into a notebook in the labs. We had one minor problem with the del function syntax (which we found from a previous Final Tutorial example). We faced some more significant challenges in displaying the notebook on the GitHub page. We did not realize that all we had to do was download the notebook as an HTML export. We learn something new every day, which is to read all of the project instructions! If you are reading this on the webpage, and the page looks like a Jupyter Notebook, then that means we figured it out!</p>\n",
    "<p>Our planned technologies, as of now, are Docker, the Jupyter Notebook, Python, and all of the libraries it provides. We have not yet discussed in detail the libraries that we will use, but we know we will be using Pandas, Numpy, and Matplotlib. We have each other’s phone numbers to contact each other about the project and will most likely meet throughout the semester one or two times per week in person to work on the project. Both of us were interested in data about police brutality and misconduct in New Orleans.</p>\n",
    "<p>We wanted to look into policing violence and where these incidents were happening in the city. We found a couple of data sets on data.nola.gov about police misconduct complaints and deadly police encounters in New Orleans. These sorts of data sets open up many possible questions and avenues that we can go down. For example, we were discussing combining datasets to determine who and where these violent interactions were happening. Were they happening disproportionately in poor areas? Were they happening disproportionately towards African Americans?</p>\n",
    "\n",
    "---"
   ]
  },
  {
   "cell_type": "markdown",
   "metadata": {},
   "source": [
    "<h2 align='center'>2. Extraction, Transform and Load </h2>"
   ]
  },
  {
   "cell_type": "markdown",
   "metadata": {},
   "source": [
    "<h4> Extraction and Load </h4>"
   ]
  },
  {
   "cell_type": "markdown",
   "metadata": {},
   "source": [
    "The first thing we need to do is collect all of the data we want to use for this project. For this project, we will load three CSV files. Each CSV file contains information on the city police department's Use of Force or Response to Resistance. We will also extract census data from one URL containing demographic information on all three cities.\n",
    "\n",
    "In the first block of code below, we are importing the libraries we will need for the project."
   ]
  },
  {
   "cell_type": "code",
   "execution_count": 1,
   "metadata": {},
   "outputs": [],
   "source": [
    "## Loading libraries\n",
    "# Load Pandas\n",
    "import pandas as pd\n",
    "\n",
    "# Load MatPlotLib\n",
    "import matplotlib\n",
    "import matplotlib.pyplot as plt\n",
    "matplotlib.style.use('fivethirtyeight')\n",
    "\n",
    "# Load Requests\n",
    "import requests\n",
    "\n",
    "# Load Scipy Stats\n",
    "import scipy.stats as stats"
   ]
  },
  {
   "cell_type": "markdown",
   "metadata": {},
   "source": [
    "The first dataset we want to load is a CSV file called <a href='https://data.nola.gov/Public-Safety-and-Preparedness/NOPD-Use-of-Force-Incidents/9mnw-mbde'>NOPD Use of Force Incidents</a>. We can load a CSV file in Pandas by using ```pd.read_csv()```. After loading the file, we can display the head of the DataFrame before performing any transformation on the DataFrame."
   ]
  },
  {
   "cell_type": "code",
   "execution_count": 2,
   "metadata": {},
   "outputs": [
    {
     "data": {
      "text/html": [
       "<div>\n",
       "<style scoped>\n",
       "    .dataframe tbody tr th:only-of-type {\n",
       "        vertical-align: middle;\n",
       "    }\n",
       "\n",
       "    .dataframe tbody tr th {\n",
       "        vertical-align: top;\n",
       "    }\n",
       "\n",
       "    .dataframe thead th {\n",
       "        text-align: right;\n",
       "    }\n",
       "</style>\n",
       "<table border=\"1\" class=\"dataframe\">\n",
       "  <thead>\n",
       "    <tr style=\"text-align: right;\">\n",
       "      <th></th>\n",
       "      <th>PIB File Number</th>\n",
       "      <th>Date Occurred</th>\n",
       "      <th>Originating Bureau</th>\n",
       "      <th>Division level</th>\n",
       "      <th>Division</th>\n",
       "      <th>Unit</th>\n",
       "      <th>Working Status</th>\n",
       "      <th>Shift</th>\n",
       "      <th>Investigation status</th>\n",
       "      <th>Disposition</th>\n",
       "      <th>...</th>\n",
       "      <th>Subject Ethnicity</th>\n",
       "      <th>Subject Age</th>\n",
       "      <th>Subject Build</th>\n",
       "      <th>Subject Height</th>\n",
       "      <th>Subject Injured</th>\n",
       "      <th>Subject Hospitalized</th>\n",
       "      <th>Subject Arrested</th>\n",
       "      <th>Subject Arrest Charges</th>\n",
       "      <th>Use of Force Reason</th>\n",
       "      <th>Officer Injured</th>\n",
       "    </tr>\n",
       "  </thead>\n",
       "  <tbody>\n",
       "    <tr>\n",
       "      <th>0</th>\n",
       "      <td>FTN2016-0112</td>\n",
       "      <td>03/23/2016</td>\n",
       "      <td>FOB - Field Operations Bureau</td>\n",
       "      <td>7th District</td>\n",
       "      <td>Evening Watch</td>\n",
       "      <td>NaN</td>\n",
       "      <td>Unknown Working Status</td>\n",
       "      <td>Unknown Shift Hours</td>\n",
       "      <td>Initial</td>\n",
       "      <td>Pending</td>\n",
       "      <td>...</td>\n",
       "      <td>Black</td>\n",
       "      <td>38</td>\n",
       "      <td>NaN</td>\n",
       "      <td>NaN</td>\n",
       "      <td>No</td>\n",
       "      <td>Yes</td>\n",
       "      <td>No</td>\n",
       "      <td>NaN</td>\n",
       "      <td>refuse verbal commands</td>\n",
       "      <td>No</td>\n",
       "    </tr>\n",
       "    <tr>\n",
       "      <th>1</th>\n",
       "      <td>FTN2016-0169</td>\n",
       "      <td>03/26/2016</td>\n",
       "      <td>FOB - Field Operations Bureau</td>\n",
       "      <td>6th District</td>\n",
       "      <td>B Platoon</td>\n",
       "      <td>NaN</td>\n",
       "      <td>NaN</td>\n",
       "      <td>NaN</td>\n",
       "      <td>Completed</td>\n",
       "      <td>Use Of Force Authorized</td>\n",
       "      <td>...</td>\n",
       "      <td>Black</td>\n",
       "      <td>27</td>\n",
       "      <td>Small</td>\n",
       "      <td>5'4'' to 5'6''</td>\n",
       "      <td>No</td>\n",
       "      <td>Yes</td>\n",
       "      <td>Yes</td>\n",
       "      <td>NaN</td>\n",
       "      <td>Resisting Lawful Arrest</td>\n",
       "      <td>No</td>\n",
       "    </tr>\n",
       "    <tr>\n",
       "      <th>2</th>\n",
       "      <td>FTN2016-0172</td>\n",
       "      <td>03/26/2016</td>\n",
       "      <td>FOB - Field Operations Bureau</td>\n",
       "      <td>7th District</td>\n",
       "      <td>Evening Watch</td>\n",
       "      <td>Patrol</td>\n",
       "      <td>Unknown Working Status</td>\n",
       "      <td>Unknown Shift Hours</td>\n",
       "      <td>Completed</td>\n",
       "      <td>Use Of Force Authorized</td>\n",
       "      <td>...</td>\n",
       "      <td>Black</td>\n",
       "      <td>37</td>\n",
       "      <td>Medium</td>\n",
       "      <td>5'10'' to 6'0''</td>\n",
       "      <td>No</td>\n",
       "      <td>No</td>\n",
       "      <td>No</td>\n",
       "      <td>NaN</td>\n",
       "      <td>refuse verbal commands</td>\n",
       "      <td>No | No | No</td>\n",
       "    </tr>\n",
       "    <tr>\n",
       "      <th>3</th>\n",
       "      <td>FTN2016-0168</td>\n",
       "      <td>03/26/2016</td>\n",
       "      <td>FOB - Field Operations Bureau</td>\n",
       "      <td>8th District</td>\n",
       "      <td>Narcotics</td>\n",
       "      <td>NaN</td>\n",
       "      <td>NaN</td>\n",
       "      <td>NaN</td>\n",
       "      <td>Completed</td>\n",
       "      <td>Use Of Force Authorized</td>\n",
       "      <td>...</td>\n",
       "      <td>White | Black</td>\n",
       "      <td>29 | 33</td>\n",
       "      <td>Large | Large</td>\n",
       "      <td>6'1'' to 6'3'' | 6'1'' to 6'3''</td>\n",
       "      <td>Yes | Yes</td>\n",
       "      <td>No | No</td>\n",
       "      <td>Yes | Yes</td>\n",
       "      <td>NaN</td>\n",
       "      <td>Resisting Lawful Arrest</td>\n",
       "      <td>No | No | No | No</td>\n",
       "    </tr>\n",
       "    <tr>\n",
       "      <th>4</th>\n",
       "      <td>FTN2016-0173</td>\n",
       "      <td>03/27/2016</td>\n",
       "      <td>FOB - Field Operations Bureau</td>\n",
       "      <td>7th District</td>\n",
       "      <td>Day Watch</td>\n",
       "      <td>NaN</td>\n",
       "      <td>NaN</td>\n",
       "      <td>NaN</td>\n",
       "      <td>Completed</td>\n",
       "      <td>Use Of Force Authorized</td>\n",
       "      <td>...</td>\n",
       "      <td>White</td>\n",
       "      <td>23</td>\n",
       "      <td>Small</td>\n",
       "      <td>5'10'' to 6'0''</td>\n",
       "      <td>Yes</td>\n",
       "      <td>Yes</td>\n",
       "      <td>Yes</td>\n",
       "      <td>NaN</td>\n",
       "      <td>Resisting Lawful Arrest</td>\n",
       "      <td>No | No</td>\n",
       "    </tr>\n",
       "  </tbody>\n",
       "</table>\n",
       "<p>5 rows × 33 columns</p>\n",
       "</div>"
      ],
      "text/plain": [
       "  PIB File Number Date Occurred             Originating Bureau Division level  \\\n",
       "0    FTN2016-0112    03/23/2016  FOB - Field Operations Bureau   7th District   \n",
       "1    FTN2016-0169    03/26/2016  FOB - Field Operations Bureau   6th District   \n",
       "2    FTN2016-0172    03/26/2016  FOB - Field Operations Bureau   7th District   \n",
       "3    FTN2016-0168    03/26/2016  FOB - Field Operations Bureau   8th District   \n",
       "4    FTN2016-0173    03/27/2016  FOB - Field Operations Bureau   7th District   \n",
       "\n",
       "        Division    Unit          Working Status                Shift  \\\n",
       "0  Evening Watch     NaN  Unknown Working Status  Unknown Shift Hours   \n",
       "1      B Platoon     NaN                     NaN                  NaN   \n",
       "2  Evening Watch  Patrol  Unknown Working Status  Unknown Shift Hours   \n",
       "3      Narcotics     NaN                     NaN                  NaN   \n",
       "4      Day Watch     NaN                     NaN                  NaN   \n",
       "\n",
       "  Investigation status              Disposition  ... Subject Ethnicity  \\\n",
       "0              Initial                  Pending  ...             Black   \n",
       "1            Completed  Use Of Force Authorized  ...             Black   \n",
       "2            Completed  Use Of Force Authorized  ...             Black   \n",
       "3            Completed  Use Of Force Authorized  ...     White | Black   \n",
       "4            Completed  Use Of Force Authorized  ...             White   \n",
       "\n",
       "  Subject Age  Subject Build                   Subject Height Subject Injured  \\\n",
       "0          38            NaN                              NaN              No   \n",
       "1          27          Small                   5'4'' to 5'6''              No   \n",
       "2          37         Medium                  5'10'' to 6'0''              No   \n",
       "3     29 | 33  Large | Large  6'1'' to 6'3'' | 6'1'' to 6'3''       Yes | Yes   \n",
       "4          23          Small                  5'10'' to 6'0''             Yes   \n",
       "\n",
       "  Subject Hospitalized Subject Arrested Subject Arrest Charges  \\\n",
       "0                  Yes               No                    NaN   \n",
       "1                  Yes              Yes                    NaN   \n",
       "2                   No               No                    NaN   \n",
       "3              No | No        Yes | Yes                    NaN   \n",
       "4                  Yes              Yes                    NaN   \n",
       "\n",
       "       Use of Force Reason    Officer Injured  \n",
       "0   refuse verbal commands                 No  \n",
       "1  Resisting Lawful Arrest                 No  \n",
       "2   refuse verbal commands       No | No | No  \n",
       "3  Resisting Lawful Arrest  No | No | No | No  \n",
       "4  Resisting Lawful Arrest            No | No  \n",
       "\n",
       "[5 rows x 33 columns]"
      ]
     },
     "execution_count": 2,
     "metadata": {},
     "output_type": "execute_result"
    }
   ],
   "source": [
    "nopd_df = pd.read_csv('../_data/NOPD_Use_Of_Force_Incidents.csv')\n",
    "nopd_df.head()"
   ]
  },
  {
   "cell_type": "markdown",
   "metadata": {},
   "source": [
    "The next two CSV files we want to load are <a href='https://data.austintexas.gov/Public-Safety/2018-Response-to-Resistance-Data/rus9-w6q5'>Austin Police Department Response to Resistance</a> and <a href='https://data.cityoforlando.net/Orlando-Police/OPD-Response-To-Resistance/ap4w-p9kt'>Orlando Police Department Response to Resistance</a>. To load these files, we do the same thing as above. Once again, we can display the heads of the DataFrame before any tidying."
   ]
  },
  {
   "cell_type": "code",
   "execution_count": 3,
   "metadata": {},
   "outputs": [
    {
     "data": {
      "text/html": [
       "<div>\n",
       "<style scoped>\n",
       "    .dataframe tbody tr th:only-of-type {\n",
       "        vertical-align: middle;\n",
       "    }\n",
       "\n",
       "    .dataframe tbody tr th {\n",
       "        vertical-align: top;\n",
       "    }\n",
       "\n",
       "    .dataframe thead th {\n",
       "        text-align: right;\n",
       "    }\n",
       "</style>\n",
       "<table border=\"1\" class=\"dataframe\">\n",
       "  <thead>\n",
       "    <tr style=\"text-align: right;\">\n",
       "      <th></th>\n",
       "      <th>RIN</th>\n",
       "      <th>Primary Key</th>\n",
       "      <th>Date Occurred</th>\n",
       "      <th>Time Occurred</th>\n",
       "      <th>Location</th>\n",
       "      <th>Area Command</th>\n",
       "      <th>Nature of Contact</th>\n",
       "      <th>Reason Desc</th>\n",
       "      <th>R2R Level</th>\n",
       "      <th>Master Subject ID</th>\n",
       "      <th>...</th>\n",
       "      <th>Weapon Used 5</th>\n",
       "      <th>Number Shots</th>\n",
       "      <th>Subject Effects</th>\n",
       "      <th>Effect on Officer</th>\n",
       "      <th>Officer Organization Desc</th>\n",
       "      <th>Officer Commission Date</th>\n",
       "      <th>Officer Yrs of Service</th>\n",
       "      <th>X-Coordinate</th>\n",
       "      <th>Y-Coordinate</th>\n",
       "      <th>CouncilDistrict</th>\n",
       "    </tr>\n",
       "  </thead>\n",
       "  <tbody>\n",
       "    <tr>\n",
       "      <th>0</th>\n",
       "      <td>154,619</td>\n",
       "      <td>201,510,652</td>\n",
       "      <td>01/01/2015 12:00:00 AM</td>\n",
       "      <td>0220</td>\n",
       "      <td>E 6TH ST / TRINITY ST</td>\n",
       "      <td>GE</td>\n",
       "      <td>VIEWED OFFENSE</td>\n",
       "      <td>NECESSARY TO EFFECT ARREST / DETENTION</td>\n",
       "      <td>3.0</td>\n",
       "      <td>459228703: 201510652</td>\n",
       "      <td>...</td>\n",
       "      <td>NaN</td>\n",
       "      <td>NaN</td>\n",
       "      <td>NO COMPLAINT OF INJURY/PAIN</td>\n",
       "      <td>NO COMPLAINT OF INJURY/PAIN</td>\n",
       "      <td>GEORGE 600 REG I PATROL</td>\n",
       "      <td>05/17/2013 12:00:00 AM</td>\n",
       "      <td>2</td>\n",
       "      <td>3,115,416</td>\n",
       "      <td>10,070,416</td>\n",
       "      <td>9.0</td>\n",
       "    </tr>\n",
       "    <tr>\n",
       "      <th>1</th>\n",
       "      <td>154,620</td>\n",
       "      <td>201,510,652</td>\n",
       "      <td>01/01/2015 12:00:00 AM</td>\n",
       "      <td>0225</td>\n",
       "      <td>E 6TH ST / TRINITY ST</td>\n",
       "      <td>GE</td>\n",
       "      <td>VIEWED OFFENSE</td>\n",
       "      <td>NECESSARY TO EFFECT ARREST / DETENTION</td>\n",
       "      <td>3.0</td>\n",
       "      <td>459228703: 201510652</td>\n",
       "      <td>...</td>\n",
       "      <td>NaN</td>\n",
       "      <td>NaN</td>\n",
       "      <td>MINOR INJURY</td>\n",
       "      <td>NO COMPLAINT OF INJURY/PAIN</td>\n",
       "      <td>GEORGE 700 REG I PATROL</td>\n",
       "      <td>05/10/2002 12:00:00 AM</td>\n",
       "      <td>13</td>\n",
       "      <td>3,115,416</td>\n",
       "      <td>10,070,416</td>\n",
       "      <td>9.0</td>\n",
       "    </tr>\n",
       "    <tr>\n",
       "      <th>2</th>\n",
       "      <td>155,009</td>\n",
       "      <td>201,510,652</td>\n",
       "      <td>01/01/2015 12:00:00 AM</td>\n",
       "      <td></td>\n",
       "      <td>E 6TH ST / TRINITY ST</td>\n",
       "      <td>GE</td>\n",
       "      <td>VIEWED OFFENSE</td>\n",
       "      <td>NECESSARY TO EFFECT ARREST / DETENTION</td>\n",
       "      <td>3.0</td>\n",
       "      <td>459228703: 201510652</td>\n",
       "      <td>...</td>\n",
       "      <td>NaN</td>\n",
       "      <td>NaN</td>\n",
       "      <td>NO COMPLAINT OF INJURY/PAIN</td>\n",
       "      <td>NO COMPLAINT OF INJURY/PAIN</td>\n",
       "      <td>GEORGE 300 REG I PATROL</td>\n",
       "      <td>11/30/2012 12:00:00 AM</td>\n",
       "      <td>2</td>\n",
       "      <td>3,115,416</td>\n",
       "      <td>10,070,416</td>\n",
       "      <td>9.0</td>\n",
       "    </tr>\n",
       "    <tr>\n",
       "      <th>3</th>\n",
       "      <td>154,764</td>\n",
       "      <td>201,520,457</td>\n",
       "      <td>01/02/2015 12:00:00 AM</td>\n",
       "      <td>0943</td>\n",
       "      <td>1900 FARO DR</td>\n",
       "      <td>HE</td>\n",
       "      <td>DISPATCHED CALL</td>\n",
       "      <td>TO RESTRAIN FOR SUBJECTS SAFETY</td>\n",
       "      <td>3.0</td>\n",
       "      <td>356649076: 201520457</td>\n",
       "      <td>...</td>\n",
       "      <td>NaN</td>\n",
       "      <td>NaN</td>\n",
       "      <td>COMPLAINT OF INJURY/PAIN</td>\n",
       "      <td>COMPLAINT OF INJURY/PAIN</td>\n",
       "      <td>HENRY 100 REG III PATROL</td>\n",
       "      <td>06/20/2008 12:00:00 AM</td>\n",
       "      <td>7</td>\n",
       "      <td>3,124,262</td>\n",
       "      <td>10,057,181</td>\n",
       "      <td>3.0</td>\n",
       "    </tr>\n",
       "    <tr>\n",
       "      <th>4</th>\n",
       "      <td>154,859</td>\n",
       "      <td>201,520,457</td>\n",
       "      <td>01/02/2015 12:00:00 AM</td>\n",
       "      <td>0943</td>\n",
       "      <td>1900 FARO DR</td>\n",
       "      <td>HE</td>\n",
       "      <td>DISPATCHED CALL</td>\n",
       "      <td>IN CUSTODY, MAINTAINING CONTROL</td>\n",
       "      <td>3.0</td>\n",
       "      <td>356649076: 201520457</td>\n",
       "      <td>...</td>\n",
       "      <td>NaN</td>\n",
       "      <td>NaN</td>\n",
       "      <td>COMPLAINT OF INJURY/PAIN</td>\n",
       "      <td>NO COMPLAINT OF INJURY/PAIN</td>\n",
       "      <td>HENRY 100 REG III PATROL</td>\n",
       "      <td>01/02/2009 12:00:00 AM</td>\n",
       "      <td>6</td>\n",
       "      <td>3,124,262</td>\n",
       "      <td>10,057,181</td>\n",
       "      <td>3.0</td>\n",
       "    </tr>\n",
       "  </tbody>\n",
       "</table>\n",
       "<p>5 rows × 29 columns</p>\n",
       "</div>"
      ],
      "text/plain": [
       "       RIN  Primary Key           Date Occurred Time Occurred  \\\n",
       "0  154,619  201,510,652  01/01/2015 12:00:00 AM          0220   \n",
       "1  154,620  201,510,652  01/01/2015 12:00:00 AM          0225   \n",
       "2  155,009  201,510,652  01/01/2015 12:00:00 AM                 \n",
       "3  154,764  201,520,457  01/02/2015 12:00:00 AM          0943   \n",
       "4  154,859  201,520,457  01/02/2015 12:00:00 AM          0943   \n",
       "\n",
       "                Location Area Command Nature of Contact  \\\n",
       "0  E 6TH ST / TRINITY ST           GE    VIEWED OFFENSE   \n",
       "1  E 6TH ST / TRINITY ST           GE    VIEWED OFFENSE   \n",
       "2  E 6TH ST / TRINITY ST           GE    VIEWED OFFENSE   \n",
       "3           1900 FARO DR           HE   DISPATCHED CALL   \n",
       "4           1900 FARO DR           HE   DISPATCHED CALL   \n",
       "\n",
       "                              Reason Desc  R2R Level     Master Subject ID  \\\n",
       "0  NECESSARY TO EFFECT ARREST / DETENTION        3.0  459228703: 201510652   \n",
       "1  NECESSARY TO EFFECT ARREST / DETENTION        3.0  459228703: 201510652   \n",
       "2  NECESSARY TO EFFECT ARREST / DETENTION        3.0  459228703: 201510652   \n",
       "3         TO RESTRAIN FOR SUBJECTS SAFETY        3.0  356649076: 201520457   \n",
       "4         IN CUSTODY, MAINTAINING CONTROL        3.0  356649076: 201520457   \n",
       "\n",
       "   ... Weapon Used 5 Number Shots              Subject Effects  \\\n",
       "0  ...           NaN          NaN  NO COMPLAINT OF INJURY/PAIN   \n",
       "1  ...           NaN          NaN                 MINOR INJURY   \n",
       "2  ...           NaN          NaN  NO COMPLAINT OF INJURY/PAIN   \n",
       "3  ...           NaN          NaN     COMPLAINT OF INJURY/PAIN   \n",
       "4  ...           NaN          NaN     COMPLAINT OF INJURY/PAIN   \n",
       "\n",
       "             Effect on Officer Officer Organization Desc  \\\n",
       "0  NO COMPLAINT OF INJURY/PAIN   GEORGE 600 REG I PATROL   \n",
       "1  NO COMPLAINT OF INJURY/PAIN   GEORGE 700 REG I PATROL   \n",
       "2  NO COMPLAINT OF INJURY/PAIN   GEORGE 300 REG I PATROL   \n",
       "3     COMPLAINT OF INJURY/PAIN  HENRY 100 REG III PATROL   \n",
       "4  NO COMPLAINT OF INJURY/PAIN  HENRY 100 REG III PATROL   \n",
       "\n",
       "  Officer Commission Date Officer Yrs of Service X-Coordinate Y-Coordinate  \\\n",
       "0  05/17/2013 12:00:00 AM                      2    3,115,416   10,070,416   \n",
       "1  05/10/2002 12:00:00 AM                     13    3,115,416   10,070,416   \n",
       "2  11/30/2012 12:00:00 AM                      2    3,115,416   10,070,416   \n",
       "3  06/20/2008 12:00:00 AM                      7    3,124,262   10,057,181   \n",
       "4  01/02/2009 12:00:00 AM                      6    3,124,262   10,057,181   \n",
       "\n",
       "   CouncilDistrict  \n",
       "0              9.0  \n",
       "1              9.0  \n",
       "2              9.0  \n",
       "3              3.0  \n",
       "4              3.0  \n",
       "\n",
       "[5 rows x 29 columns]"
      ]
     },
     "execution_count": 3,
     "metadata": {},
     "output_type": "execute_result"
    }
   ],
   "source": [
    "austin_police_df = pd.read_csv('../_data/Austin_Response_To_Resistance.csv')\n",
    "austin_police_df.head()"
   ]
  },
  {
   "cell_type": "code",
   "execution_count": 4,
   "metadata": {},
   "outputs": [
    {
     "data": {
      "text/html": [
       "<div>\n",
       "<style scoped>\n",
       "    .dataframe tbody tr th:only-of-type {\n",
       "        vertical-align: middle;\n",
       "    }\n",
       "\n",
       "    .dataframe tbody tr th {\n",
       "        vertical-align: top;\n",
       "    }\n",
       "\n",
       "    .dataframe thead th {\n",
       "        text-align: right;\n",
       "    }\n",
       "</style>\n",
       "<table border=\"1\" class=\"dataframe\">\n",
       "  <thead>\n",
       "    <tr style=\"text-align: right;\">\n",
       "      <th></th>\n",
       "      <th>Incident Number</th>\n",
       "      <th>Incident Date Time</th>\n",
       "      <th>Incident Location</th>\n",
       "      <th>Officers Involved</th>\n",
       "      <th>Officers Race</th>\n",
       "      <th>Officers Ethnicity</th>\n",
       "      <th>Officers Sex</th>\n",
       "      <th>Officer Battered</th>\n",
       "      <th>Officer Injured</th>\n",
       "      <th>Officer Medical Treatment</th>\n",
       "      <th>...</th>\n",
       "      <th>Offenders Involved</th>\n",
       "      <th>Offenders Race</th>\n",
       "      <th>Offenders Ethnicity</th>\n",
       "      <th>Offenders Sex</th>\n",
       "      <th>Offender Arrested</th>\n",
       "      <th>Offender Injured</th>\n",
       "      <th>Offender Medical Treatment</th>\n",
       "      <th>Witnesses Involved</th>\n",
       "      <th>Status</th>\n",
       "      <th>Location</th>\n",
       "    </tr>\n",
       "  </thead>\n",
       "  <tbody>\n",
       "    <tr>\n",
       "      <th>0</th>\n",
       "      <td>2018-00079161</td>\n",
       "      <td>02/25/2018 10:23:00 PM</td>\n",
       "      <td>26TH / 15 LAWSONA BLV</td>\n",
       "      <td>1.0</td>\n",
       "      <td>W</td>\n",
       "      <td>NH</td>\n",
       "      <td>M</td>\n",
       "      <td>Yes</td>\n",
       "      <td>No</td>\n",
       "      <td>No</td>\n",
       "      <td>...</td>\n",
       "      <td>1.0</td>\n",
       "      <td>W</td>\n",
       "      <td>NH</td>\n",
       "      <td>M</td>\n",
       "      <td>Felony</td>\n",
       "      <td>Yes</td>\n",
       "      <td>Yes</td>\n",
       "      <td>0.0</td>\n",
       "      <td>Unmapped</td>\n",
       "      <td>NaN</td>\n",
       "    </tr>\n",
       "    <tr>\n",
       "      <th>1</th>\n",
       "      <td>2013-00544482</td>\n",
       "      <td>12/29/2013 11:02:00 PM</td>\n",
       "      <td>NaN</td>\n",
       "      <td>1.0</td>\n",
       "      <td>B</td>\n",
       "      <td>NH</td>\n",
       "      <td>M</td>\n",
       "      <td>No</td>\n",
       "      <td>No</td>\n",
       "      <td>No</td>\n",
       "      <td>...</td>\n",
       "      <td>0.0</td>\n",
       "      <td>U</td>\n",
       "      <td>NH</td>\n",
       "      <td>U</td>\n",
       "      <td>Not Arrested</td>\n",
       "      <td>No</td>\n",
       "      <td>No</td>\n",
       "      <td>0.0</td>\n",
       "      <td>Unmapped</td>\n",
       "      <td>NaN</td>\n",
       "    </tr>\n",
       "    <tr>\n",
       "      <th>2</th>\n",
       "      <td>2018-00478744</td>\n",
       "      <td>12/14/2018 08:17:00 AM</td>\n",
       "      <td>9200 Block of AIRPORT BV</td>\n",
       "      <td>1.0</td>\n",
       "      <td>W</td>\n",
       "      <td>NH</td>\n",
       "      <td>M</td>\n",
       "      <td>No</td>\n",
       "      <td>No</td>\n",
       "      <td>No</td>\n",
       "      <td>...</td>\n",
       "      <td>1.0</td>\n",
       "      <td>B</td>\n",
       "      <td>NH</td>\n",
       "      <td>M</td>\n",
       "      <td>Felony</td>\n",
       "      <td>No</td>\n",
       "      <td>No</td>\n",
       "      <td>0.0</td>\n",
       "      <td>Mapped</td>\n",
       "      <td>(28.43097505, -81.31134146)</td>\n",
       "    </tr>\n",
       "    <tr>\n",
       "      <th>3</th>\n",
       "      <td>2017-00316840</td>\n",
       "      <td>08/14/2017 01:50:00 AM</td>\n",
       "      <td>EW WBO / LONG ST</td>\n",
       "      <td>3.0</td>\n",
       "      <td>W;W;W</td>\n",
       "      <td>NH;NH;NH</td>\n",
       "      <td>M;M;M</td>\n",
       "      <td>No</td>\n",
       "      <td>No</td>\n",
       "      <td>No</td>\n",
       "      <td>...</td>\n",
       "      <td>1.0</td>\n",
       "      <td>B</td>\n",
       "      <td>NH</td>\n",
       "      <td>M</td>\n",
       "      <td>Misdemeanor</td>\n",
       "      <td>No</td>\n",
       "      <td>No</td>\n",
       "      <td>0.0</td>\n",
       "      <td>U</td>\n",
       "      <td>NaN</td>\n",
       "    </tr>\n",
       "    <tr>\n",
       "      <th>4</th>\n",
       "      <td>IncidentNumber</td>\n",
       "      <td>NaN</td>\n",
       "      <td>IncidentLocation</td>\n",
       "      <td>NaN</td>\n",
       "      <td>OfficersRace</td>\n",
       "      <td>OfficersEthnicity</td>\n",
       "      <td>OfficersSex</td>\n",
       "      <td>OfficerBattered</td>\n",
       "      <td>OfficerInjured</td>\n",
       "      <td>OfficerMedicalTreatment</td>\n",
       "      <td>...</td>\n",
       "      <td>NaN</td>\n",
       "      <td>OffendersRace</td>\n",
       "      <td>OffendersEthnicity</td>\n",
       "      <td>OffendersSex</td>\n",
       "      <td>OffenderArrested</td>\n",
       "      <td>OffenderInjured</td>\n",
       "      <td>OffenderMedicalTreatment</td>\n",
       "      <td>NaN</td>\n",
       "      <td>Status</td>\n",
       "      <td>NaN</td>\n",
       "    </tr>\n",
       "  </tbody>\n",
       "</table>\n",
       "<p>5 rows × 27 columns</p>\n",
       "</div>"
      ],
      "text/plain": [
       "  Incident Number      Incident Date Time         Incident Location  \\\n",
       "0   2018-00079161  02/25/2018 10:23:00 PM     26TH / 15 LAWSONA BLV   \n",
       "1   2013-00544482  12/29/2013 11:02:00 PM                       NaN   \n",
       "2   2018-00478744  12/14/2018 08:17:00 AM  9200 Block of AIRPORT BV   \n",
       "3   2017-00316840  08/14/2017 01:50:00 AM          EW WBO / LONG ST   \n",
       "4  IncidentNumber                     NaN          IncidentLocation   \n",
       "\n",
       "   Officers Involved Officers Race Officers Ethnicity Officers Sex  \\\n",
       "0                1.0             W                 NH            M   \n",
       "1                1.0             B                 NH            M   \n",
       "2                1.0             W                 NH            M   \n",
       "3                3.0         W;W;W           NH;NH;NH        M;M;M   \n",
       "4                NaN  OfficersRace  OfficersEthnicity  OfficersSex   \n",
       "\n",
       "  Officer Battered Officer Injured Officer Medical Treatment  ...  \\\n",
       "0              Yes              No                        No  ...   \n",
       "1               No              No                        No  ...   \n",
       "2               No              No                        No  ...   \n",
       "3               No              No                        No  ...   \n",
       "4  OfficerBattered  OfficerInjured   OfficerMedicalTreatment  ...   \n",
       "\n",
       "  Offenders Involved Offenders Race Offenders Ethnicity Offenders Sex  \\\n",
       "0                1.0              W                  NH             M   \n",
       "1                0.0              U                  NH             U   \n",
       "2                1.0              B                  NH             M   \n",
       "3                1.0              B                  NH             M   \n",
       "4                NaN  OffendersRace  OffendersEthnicity  OffendersSex   \n",
       "\n",
       "  Offender Arrested Offender Injured Offender Medical Treatment  \\\n",
       "0            Felony              Yes                        Yes   \n",
       "1      Not Arrested               No                         No   \n",
       "2            Felony               No                         No   \n",
       "3       Misdemeanor               No                         No   \n",
       "4  OffenderArrested  OffenderInjured   OffenderMedicalTreatment   \n",
       "\n",
       "   Witnesses Involved    Status                     Location  \n",
       "0                 0.0  Unmapped                          NaN  \n",
       "1                 0.0  Unmapped                          NaN  \n",
       "2                 0.0    Mapped  (28.43097505, -81.31134146)  \n",
       "3                 0.0         U                          NaN  \n",
       "4                 NaN    Status                          NaN  \n",
       "\n",
       "[5 rows x 27 columns]"
      ]
     },
     "execution_count": 4,
     "metadata": {},
     "output_type": "execute_result"
    }
   ],
   "source": [
    "orlando_police_df = pd.read_csv(\"../_data/OPD_Response_To_Resistance.csv\")\n",
    "orlando_police_df.head()"
   ]
  },
  {
   "cell_type": "markdown",
   "metadata": {},
   "source": [
    "Now that we have the police data, we now want to load census data containing racial demographic information for each city. One great feature of <a href='https://www.census.gov/'>census.gov</a> is that it allows users to compare multiple cities on a single table side-by-side. Not only can create a <a href='https://www.census.gov/quickfacts/fact/table/orlandocityflorida,neworleanscitylouisiana,austincitytexas/LND110210'>side-by-side table</a> to compare the racial demographics on the website, but we can easily extract this table from the URL into a Pandas DataFrame.\n",
    "\n",
    "To do this, we can use ```requests.get()``` from the library we imported, to send a GET request (a request to get the information from a website) to the side-by-side table URL that we will pass as a paramater."
   ]
  },
  {
   "cell_type": "code",
   "execution_count": 5,
   "metadata": {},
   "outputs": [],
   "source": [
    "r = requests.get('https://www.census.gov/quickfacts/fact/table/orlandocityflorida,neworleanscitylouisiana,austincitytexas/LND110210')"
   ]
  },
  {
   "cell_type": "markdown",
   "metadata": {},
   "source": [
    "To test that the GET request was successful, we can use ```r.status_code()```. If the status code is 200, that means the request has succeeded."
   ]
  },
  {
   "cell_type": "code",
   "execution_count": 6,
   "metadata": {},
   "outputs": [
    {
     "data": {
      "text/plain": [
       "200"
      ]
     },
     "execution_count": 6,
     "metadata": {},
     "output_type": "execute_result"
    }
   ],
   "source": [
    "r.status_code"
   ]
  },
  {
   "cell_type": "markdown",
   "metadata": {},
   "source": [
    "To load the side-by-side table into the URL, we can use ```pd.read_html()```, where we pass in the content of the URL. If we take the 2nd element (1st index) of the result, we will get the entire table from the website, which we can tidy in the next step."
   ]
  },
  {
   "cell_type": "code",
   "execution_count": 7,
   "metadata": {},
   "outputs": [
    {
     "data": {
      "text/html": [
       "<div>\n",
       "<style scoped>\n",
       "    .dataframe tbody tr th:only-of-type {\n",
       "        vertical-align: middle;\n",
       "    }\n",
       "\n",
       "    .dataframe tbody tr th {\n",
       "        vertical-align: top;\n",
       "    }\n",
       "\n",
       "    .dataframe thead th {\n",
       "        text-align: right;\n",
       "    }\n",
       "</style>\n",
       "<table border=\"1\" class=\"dataframe\">\n",
       "  <thead>\n",
       "    <tr style=\"text-align: right;\">\n",
       "      <th></th>\n",
       "      <th>Population</th>\n",
       "      <th>Unnamed: 1</th>\n",
       "      <th>Unnamed: 2</th>\n",
       "      <th>Unnamed: 3</th>\n",
       "    </tr>\n",
       "  </thead>\n",
       "  <tbody>\n",
       "    <tr>\n",
       "      <th>0</th>\n",
       "      <td>Population estimates, July 1, 2019, (V2019)</td>\n",
       "      <td>287442</td>\n",
       "      <td>390144</td>\n",
       "      <td>978908</td>\n",
       "    </tr>\n",
       "    <tr>\n",
       "      <th>1</th>\n",
       "      <td>Population estimates base, April 1, 2010, (V2019)</td>\n",
       "      <td>238836</td>\n",
       "      <td>343828</td>\n",
       "      <td>801829</td>\n",
       "    </tr>\n",
       "    <tr>\n",
       "      <th>2</th>\n",
       "      <td>Population, percent change - April 1, 2010 (es...</td>\n",
       "      <td>20.4%</td>\n",
       "      <td>13.5%</td>\n",
       "      <td>22.1%</td>\n",
       "    </tr>\n",
       "    <tr>\n",
       "      <th>3</th>\n",
       "      <td>Population, Census, April 1, 2020</td>\n",
       "      <td>307573</td>\n",
       "      <td>383997</td>\n",
       "      <td>961855</td>\n",
       "    </tr>\n",
       "    <tr>\n",
       "      <th>4</th>\n",
       "      <td>Population, Census, April 1, 2010</td>\n",
       "      <td>238300</td>\n",
       "      <td>343829</td>\n",
       "      <td>790390</td>\n",
       "    </tr>\n",
       "    <tr>\n",
       "      <th>5</th>\n",
       "      <td>Age and Sex</td>\n",
       "      <td>NaN</td>\n",
       "      <td>NaN</td>\n",
       "      <td>NaN</td>\n",
       "    </tr>\n",
       "    <tr>\n",
       "      <th>6</th>\n",
       "      <td>Persons under 5 years, percent</td>\n",
       "      <td> 6.7%</td>\n",
       "      <td> 5.9%</td>\n",
       "      <td> 6.4%</td>\n",
       "    </tr>\n",
       "    <tr>\n",
       "      <th>7</th>\n",
       "      <td>Persons under 18 years, percent</td>\n",
       "      <td> 21.1%</td>\n",
       "      <td> 20.1%</td>\n",
       "      <td> 20.4%</td>\n",
       "    </tr>\n",
       "    <tr>\n",
       "      <th>8</th>\n",
       "      <td>Persons 65 years and over, percent</td>\n",
       "      <td> 10.2%</td>\n",
       "      <td> 14.1%</td>\n",
       "      <td> 8.9%</td>\n",
       "    </tr>\n",
       "    <tr>\n",
       "      <th>9</th>\n",
       "      <td>Female persons, percent</td>\n",
       "      <td> 52.0%</td>\n",
       "      <td> 52.5%</td>\n",
       "      <td> 49.2%</td>\n",
       "    </tr>\n",
       "    <tr>\n",
       "      <th>10</th>\n",
       "      <td>Race and Hispanic Origin</td>\n",
       "      <td>NaN</td>\n",
       "      <td>NaN</td>\n",
       "      <td>NaN</td>\n",
       "    </tr>\n",
       "    <tr>\n",
       "      <th>11</th>\n",
       "      <td>White alone, percent</td>\n",
       "      <td> 61.3%</td>\n",
       "      <td> 33.9%</td>\n",
       "      <td> 72.6%</td>\n",
       "    </tr>\n",
       "    <tr>\n",
       "      <th>12</th>\n",
       "      <td>Black or African American alone, percent(a)</td>\n",
       "      <td> 24.5%</td>\n",
       "      <td> 59.5%</td>\n",
       "      <td> 7.8%</td>\n",
       "    </tr>\n",
       "    <tr>\n",
       "      <th>13</th>\n",
       "      <td>American Indian and Alaska Native alone, perce...</td>\n",
       "      <td> 0.2%</td>\n",
       "      <td> 0.2%</td>\n",
       "      <td> 0.7%</td>\n",
       "    </tr>\n",
       "    <tr>\n",
       "      <th>14</th>\n",
       "      <td>Asian alone, percent(a)</td>\n",
       "      <td> 4.2%</td>\n",
       "      <td> 2.9%</td>\n",
       "      <td> 7.6%</td>\n",
       "    </tr>\n",
       "    <tr>\n",
       "      <th>15</th>\n",
       "      <td>Native Hawaiian and Other Pacific Islander alo...</td>\n",
       "      <td> 0.0%</td>\n",
       "      <td> 0.0%</td>\n",
       "      <td> 0.1%</td>\n",
       "    </tr>\n",
       "    <tr>\n",
       "      <th>16</th>\n",
       "      <td>Two or More Races, percent</td>\n",
       "      <td> 3.5%</td>\n",
       "      <td> 1.9%</td>\n",
       "      <td> 3.5%</td>\n",
       "    </tr>\n",
       "    <tr>\n",
       "      <th>17</th>\n",
       "      <td>Hispanic or Latino, percent(b)</td>\n",
       "      <td> 32.6%</td>\n",
       "      <td> 5.5%</td>\n",
       "      <td> 33.9%</td>\n",
       "    </tr>\n",
       "    <tr>\n",
       "      <th>18</th>\n",
       "      <td>White alone, not Hispanic or Latino, percent</td>\n",
       "      <td> 36.5%</td>\n",
       "      <td> 30.7%</td>\n",
       "      <td> 48.3%</td>\n",
       "    </tr>\n",
       "    <tr>\n",
       "      <th>19</th>\n",
       "      <td>Population Characteristics</td>\n",
       "      <td>NaN</td>\n",
       "      <td>NaN</td>\n",
       "      <td>NaN</td>\n",
       "    </tr>\n",
       "  </tbody>\n",
       "</table>\n",
       "</div>"
      ],
      "text/plain": [
       "                                           Population Unnamed: 1 Unnamed: 2  \\\n",
       "0         Population estimates, July 1, 2019, (V2019)     287442     390144   \n",
       "1   Population estimates base, April 1, 2010, (V2019)     238836     343828   \n",
       "2   Population, percent change - April 1, 2010 (es...      20.4%      13.5%   \n",
       "3                   Population, Census, April 1, 2020     307573     383997   \n",
       "4                   Population, Census, April 1, 2010     238300     343829   \n",
       "5                                         Age and Sex        NaN        NaN   \n",
       "6                      Persons under 5 years, percent     6.7%     5.9%   \n",
       "7                     Persons under 18 years, percent    21.1%    20.1%   \n",
       "8                  Persons 65 years and over, percent    10.2%    14.1%   \n",
       "9                             Female persons, percent    52.0%    52.5%   \n",
       "10                           Race and Hispanic Origin        NaN        NaN   \n",
       "11                               White alone, percent    61.3%    33.9%   \n",
       "12        Black or African American alone, percent(a)    24.5%    59.5%   \n",
       "13  American Indian and Alaska Native alone, perce...     0.2%     0.2%   \n",
       "14                            Asian alone, percent(a)     4.2%     2.9%   \n",
       "15  Native Hawaiian and Other Pacific Islander alo...     0.0%     0.0%   \n",
       "16                         Two or More Races, percent     3.5%     1.9%   \n",
       "17                     Hispanic or Latino, percent(b)    32.6%     5.5%   \n",
       "18       White alone, not Hispanic or Latino, percent    36.5%    30.7%   \n",
       "19                         Population Characteristics        NaN        NaN   \n",
       "\n",
       "   Unnamed: 3  \n",
       "0      978908  \n",
       "1      801829  \n",
       "2       22.1%  \n",
       "3      961855  \n",
       "4      790390  \n",
       "5         NaN  \n",
       "6      6.4%  \n",
       "7     20.4%  \n",
       "8      8.9%  \n",
       "9     49.2%  \n",
       "10        NaN  \n",
       "11    72.6%  \n",
       "12     7.8%  \n",
       "13     0.7%  \n",
       "14     7.6%  \n",
       "15     0.1%  \n",
       "16     3.5%  \n",
       "17    33.9%  \n",
       "18    48.3%  \n",
       "19        NaN  "
      ]
     },
     "execution_count": 7,
     "metadata": {},
     "output_type": "execute_result"
    }
   ],
   "source": [
    "demographic_df = pd.read_html(r.content)[1]\n",
    "demographic_df.head(20)"
   ]
  },
  {
   "cell_type": "markdown",
   "metadata": {},
   "source": [
    "<h4> Transformation </h4>"
   ]
  },
  {
   "cell_type": "markdown",
   "metadata": {},
   "source": [
    "Now that we have extracted and loaded all of the data we need for this project, now we need to transform all of the data, by tidying it, to make it useful for the rest of the project.\n",
    "\n",
    "We can first tidy the demographic DataFrame by keeping the rows that rows that relate to <b>Race and Hispanic Origin</b>, then renaming the columns. we will call the <b>Race and Hispanic Origin</b> column <b>Ethnicity</b> to remain consistent with the other websites."
   ]
  },
  {
   "cell_type": "code",
   "execution_count": 8,
   "metadata": {},
   "outputs": [
    {
     "data": {
      "text/html": [
       "<div>\n",
       "<style scoped>\n",
       "    .dataframe tbody tr th:only-of-type {\n",
       "        vertical-align: middle;\n",
       "    }\n",
       "\n",
       "    .dataframe tbody tr th {\n",
       "        vertical-align: top;\n",
       "    }\n",
       "\n",
       "    .dataframe thead th {\n",
       "        text-align: right;\n",
       "    }\n",
       "</style>\n",
       "<table border=\"1\" class=\"dataframe\">\n",
       "  <thead>\n",
       "    <tr style=\"text-align: right;\">\n",
       "      <th></th>\n",
       "      <th>Ethnicity</th>\n",
       "      <th>Orlando</th>\n",
       "      <th>New Orleans</th>\n",
       "      <th>Austin</th>\n",
       "    </tr>\n",
       "  </thead>\n",
       "  <tbody>\n",
       "    <tr>\n",
       "      <th>11</th>\n",
       "      <td>White alone, percent</td>\n",
       "      <td> 61.3%</td>\n",
       "      <td> 33.9%</td>\n",
       "      <td> 72.6%</td>\n",
       "    </tr>\n",
       "    <tr>\n",
       "      <th>12</th>\n",
       "      <td>Black or African American alone, percent(a)</td>\n",
       "      <td> 24.5%</td>\n",
       "      <td> 59.5%</td>\n",
       "      <td> 7.8%</td>\n",
       "    </tr>\n",
       "    <tr>\n",
       "      <th>13</th>\n",
       "      <td>American Indian and Alaska Native alone, perce...</td>\n",
       "      <td> 0.2%</td>\n",
       "      <td> 0.2%</td>\n",
       "      <td> 0.7%</td>\n",
       "    </tr>\n",
       "    <tr>\n",
       "      <th>14</th>\n",
       "      <td>Asian alone, percent(a)</td>\n",
       "      <td> 4.2%</td>\n",
       "      <td> 2.9%</td>\n",
       "      <td> 7.6%</td>\n",
       "    </tr>\n",
       "    <tr>\n",
       "      <th>15</th>\n",
       "      <td>Native Hawaiian and Other Pacific Islander alo...</td>\n",
       "      <td> 0.0%</td>\n",
       "      <td> 0.0%</td>\n",
       "      <td> 0.1%</td>\n",
       "    </tr>\n",
       "    <tr>\n",
       "      <th>16</th>\n",
       "      <td>Two or More Races, percent</td>\n",
       "      <td> 3.5%</td>\n",
       "      <td> 1.9%</td>\n",
       "      <td> 3.5%</td>\n",
       "    </tr>\n",
       "    <tr>\n",
       "      <th>17</th>\n",
       "      <td>Hispanic or Latino, percent(b)</td>\n",
       "      <td> 32.6%</td>\n",
       "      <td> 5.5%</td>\n",
       "      <td> 33.9%</td>\n",
       "    </tr>\n",
       "  </tbody>\n",
       "</table>\n",
       "</div>"
      ],
      "text/plain": [
       "                                            Ethnicity   Orlando New Orleans  \\\n",
       "11                               White alone, percent   61.3%     33.9%   \n",
       "12        Black or African American alone, percent(a)   24.5%     59.5%   \n",
       "13  American Indian and Alaska Native alone, perce...    0.2%      0.2%   \n",
       "14                            Asian alone, percent(a)    4.2%      2.9%   \n",
       "15  Native Hawaiian and Other Pacific Islander alo...    0.0%      0.0%   \n",
       "16                         Two or More Races, percent    3.5%      1.9%   \n",
       "17                     Hispanic or Latino, percent(b)   32.6%      5.5%   \n",
       "\n",
       "      Austin  \n",
       "11   72.6%  \n",
       "12    7.8%  \n",
       "13    0.7%  \n",
       "14    7.6%  \n",
       "15    0.1%  \n",
       "16    3.5%  \n",
       "17   33.9%  "
      ]
     },
     "execution_count": 8,
     "metadata": {},
     "output_type": "execute_result"
    }
   ],
   "source": [
    "demographic_df = demographic_df.loc[11:17].copy()\n",
    "demographic_df = demographic_df.rename(columns={'Population' : 'Ethnicity', 'Unnamed: 1' : 'Orlando', 'Unnamed: 2' : 'New Orleans', 'Unnamed: 3' : 'Austin'})\n",
    "demographic_df"
   ]
  },
  {
   "cell_type": "markdown",
   "metadata": {},
   "source": [
    "Next, we need to remove the symbols in front of the numbers of each column. We can do this by slicing each cell in the city columns. The result is a clean looking DataFrame without the symbols."
   ]
  },
  {
   "cell_type": "code",
   "execution_count": 9,
   "metadata": {},
   "outputs": [
    {
     "data": {
      "text/html": [
       "<div>\n",
       "<style scoped>\n",
       "    .dataframe tbody tr th:only-of-type {\n",
       "        vertical-align: middle;\n",
       "    }\n",
       "\n",
       "    .dataframe tbody tr th {\n",
       "        vertical-align: top;\n",
       "    }\n",
       "\n",
       "    .dataframe thead th {\n",
       "        text-align: right;\n",
       "    }\n",
       "</style>\n",
       "<table border=\"1\" class=\"dataframe\">\n",
       "  <thead>\n",
       "    <tr style=\"text-align: right;\">\n",
       "      <th></th>\n",
       "      <th>Ethnicity</th>\n",
       "      <th>Orlando</th>\n",
       "      <th>New Orleans</th>\n",
       "      <th>Austin</th>\n",
       "    </tr>\n",
       "  </thead>\n",
       "  <tbody>\n",
       "    <tr>\n",
       "      <th>11</th>\n",
       "      <td>White alone, percent</td>\n",
       "      <td>61.3%</td>\n",
       "      <td>33.9%</td>\n",
       "      <td>72.6%</td>\n",
       "    </tr>\n",
       "    <tr>\n",
       "      <th>12</th>\n",
       "      <td>Black or African American alone, percent(a)</td>\n",
       "      <td>24.5%</td>\n",
       "      <td>59.5%</td>\n",
       "      <td>7.8%</td>\n",
       "    </tr>\n",
       "    <tr>\n",
       "      <th>13</th>\n",
       "      <td>American Indian and Alaska Native alone, perce...</td>\n",
       "      <td>0.2%</td>\n",
       "      <td>0.2%</td>\n",
       "      <td>0.7%</td>\n",
       "    </tr>\n",
       "    <tr>\n",
       "      <th>14</th>\n",
       "      <td>Asian alone, percent(a)</td>\n",
       "      <td>4.2%</td>\n",
       "      <td>2.9%</td>\n",
       "      <td>7.6%</td>\n",
       "    </tr>\n",
       "    <tr>\n",
       "      <th>15</th>\n",
       "      <td>Native Hawaiian and Other Pacific Islander alo...</td>\n",
       "      <td>0.0%</td>\n",
       "      <td>0.0%</td>\n",
       "      <td>0.1%</td>\n",
       "    </tr>\n",
       "    <tr>\n",
       "      <th>16</th>\n",
       "      <td>Two or More Races, percent</td>\n",
       "      <td>3.5%</td>\n",
       "      <td>1.9%</td>\n",
       "      <td>3.5%</td>\n",
       "    </tr>\n",
       "    <tr>\n",
       "      <th>17</th>\n",
       "      <td>Hispanic or Latino, percent(b)</td>\n",
       "      <td>32.6%</td>\n",
       "      <td>5.5%</td>\n",
       "      <td>33.9%</td>\n",
       "    </tr>\n",
       "  </tbody>\n",
       "</table>\n",
       "</div>"
      ],
      "text/plain": [
       "                                            Ethnicity Orlando New Orleans  \\\n",
       "11                               White alone, percent   61.3%       33.9%   \n",
       "12        Black or African American alone, percent(a)   24.5%       59.5%   \n",
       "13  American Indian and Alaska Native alone, perce...    0.2%        0.2%   \n",
       "14                            Asian alone, percent(a)    4.2%        2.9%   \n",
       "15  Native Hawaiian and Other Pacific Islander alo...    0.0%        0.0%   \n",
       "16                         Two or More Races, percent    3.5%        1.9%   \n",
       "17                     Hispanic or Latino, percent(b)   32.6%        5.5%   \n",
       "\n",
       "   Austin  \n",
       "11  72.6%  \n",
       "12   7.8%  \n",
       "13   0.7%  \n",
       "14   7.6%  \n",
       "15   0.1%  \n",
       "16   3.5%  \n",
       "17  33.9%  "
      ]
     },
     "execution_count": 9,
     "metadata": {},
     "output_type": "execute_result"
    }
   ],
   "source": [
    "demographic_df['Orlando'] = demographic_df['Orlando'].str[3:]\n",
    "demographic_df['New Orleans'] = demographic_df['New Orleans'].str[3:]\n",
    "demographic_df['Austin'] = demographic_df['Austin'].str[3:]\n",
    "\n",
    "demographic_df"
   ]
  },
  {
   "cell_type": "markdown",
   "metadata": {},
   "source": [
    "We should next slice out the percent sign from each column, convert the numbers into numeric types, then divide the result by 100 to return each value into a proportion."
   ]
  },
  {
   "cell_type": "code",
   "execution_count": 10,
   "metadata": {},
   "outputs": [
    {
     "data": {
      "text/html": [
       "<div>\n",
       "<style scoped>\n",
       "    .dataframe tbody tr th:only-of-type {\n",
       "        vertical-align: middle;\n",
       "    }\n",
       "\n",
       "    .dataframe tbody tr th {\n",
       "        vertical-align: top;\n",
       "    }\n",
       "\n",
       "    .dataframe thead th {\n",
       "        text-align: right;\n",
       "    }\n",
       "</style>\n",
       "<table border=\"1\" class=\"dataframe\">\n",
       "  <thead>\n",
       "    <tr style=\"text-align: right;\">\n",
       "      <th></th>\n",
       "      <th>Ethnicity</th>\n",
       "      <th>Orlando</th>\n",
       "      <th>New Orleans</th>\n",
       "      <th>Austin</th>\n",
       "    </tr>\n",
       "  </thead>\n",
       "  <tbody>\n",
       "    <tr>\n",
       "      <th>11</th>\n",
       "      <td>White alone, percent</td>\n",
       "      <td>0.613</td>\n",
       "      <td>0.339</td>\n",
       "      <td>0.726</td>\n",
       "    </tr>\n",
       "    <tr>\n",
       "      <th>12</th>\n",
       "      <td>Black or African American alone, percent(a)</td>\n",
       "      <td>0.245</td>\n",
       "      <td>0.595</td>\n",
       "      <td>0.078</td>\n",
       "    </tr>\n",
       "    <tr>\n",
       "      <th>13</th>\n",
       "      <td>American Indian and Alaska Native alone, perce...</td>\n",
       "      <td>0.002</td>\n",
       "      <td>0.002</td>\n",
       "      <td>0.007</td>\n",
       "    </tr>\n",
       "    <tr>\n",
       "      <th>14</th>\n",
       "      <td>Asian alone, percent(a)</td>\n",
       "      <td>0.042</td>\n",
       "      <td>0.029</td>\n",
       "      <td>0.076</td>\n",
       "    </tr>\n",
       "    <tr>\n",
       "      <th>15</th>\n",
       "      <td>Native Hawaiian and Other Pacific Islander alo...</td>\n",
       "      <td>0.000</td>\n",
       "      <td>0.000</td>\n",
       "      <td>0.001</td>\n",
       "    </tr>\n",
       "    <tr>\n",
       "      <th>16</th>\n",
       "      <td>Two or More Races, percent</td>\n",
       "      <td>0.035</td>\n",
       "      <td>0.019</td>\n",
       "      <td>0.035</td>\n",
       "    </tr>\n",
       "    <tr>\n",
       "      <th>17</th>\n",
       "      <td>Hispanic or Latino, percent(b)</td>\n",
       "      <td>0.326</td>\n",
       "      <td>0.055</td>\n",
       "      <td>0.339</td>\n",
       "    </tr>\n",
       "  </tbody>\n",
       "</table>\n",
       "</div>"
      ],
      "text/plain": [
       "                                            Ethnicity  Orlando  New Orleans  \\\n",
       "11                               White alone, percent    0.613        0.339   \n",
       "12        Black or African American alone, percent(a)    0.245        0.595   \n",
       "13  American Indian and Alaska Native alone, perce...    0.002        0.002   \n",
       "14                            Asian alone, percent(a)    0.042        0.029   \n",
       "15  Native Hawaiian and Other Pacific Islander alo...    0.000        0.000   \n",
       "16                         Two or More Races, percent    0.035        0.019   \n",
       "17                     Hispanic or Latino, percent(b)    0.326        0.055   \n",
       "\n",
       "    Austin  \n",
       "11   0.726  \n",
       "12   0.078  \n",
       "13   0.007  \n",
       "14   0.076  \n",
       "15   0.001  \n",
       "16   0.035  \n",
       "17   0.339  "
      ]
     },
     "execution_count": 10,
     "metadata": {},
     "output_type": "execute_result"
    }
   ],
   "source": [
    "demographic_df['Orlando'] = demographic_df['Orlando'].str[:-1]\n",
    "demographic_df['Orlando'] = pd.to_numeric(demographic_df['Orlando'])\n",
    "demographic_df['Orlando'] = demographic_df['Orlando'] / 100\n",
    "\n",
    "demographic_df['New Orleans'] = demographic_df['New Orleans'].str[:-1]\n",
    "demographic_df['New Orleans'] = pd.to_numeric(demographic_df['New Orleans'])\n",
    "demographic_df['New Orleans'] = demographic_df['New Orleans'] / 100\n",
    "\n",
    "demographic_df['Austin'] = demographic_df['Austin'].str[:-1]\n",
    "demographic_df['Austin'] = pd.to_numeric(demographic_df['Austin'])\n",
    "demographic_df['Austin'] = demographic_df['Austin'] / 100\n",
    "\n",
    "demographic_df"
   ]
  },
  {
   "cell_type": "markdown",
   "metadata": {},
   "source": [
    "The last thing we should do to tidy this data is to map <b>Race and Hispanic Origin</b> into the following categories: Asian, Black, Hispanic, and White. We should do this because these are the categories for race/ethnicity in the Orlando DataFrame, whereas New Orleans and Austin provide more categories. Since Orlando has fewer categories for race/ethnicity than the rest of the data, we have to group the number of categories for race/ethnciity for the rest of the data. \n",
    "\n",
    "Since the city police data does not contain information on mixed individuals, we will exclude \"Two of more races\" from our demographic DataFrame. \n",
    "\n",
    "After mapping the Data, which will automatically any column we do not list as a key (in the mapping dictionary), we should use ```groupby()``` to group each of the categories, then sum the combined proprtions of each group. "
   ]
  },
  {
   "cell_type": "code",
   "execution_count": 11,
   "metadata": {},
   "outputs": [],
   "source": [
    "demographic_df[\"Ethnicity\"] = demographic_df[\"Ethnicity\"].map({\n",
    "    'White alone, percent': 'White',\n",
    "    'Black or African American alone, percent(a)': 'Black',\n",
    "    'American Indian and Alaska Native alone, percent(a)': 'Asian',\n",
    "    'Asian alone, percent(a)': 'Asian',\n",
    "    'Native Hawaiian and Other Pacific Islander alone, percent(a)': 'Asian',\n",
    "    'Hispanic or Latino, percent(b)': 'Hispanic'\n",
    "})\n",
    "\n",
    "demographic_df = demographic_df.groupby(\"Ethnicity\").sum()"
   ]
  },
  {
   "cell_type": "markdown",
   "metadata": {},
   "source": [
    "Lastly, we should normalize the values in our new categories so the proportions of each column add to 1."
   ]
  },
  {
   "cell_type": "code",
   "execution_count": 12,
   "metadata": {},
   "outputs": [],
   "source": [
    "demographic_df['Orlando'] = demographic_df['Orlando'] / demographic_df['Orlando'].sum()\n",
    "demographic_df['New Orleans'] = demographic_df['New Orleans'] / demographic_df['New Orleans'].sum()\n",
    "demographic_df['Austin'] = demographic_df['Austin'] / demographic_df['Austin'].sum()"
   ]
  },
  {
   "cell_type": "markdown",
   "metadata": {},
   "source": [
    "Now we can move onto the CSV files for each city. For each city, although almost all of the columns are informative, there are way more columns than we plan on using. We can tidy the data by only keeping the columns we plan on using."
   ]
  },
  {
   "cell_type": "code",
   "execution_count": 13,
   "metadata": {},
   "outputs": [],
   "source": [
    "nopd_df = nopd_df[['Subject Ethnicity', 'Subject Injured']]\n",
    "austin_police_df = austin_police_df[[\"Subject Race\", \"Subject Ethnicity\", \"Subject Effects\"]]\n",
    "orlando_police_df = orlando_police_df[[\"Offenders Race\", \"Offenders Ethnicity\", \"Offender Injured\"]]"
   ]
  },
  {
   "cell_type": "markdown",
   "metadata": {},
   "source": [
    "To keep Orlando consistent with New Orleans and Austin, we should rename the columns from <b>\"Offender\"</b> to <b>\"Subject\"</b>."
   ]
  },
  {
   "cell_type": "code",
   "execution_count": 14,
   "metadata": {},
   "outputs": [],
   "source": [
    "orlando_police_df = orlando_police_df.rename(columns={\n",
    "    \"Offenders Race\": \"Subject Race\",\n",
    "    \"Offenders Ethnicity\": \"Subject Ethnicity\",\n",
    "    \"Offender Injured\": \"Subject Injured\"\n",
    "})"
   ]
  },
  {
   "cell_type": "markdown",
   "metadata": {},
   "source": [
    "Now we can look at the heads of the new DataFrames."
   ]
  },
  {
   "cell_type": "code",
   "execution_count": 15,
   "metadata": {},
   "outputs": [
    {
     "data": {
      "text/html": [
       "<div>\n",
       "<style scoped>\n",
       "    .dataframe tbody tr th:only-of-type {\n",
       "        vertical-align: middle;\n",
       "    }\n",
       "\n",
       "    .dataframe tbody tr th {\n",
       "        vertical-align: top;\n",
       "    }\n",
       "\n",
       "    .dataframe thead th {\n",
       "        text-align: right;\n",
       "    }\n",
       "</style>\n",
       "<table border=\"1\" class=\"dataframe\">\n",
       "  <thead>\n",
       "    <tr style=\"text-align: right;\">\n",
       "      <th></th>\n",
       "      <th>Subject Race</th>\n",
       "      <th>Subject Ethnicity</th>\n",
       "      <th>Subject Effects</th>\n",
       "    </tr>\n",
       "  </thead>\n",
       "  <tbody>\n",
       "    <tr>\n",
       "      <th>0</th>\n",
       "      <td>W</td>\n",
       "      <td>N</td>\n",
       "      <td>NO COMPLAINT OF INJURY/PAIN</td>\n",
       "    </tr>\n",
       "    <tr>\n",
       "      <th>1</th>\n",
       "      <td>W</td>\n",
       "      <td>N</td>\n",
       "      <td>MINOR INJURY</td>\n",
       "    </tr>\n",
       "    <tr>\n",
       "      <th>2</th>\n",
       "      <td>W</td>\n",
       "      <td>N</td>\n",
       "      <td>NO COMPLAINT OF INJURY/PAIN</td>\n",
       "    </tr>\n",
       "    <tr>\n",
       "      <th>3</th>\n",
       "      <td>W</td>\n",
       "      <td>N</td>\n",
       "      <td>COMPLAINT OF INJURY/PAIN</td>\n",
       "    </tr>\n",
       "    <tr>\n",
       "      <th>4</th>\n",
       "      <td>W</td>\n",
       "      <td>N</td>\n",
       "      <td>COMPLAINT OF INJURY/PAIN</td>\n",
       "    </tr>\n",
       "  </tbody>\n",
       "</table>\n",
       "</div>"
      ],
      "text/plain": [
       "  Subject Race Subject Ethnicity              Subject Effects\n",
       "0            W                 N  NO COMPLAINT OF INJURY/PAIN\n",
       "1            W                 N                 MINOR INJURY\n",
       "2            W                 N  NO COMPLAINT OF INJURY/PAIN\n",
       "3            W                 N     COMPLAINT OF INJURY/PAIN\n",
       "4            W                 N     COMPLAINT OF INJURY/PAIN"
      ]
     },
     "execution_count": 15,
     "metadata": {},
     "output_type": "execute_result"
    }
   ],
   "source": [
    "austin_police_df.head()"
   ]
  },
  {
   "cell_type": "code",
   "execution_count": 16,
   "metadata": {},
   "outputs": [
    {
     "data": {
      "text/html": [
       "<div>\n",
       "<style scoped>\n",
       "    .dataframe tbody tr th:only-of-type {\n",
       "        vertical-align: middle;\n",
       "    }\n",
       "\n",
       "    .dataframe tbody tr th {\n",
       "        vertical-align: top;\n",
       "    }\n",
       "\n",
       "    .dataframe thead th {\n",
       "        text-align: right;\n",
       "    }\n",
       "</style>\n",
       "<table border=\"1\" class=\"dataframe\">\n",
       "  <thead>\n",
       "    <tr style=\"text-align: right;\">\n",
       "      <th></th>\n",
       "      <th>Subject Race</th>\n",
       "      <th>Subject Ethnicity</th>\n",
       "      <th>Subject Injured</th>\n",
       "    </tr>\n",
       "  </thead>\n",
       "  <tbody>\n",
       "    <tr>\n",
       "      <th>0</th>\n",
       "      <td>W</td>\n",
       "      <td>NH</td>\n",
       "      <td>Yes</td>\n",
       "    </tr>\n",
       "    <tr>\n",
       "      <th>1</th>\n",
       "      <td>U</td>\n",
       "      <td>NH</td>\n",
       "      <td>No</td>\n",
       "    </tr>\n",
       "    <tr>\n",
       "      <th>2</th>\n",
       "      <td>B</td>\n",
       "      <td>NH</td>\n",
       "      <td>No</td>\n",
       "    </tr>\n",
       "    <tr>\n",
       "      <th>3</th>\n",
       "      <td>B</td>\n",
       "      <td>NH</td>\n",
       "      <td>No</td>\n",
       "    </tr>\n",
       "    <tr>\n",
       "      <th>4</th>\n",
       "      <td>OffendersRace</td>\n",
       "      <td>OffendersEthnicity</td>\n",
       "      <td>OffenderInjured</td>\n",
       "    </tr>\n",
       "  </tbody>\n",
       "</table>\n",
       "</div>"
      ],
      "text/plain": [
       "    Subject Race   Subject Ethnicity  Subject Injured\n",
       "0              W                  NH              Yes\n",
       "1              U                  NH               No\n",
       "2              B                  NH               No\n",
       "3              B                  NH               No\n",
       "4  OffendersRace  OffendersEthnicity  OffenderInjured"
      ]
     },
     "execution_count": 16,
     "metadata": {},
     "output_type": "execute_result"
    }
   ],
   "source": [
    "orlando_police_df.head()"
   ]
  },
  {
   "cell_type": "code",
   "execution_count": 17,
   "metadata": {},
   "outputs": [
    {
     "data": {
      "text/html": [
       "<div>\n",
       "<style scoped>\n",
       "    .dataframe tbody tr th:only-of-type {\n",
       "        vertical-align: middle;\n",
       "    }\n",
       "\n",
       "    .dataframe tbody tr th {\n",
       "        vertical-align: top;\n",
       "    }\n",
       "\n",
       "    .dataframe thead th {\n",
       "        text-align: right;\n",
       "    }\n",
       "</style>\n",
       "<table border=\"1\" class=\"dataframe\">\n",
       "  <thead>\n",
       "    <tr style=\"text-align: right;\">\n",
       "      <th></th>\n",
       "      <th>Subject Ethnicity</th>\n",
       "      <th>Subject Injured</th>\n",
       "    </tr>\n",
       "  </thead>\n",
       "  <tbody>\n",
       "    <tr>\n",
       "      <th>0</th>\n",
       "      <td>Black</td>\n",
       "      <td>No</td>\n",
       "    </tr>\n",
       "    <tr>\n",
       "      <th>1</th>\n",
       "      <td>Black</td>\n",
       "      <td>No</td>\n",
       "    </tr>\n",
       "    <tr>\n",
       "      <th>2</th>\n",
       "      <td>Black</td>\n",
       "      <td>No</td>\n",
       "    </tr>\n",
       "    <tr>\n",
       "      <th>3</th>\n",
       "      <td>White | Black</td>\n",
       "      <td>Yes | Yes</td>\n",
       "    </tr>\n",
       "    <tr>\n",
       "      <th>4</th>\n",
       "      <td>White</td>\n",
       "      <td>Yes</td>\n",
       "    </tr>\n",
       "  </tbody>\n",
       "</table>\n",
       "</div>"
      ],
      "text/plain": [
       "  Subject Ethnicity Subject Injured\n",
       "0             Black              No\n",
       "1             Black              No\n",
       "2             Black              No\n",
       "3     White | Black       Yes | Yes\n",
       "4             White             Yes"
      ]
     },
     "execution_count": 17,
     "metadata": {},
     "output_type": "execute_result"
    }
   ],
   "source": [
    "nopd_df.head()"
   ]
  },
  {
   "cell_type": "markdown",
   "metadata": {},
   "source": [
    "If you look at the row matching to index 3 for the NOPD DataFrame, you can tell that <b>Subject Ethnicity</b> is \"White | Black\" and <b>Subject Injured</b> is \"Yes | Yes.\" This represents a NOPD Use of Force case involving two subjects. Where the first subject was white and was injured, and the second subject was black and injured. As shown below, there many rows involving more than two subjects."
   ]
  },
  {
   "cell_type": "code",
   "execution_count": 18,
   "metadata": {},
   "outputs": [
    {
     "data": {
      "text/plain": [
       "Black                                    1908\n",
       "White                                     333\n",
       "Black | Black                             183\n",
       "Black | Black | Black                      66\n",
       "Hispanic                                   56\n",
       "Black | Black | Black | Black              35\n",
       "White | White                              19\n",
       "Asian                                      14\n",
       "Black | Black | Black | Black | Black      13\n",
       "Black | White                              11\n",
       "Name: Subject Ethnicity, dtype: int64"
      ]
     },
     "execution_count": 18,
     "metadata": {},
     "output_type": "execute_result"
    }
   ],
   "source": [
    "nopd_df['Subject Ethnicity'].value_counts().head(10)"
   ]
  },
  {
   "cell_type": "markdown",
   "metadata": {},
   "source": [
    "We can write code to split rows with multiple subjects into separate rows by using ```.apply()```, which will apply the ```lamba``` function splitting entires delimited by the regular expression ```r'\\s*\\|\\s*'``` into multiple elements. We will use ```.explode()``` to transform the delimited elements into new rows.\n",
    "\n",
    "The result is a new row for each NOPD Use of Force case involving multiple subjects."
   ]
  },
  {
   "cell_type": "code",
   "execution_count": 19,
   "metadata": {},
   "outputs": [
    {
     "data": {
      "text/html": [
       "<div>\n",
       "<style scoped>\n",
       "    .dataframe tbody tr th:only-of-type {\n",
       "        vertical-align: middle;\n",
       "    }\n",
       "\n",
       "    .dataframe tbody tr th {\n",
       "        vertical-align: top;\n",
       "    }\n",
       "\n",
       "    .dataframe thead th {\n",
       "        text-align: right;\n",
       "    }\n",
       "</style>\n",
       "<table border=\"1\" class=\"dataframe\">\n",
       "  <thead>\n",
       "    <tr style=\"text-align: right;\">\n",
       "      <th></th>\n",
       "      <th>Subject Ethnicity</th>\n",
       "      <th>Subject Injured</th>\n",
       "    </tr>\n",
       "  </thead>\n",
       "  <tbody>\n",
       "    <tr>\n",
       "      <th>0</th>\n",
       "      <td>Black</td>\n",
       "      <td>No</td>\n",
       "    </tr>\n",
       "    <tr>\n",
       "      <th>1</th>\n",
       "      <td>Black</td>\n",
       "      <td>No</td>\n",
       "    </tr>\n",
       "    <tr>\n",
       "      <th>2</th>\n",
       "      <td>Black</td>\n",
       "      <td>No</td>\n",
       "    </tr>\n",
       "    <tr>\n",
       "      <th>3</th>\n",
       "      <td>White</td>\n",
       "      <td>Yes</td>\n",
       "    </tr>\n",
       "    <tr>\n",
       "      <th>3</th>\n",
       "      <td>Black</td>\n",
       "      <td>Yes</td>\n",
       "    </tr>\n",
       "    <tr>\n",
       "      <th>4</th>\n",
       "      <td>White</td>\n",
       "      <td>Yes</td>\n",
       "    </tr>\n",
       "  </tbody>\n",
       "</table>\n",
       "</div>"
      ],
      "text/plain": [
       "  Subject Ethnicity Subject Injured\n",
       "0             Black              No\n",
       "1             Black              No\n",
       "2             Black              No\n",
       "3             White             Yes\n",
       "3             Black             Yes\n",
       "4             White             Yes"
      ]
     },
     "execution_count": 19,
     "metadata": {},
     "output_type": "execute_result"
    }
   ],
   "source": [
    "nopd_df = nopd_df.apply(lambda col: col.str.split(r'\\s*\\|\\s*').explode())\n",
    "nopd_df.head(6)"
   ]
  },
  {
   "cell_type": "markdown",
   "metadata": {},
   "source": [
    "The Orlando Police Department also enters police encounters with multiple subjects into one row."
   ]
  },
  {
   "cell_type": "code",
   "execution_count": 20,
   "metadata": {},
   "outputs": [
    {
     "data": {
      "text/plain": [
       "B        2402\n",
       "W        1781\n",
       "U        1032\n",
       "B;B       140\n",
       "W;W       121\n",
       "U;U        30\n",
       "A          27\n",
       "B;W        26\n",
       "W;B        19\n",
       "B;B;B      12\n",
       "Name: Subject Race, dtype: int64"
      ]
     },
     "execution_count": 20,
     "metadata": {},
     "output_type": "execute_result"
    }
   ],
   "source": [
    "orlando_police_df['Subject Race'].value_counts().head(10)"
   ]
  },
  {
   "cell_type": "markdown",
   "metadata": {},
   "source": [
    "We can use the same code above for Orlando and Austin, except this time, the delimiter is a semicolon. We can use the same regular expression, substituting the pipe with the semicolon."
   ]
  },
  {
   "cell_type": "code",
   "execution_count": 21,
   "metadata": {},
   "outputs": [],
   "source": [
    "orlando_police_df = orlando_police_df.apply(lambda col: col.str.split(r'\\s*\\;\\s*').explode())"
   ]
  },
  {
   "cell_type": "code",
   "execution_count": 22,
   "metadata": {},
   "outputs": [
    {
     "data": {
      "text/plain": [
       "B                2825\n",
       "W                2157\n",
       "U                1145\n",
       "A                  27\n",
       "OffendersRace       2\n",
       "Name: Subject Race, dtype: int64"
      ]
     },
     "execution_count": 22,
     "metadata": {},
     "output_type": "execute_result"
    }
   ],
   "source": [
    "orlando_police_df['Subject Race'].value_counts()"
   ]
  },
  {
   "cell_type": "code",
   "execution_count": 23,
   "metadata": {},
   "outputs": [],
   "source": [
    "austin_police_df = austin_police_df.apply(lambda col: col.str.split(\"r'\\s*\\;\\s*'\").explode())"
   ]
  },
  {
   "cell_type": "code",
   "execution_count": 24,
   "metadata": {},
   "outputs": [
    {
     "data": {
      "text/plain": [
       "W    2116\n",
       "B     989\n",
       "A      20\n",
       "M       7\n",
       "U       5\n",
       "P       2\n",
       "I       1\n",
       "Name: Subject Race, dtype: int64"
      ]
     },
     "execution_count": 24,
     "metadata": {},
     "output_type": "execute_result"
    }
   ],
   "source": [
    "austin_police_df['Subject Race'].value_counts()"
   ]
  },
  {
   "cell_type": "markdown",
   "metadata": {},
   "source": [
    "Next, since the subject races/ethnicities were listed differently for each city, we need to map the <b>Suject Race</b> for each city in a consistent format. For Austin, we are excluding the seven mixed subjects since there is no information on mixed subjects for New Orleans or Orlando."
   ]
  },
  {
   "cell_type": "code",
   "execution_count": 25,
   "metadata": {},
   "outputs": [],
   "source": [
    "nopd_df[\"Subject Ethnicity\"] = nopd_df['Subject Ethnicity'].map({\n",
    "    \"Black\": \"Black\",\n",
    "    \"White\": \"White\",\n",
    "    \"W\": \"White\",\n",
    "    \"Asian\": \"Asian\",\n",
    "    \"Indian\": \"Asian\",\n",
    "    \"Hispanic\": \"Hispanic\",   \n",
    "})"
   ]
  },
  {
   "cell_type": "code",
   "execution_count": 26,
   "metadata": {},
   "outputs": [],
   "source": [
    "austin_police_df[\"Subject Race\"] = austin_police_df[\"Subject Race\"].map({\n",
    "    'W': 'White',\n",
    "    'B': 'Black',\n",
    "    'A': 'Asian',\n",
    "    'P': 'Asian',\n",
    "    'I': 'Asian'})"
   ]
  },
  {
   "cell_type": "code",
   "execution_count": 27,
   "metadata": {},
   "outputs": [],
   "source": [
    "orlando_police_df[\"Subject Race\"] = orlando_police_df[\"Subject Race\"].map({\n",
    "    'W': 'White',\n",
    "    'B': 'Black',\n",
    "    'A': 'Asian'\n",
    "    })"
   ]
  },
  {
   "cell_type": "markdown",
   "metadata": {},
   "source": [
    "Since Orlando and Austin have an additional column indicating whether or not the subject was Hispanic, whereas New Orleans had one column for race and ethnicity, we need to combine the <b>Subject Race</b> and <b>Subject Ethnicity</b> columns into one column. For Austin and Orlando's data, we can do that by converting the Subject's \"Race\" to Hispanic, based on whether their \"Ethnicity\" is listed as Hispanic, then setting the <b>Subject Ethnicity</b> values to the result of the <b>Subject Race</b> column."
   ]
  },
  {
   "cell_type": "code",
   "execution_count": 28,
   "metadata": {},
   "outputs": [],
   "source": [
    "austin_police_df.loc[austin_police_df['Subject Ethnicity'] == \"H\", 'Subject Race'] = \"Hispanic\"\n",
    "austin_police_df[\"Subject Ethnicity\"] = austin_police_df[\"Subject Race\"]\n",
    "del austin_police_df[\"Subject Race\"]"
   ]
  },
  {
   "cell_type": "code",
   "execution_count": 29,
   "metadata": {},
   "outputs": [],
   "source": [
    "orlando_police_df.loc[orlando_police_df['Subject Ethnicity'] == \"HI\", 'Subject Race'] = \"Hispanic\"\n",
    "orlando_police_df[\"Subject Ethnicity\"] = orlando_police_df[\"Subject Race\"]\n",
    "del orlando_police_df[\"Subject Race\"]"
   ]
  },
  {
   "cell_type": "markdown",
   "metadata": {},
   "source": [
    "The last transformation to perform on the data is in the <b>Subject Injured</b> column.\n",
    "This column for New Orleans requires no transformation, as shown below."
   ]
  },
  {
   "cell_type": "code",
   "execution_count": 30,
   "metadata": {},
   "outputs": [
    {
     "data": {
      "text/plain": [
       "No     2770\n",
       "Yes     623\n",
       "Name: Subject Injured, dtype: int64"
      ]
     },
     "execution_count": 30,
     "metadata": {},
     "output_type": "execute_result"
    }
   ],
   "source": [
    "nopd_df[\"Subject Injured\"].value_counts()"
   ]
  },
  {
   "cell_type": "markdown",
   "metadata": {},
   "source": [
    "Orlando requires a simple mapping to convert the two \"OffenderInjured\" values, as shown below into \"Yes.\""
   ]
  },
  {
   "cell_type": "code",
   "execution_count": 31,
   "metadata": {},
   "outputs": [
    {
     "data": {
      "text/plain": [
       "Yes                3237\n",
       "No                 2917\n",
       "OffenderInjured       2\n",
       "Name: Subject Injured, dtype: int64"
      ]
     },
     "execution_count": 31,
     "metadata": {},
     "output_type": "execute_result"
    }
   ],
   "source": [
    "orlando_police_df[\"Subject Injured\"].value_counts()"
   ]
  },
  {
   "cell_type": "code",
   "execution_count": 32,
   "metadata": {},
   "outputs": [],
   "source": [
    "orlando_police_df[\"Subject Injured\"] = orlando_police_df[\"Subject Injured\"].map({\n",
    "    \"Yes\" : \"Yes\",\n",
    "    \"No\": \"No\",\n",
    "    \"OffenderInjured\": \"Yes\"\n",
    "})"
   ]
  },
  {
   "cell_type": "markdown",
   "metadata": {},
   "source": [
    "The Austin DataFrame is more specific about the subject's injury status, as shown below."
   ]
  },
  {
   "cell_type": "code",
   "execution_count": 33,
   "metadata": {},
   "outputs": [
    {
     "data": {
      "text/plain": [
       "NO COMPLAINT OF INJURY/PAIN                                                1829\n",
       "MINOR INJURY                                                                659\n",
       "COMPLAINT OF INJURY/PAIN                                                    348\n",
       "COMPLAINT OF INJURY/PAIN BUT NONE OBSERVED                                  303\n",
       "MINOR INJURY; COMPLAINT OF INJURY/PAIN                                      102\n",
       "MINOR INJURY; NO COMPLAINT OF INJURY/PAIN                                    20\n",
       "SERIOUS INJURY                                                               10\n",
       "DEATH                                                                         9\n",
       "COMPLAINT OF INJURY/PAIN; COMPLAINT OF INJURY/PAIN BUT NONE OBSERVED          4\n",
       "COMPLAINT OF INJURY/PAIN BUT NONE OBSERVED; NO COMPLAINT OF INJURY/PAIN       3\n",
       "SERIOUS INJURY; COMPLAINT OF INJURY/PAIN                                      1\n",
       "MINOR INJURY; COMPLAINT OF INJURY/PAIN BUT NONE OBSERVED                      1\n",
       "SERIOUS INJURY; MINOR INJURY                                                  1\n",
       "Name: Subject Effects, dtype: int64"
      ]
     },
     "execution_count": 33,
     "metadata": {},
     "output_type": "execute_result"
    }
   ],
   "source": [
    "austin_police_df[\"Subject Effects\"].value_counts()"
   ]
  },
  {
   "cell_type": "markdown",
   "metadata": {},
   "source": [
    "Therefore, we have to map the results in this column indicating whether or not the subject was injured, applying the same criteria Orlando or New Orleans would use to classify if someone was injured or not, which is through the prospective of the officer.\n",
    "\n",
    "The biggest reason we want to do this is to keep Austin's data consistent with New Orleans and Orlando, but we are making a big assumption by classifying (as an example) \"COMPLAINT OF INJURY/PAIN BUT NONE OBSERVED\" as \"No\" in the new <b>Subject Injured</b> column."
   ]
  },
  {
   "cell_type": "code",
   "execution_count": 34,
   "metadata": {},
   "outputs": [],
   "source": [
    "austin_police_df['Subject Injured'] = austin_police_df['Subject Effects'].map({\n",
    "\"NO COMPLAINT OF INJURY/PAIN\": \"No\",\n",
    "\"MINOR INJURY\" : \"Yes\",\n",
    "\"COMPLAINT OF INJURY/PAIN\": \"Yes\",\n",
    "\"COMPLAINT OF INJURY/PAIN BUT NONE OBSERVED\" : \"No\",\n",
    "\"MINOR INJURY; COMPLAINT OF INJURY/PAIN\": \"Yes\",\n",
    "\"SERIOUS INJURY\": \"Yes\",\n",
    "\"DEATH\": \"Yes\",\n",
    "\"COMPLAINT OF INJURY/PAIN; COMPLAINT OF INJURY/PAIN BUT NONE OBSERVED\": \"No\",\n",
    "\"COMPLAINT OF INJURY/PAIN BUT NONE OBSERVED; NO COMPLAINT OF INJURY/PAIN\": \"Yes\",\n",
    "\"SERIOUS INJURY; MINOR INJURY\": \"Yes\",\n",
    "\"SERIOUS INJURY; COMPLAINT OF INJURY/PAIN\": \"Yes\",\n",
    "\"MINOR INJURY; COMPLAINT OF INJURY/PAIN BUT NONE OBSERVED\": \"Yes\"})\n",
    "del austin_police_df[\"Subject Effects\"]"
   ]
  },
  {
   "cell_type": "markdown",
   "metadata": {},
   "source": [
    "That concludes the transformation of the data. Below are the heads of all of the DataFrames. "
   ]
  },
  {
   "cell_type": "code",
   "execution_count": 35,
   "metadata": {},
   "outputs": [
    {
     "data": {
      "text/html": [
       "<div>\n",
       "<style scoped>\n",
       "    .dataframe tbody tr th:only-of-type {\n",
       "        vertical-align: middle;\n",
       "    }\n",
       "\n",
       "    .dataframe tbody tr th {\n",
       "        vertical-align: top;\n",
       "    }\n",
       "\n",
       "    .dataframe thead th {\n",
       "        text-align: right;\n",
       "    }\n",
       "</style>\n",
       "<table border=\"1\" class=\"dataframe\">\n",
       "  <thead>\n",
       "    <tr style=\"text-align: right;\">\n",
       "      <th></th>\n",
       "      <th>Orlando</th>\n",
       "      <th>New Orleans</th>\n",
       "      <th>Austin</th>\n",
       "    </tr>\n",
       "    <tr>\n",
       "      <th>Ethnicity</th>\n",
       "      <th></th>\n",
       "      <th></th>\n",
       "      <th></th>\n",
       "    </tr>\n",
       "  </thead>\n",
       "  <tbody>\n",
       "    <tr>\n",
       "      <th>Asian</th>\n",
       "      <td>0.035831</td>\n",
       "      <td>0.030392</td>\n",
       "      <td>0.068460</td>\n",
       "    </tr>\n",
       "    <tr>\n",
       "      <th>Black</th>\n",
       "      <td>0.199511</td>\n",
       "      <td>0.583333</td>\n",
       "      <td>0.063570</td>\n",
       "    </tr>\n",
       "    <tr>\n",
       "      <th>Hispanic</th>\n",
       "      <td>0.265472</td>\n",
       "      <td>0.053922</td>\n",
       "      <td>0.276284</td>\n",
       "    </tr>\n",
       "    <tr>\n",
       "      <th>White</th>\n",
       "      <td>0.499186</td>\n",
       "      <td>0.332353</td>\n",
       "      <td>0.591687</td>\n",
       "    </tr>\n",
       "  </tbody>\n",
       "</table>\n",
       "</div>"
      ],
      "text/plain": [
       "            Orlando  New Orleans    Austin\n",
       "Ethnicity                                 \n",
       "Asian      0.035831     0.030392  0.068460\n",
       "Black      0.199511     0.583333  0.063570\n",
       "Hispanic   0.265472     0.053922  0.276284\n",
       "White      0.499186     0.332353  0.591687"
      ]
     },
     "execution_count": 35,
     "metadata": {},
     "output_type": "execute_result"
    }
   ],
   "source": [
    "demographic_df.head()"
   ]
  },
  {
   "cell_type": "code",
   "execution_count": 36,
   "metadata": {},
   "outputs": [
    {
     "data": {
      "text/html": [
       "<div>\n",
       "<style scoped>\n",
       "    .dataframe tbody tr th:only-of-type {\n",
       "        vertical-align: middle;\n",
       "    }\n",
       "\n",
       "    .dataframe tbody tr th {\n",
       "        vertical-align: top;\n",
       "    }\n",
       "\n",
       "    .dataframe thead th {\n",
       "        text-align: right;\n",
       "    }\n",
       "</style>\n",
       "<table border=\"1\" class=\"dataframe\">\n",
       "  <thead>\n",
       "    <tr style=\"text-align: right;\">\n",
       "      <th></th>\n",
       "      <th>Subject Ethnicity</th>\n",
       "      <th>Subject Injured</th>\n",
       "    </tr>\n",
       "  </thead>\n",
       "  <tbody>\n",
       "    <tr>\n",
       "      <th>0</th>\n",
       "      <td>Black</td>\n",
       "      <td>No</td>\n",
       "    </tr>\n",
       "    <tr>\n",
       "      <th>1</th>\n",
       "      <td>Black</td>\n",
       "      <td>No</td>\n",
       "    </tr>\n",
       "    <tr>\n",
       "      <th>2</th>\n",
       "      <td>Black</td>\n",
       "      <td>No</td>\n",
       "    </tr>\n",
       "    <tr>\n",
       "      <th>3</th>\n",
       "      <td>White</td>\n",
       "      <td>Yes</td>\n",
       "    </tr>\n",
       "    <tr>\n",
       "      <th>3</th>\n",
       "      <td>Black</td>\n",
       "      <td>Yes</td>\n",
       "    </tr>\n",
       "  </tbody>\n",
       "</table>\n",
       "</div>"
      ],
      "text/plain": [
       "  Subject Ethnicity Subject Injured\n",
       "0             Black              No\n",
       "1             Black              No\n",
       "2             Black              No\n",
       "3             White             Yes\n",
       "3             Black             Yes"
      ]
     },
     "execution_count": 36,
     "metadata": {},
     "output_type": "execute_result"
    }
   ],
   "source": [
    "nopd_df.head()"
   ]
  },
  {
   "cell_type": "code",
   "execution_count": 37,
   "metadata": {},
   "outputs": [
    {
     "data": {
      "text/html": [
       "<div>\n",
       "<style scoped>\n",
       "    .dataframe tbody tr th:only-of-type {\n",
       "        vertical-align: middle;\n",
       "    }\n",
       "\n",
       "    .dataframe tbody tr th {\n",
       "        vertical-align: top;\n",
       "    }\n",
       "\n",
       "    .dataframe thead th {\n",
       "        text-align: right;\n",
       "    }\n",
       "</style>\n",
       "<table border=\"1\" class=\"dataframe\">\n",
       "  <thead>\n",
       "    <tr style=\"text-align: right;\">\n",
       "      <th></th>\n",
       "      <th>Subject Ethnicity</th>\n",
       "      <th>Subject Injured</th>\n",
       "    </tr>\n",
       "  </thead>\n",
       "  <tbody>\n",
       "    <tr>\n",
       "      <th>0</th>\n",
       "      <td>White</td>\n",
       "      <td>No</td>\n",
       "    </tr>\n",
       "    <tr>\n",
       "      <th>1</th>\n",
       "      <td>White</td>\n",
       "      <td>Yes</td>\n",
       "    </tr>\n",
       "    <tr>\n",
       "      <th>2</th>\n",
       "      <td>White</td>\n",
       "      <td>No</td>\n",
       "    </tr>\n",
       "    <tr>\n",
       "      <th>3</th>\n",
       "      <td>White</td>\n",
       "      <td>Yes</td>\n",
       "    </tr>\n",
       "    <tr>\n",
       "      <th>4</th>\n",
       "      <td>White</td>\n",
       "      <td>Yes</td>\n",
       "    </tr>\n",
       "  </tbody>\n",
       "</table>\n",
       "</div>"
      ],
      "text/plain": [
       "  Subject Ethnicity Subject Injured\n",
       "0             White              No\n",
       "1             White             Yes\n",
       "2             White              No\n",
       "3             White             Yes\n",
       "4             White             Yes"
      ]
     },
     "execution_count": 37,
     "metadata": {},
     "output_type": "execute_result"
    }
   ],
   "source": [
    "austin_police_df.head()"
   ]
  },
  {
   "cell_type": "code",
   "execution_count": 38,
   "metadata": {},
   "outputs": [
    {
     "data": {
      "text/html": [
       "<div>\n",
       "<style scoped>\n",
       "    .dataframe tbody tr th:only-of-type {\n",
       "        vertical-align: middle;\n",
       "    }\n",
       "\n",
       "    .dataframe tbody tr th {\n",
       "        vertical-align: top;\n",
       "    }\n",
       "\n",
       "    .dataframe thead th {\n",
       "        text-align: right;\n",
       "    }\n",
       "</style>\n",
       "<table border=\"1\" class=\"dataframe\">\n",
       "  <thead>\n",
       "    <tr style=\"text-align: right;\">\n",
       "      <th></th>\n",
       "      <th>Subject Ethnicity</th>\n",
       "      <th>Subject Injured</th>\n",
       "    </tr>\n",
       "  </thead>\n",
       "  <tbody>\n",
       "    <tr>\n",
       "      <th>0</th>\n",
       "      <td>White</td>\n",
       "      <td>Yes</td>\n",
       "    </tr>\n",
       "    <tr>\n",
       "      <th>1</th>\n",
       "      <td>NaN</td>\n",
       "      <td>No</td>\n",
       "    </tr>\n",
       "    <tr>\n",
       "      <th>2</th>\n",
       "      <td>Black</td>\n",
       "      <td>No</td>\n",
       "    </tr>\n",
       "    <tr>\n",
       "      <th>3</th>\n",
       "      <td>Black</td>\n",
       "      <td>No</td>\n",
       "    </tr>\n",
       "    <tr>\n",
       "      <th>4</th>\n",
       "      <td>NaN</td>\n",
       "      <td>Yes</td>\n",
       "    </tr>\n",
       "  </tbody>\n",
       "</table>\n",
       "</div>"
      ],
      "text/plain": [
       "  Subject Ethnicity Subject Injured\n",
       "0             White             Yes\n",
       "1               NaN              No\n",
       "2             Black              No\n",
       "3             Black              No\n",
       "4               NaN             Yes"
      ]
     },
     "execution_count": 38,
     "metadata": {},
     "output_type": "execute_result"
    }
   ],
   "source": [
    "orlando_police_df.head()"
   ]
  },
  {
   "cell_type": "markdown",
   "metadata": {},
   "source": [
    "\n",
    "---"
   ]
  },
  {
   "cell_type": "markdown",
   "metadata": {},
   "source": [
    "<h2 align='center'> 3. Exploratory Data Analysis and Data Visualization </h2>"
   ]
  },
  {
   "cell_type": "markdown",
   "metadata": {},
   "source": [
    "To compare the distributions between subject ethnicity for the each city's police department and racial demographics of that city, a side-by-side pie chart would be the best visualization."
   ]
  },
  {
   "cell_type": "code",
   "execution_count": 39,
   "metadata": {},
   "outputs": [
    {
     "data": {
      "text/plain": [
       "Text(0.5, 1.0, 'Use of Force Subject Ethnicity')"
      ]
     },
     "execution_count": 39,
     "metadata": {},
     "output_type": "execute_result"
    },
    {
     "data": {
      "image/png": "[encoded data removed]",
      "text/plain": [
       "<Figure size 1800x648 with 2 Axes>"
      ]
     },
     "metadata": {},
     "output_type": "display_data"
    }
   ],
   "source": [
    "#New Orleans\n",
    "fig, axes = plt.subplots(1,2, figsize=(25,9))\n",
    "fig.suptitle('New Orleans', fontweight='bold')\n",
    "\n",
    "axes[0].pie(demographic_df['New Orleans'], labels=demographic_df['New Orleans'].index, autopct='%1.2f%%')\n",
    "axes[0].set_title('Demographics')\n",
    "\n",
    "axes[1].pie(nopd_df['Subject Ethnicity'].value_counts(), labels=nopd_df['Subject Ethnicity'].value_counts().index, autopct='%1.2f%%')\n",
    "axes[1].set_title('Use of Force Subject Ethnicity')"
   ]
  },
  {
   "cell_type": "code",
   "execution_count": 40,
   "metadata": {},
   "outputs": [
    {
     "data": {
      "text/plain": [
       "Text(0.5, 1.0, 'Response to Resistance Subject Ethnicity')"
      ]
     },
     "execution_count": 40,
     "metadata": {},
     "output_type": "execute_result"
    },
    {
     "data": {
      "image/png": "[encoded data removed]",
      "text/plain": [
       "<Figure size 1800x648 with 2 Axes>"
      ]
     },
     "metadata": {},
     "output_type": "display_data"
    }
   ],
   "source": [
    "#Austin\n",
    "fig, axes = plt.subplots(1,2, figsize=(25,9))\n",
    "fig.suptitle('Austin', fontweight='bold')\n",
    "\n",
    "axes[0].pie(demographic_df['Austin'], labels=demographic_df['Austin'].index, autopct='%1.2f%%')\n",
    "axes[0].set_title('Demographics')\n",
    "\n",
    "axes[1].pie(austin_police_df['Subject Ethnicity'].value_counts(), labels=austin_police_df['Subject Ethnicity'].value_counts().index, autopct='%1.2f%%')\n",
    "axes[1].set_title('Response to Resistance Subject Ethnicity')"
   ]
  },
  {
   "cell_type": "code",
   "execution_count": 41,
   "metadata": {},
   "outputs": [
    {
     "data": {
      "text/plain": [
       "Text(0.5, 1.0, 'Response to Resistance Subject Ethnicity')"
      ]
     },
     "execution_count": 41,
     "metadata": {},
     "output_type": "execute_result"
    },
    {
     "data": {
      "image/png": "[encoded data removed]",
      "text/plain": [
       "<Figure size 1800x648 with 2 Axes>"
      ]
     },
     "metadata": {},
     "output_type": "display_data"
    }
   ],
   "source": [
    "#Orlando\n",
    "fig, axes = plt.subplots(1,2, figsize=(25,9))\n",
    "fig.suptitle('Orlando', fontweight='bold')\n",
    "\n",
    "axes[0].pie(demographic_df['Orlando'], labels=demographic_df['Orlando'].index, autopct='%1.2f%%')\n",
    "axes[0].set_title('Demographics')\n",
    "\n",
    "axes[1].pie(orlando_police_df['Subject Ethnicity'].value_counts(), labels=orlando_police_df['Subject Ethnicity'].value_counts().index, autopct='%1.2f%%')\n",
    "axes[1].set_title('Response to Resistance Subject Ethnicity')"
   ]
  },
  {
   "cell_type": "markdown",
   "metadata": {},
   "source": [
    "To visualize the difference in ethnicity of the subject when they were injured or not, as a result of use of force, we should create a stacked bar plot from a cross-tabulation between <b>\"Subject Ethnicity\"</b> and <b>\"Subject Injured\"</b> for each city."
   ]
  },
  {
   "cell_type": "code",
   "execution_count": 42,
   "metadata": {},
   "outputs": [
    {
     "data": {
      "text/plain": [
       "<AxesSubplot:title={'center':'New Orleans'}, xlabel='Subject Injured'>"
      ]
     },
     "execution_count": 42,
     "metadata": {},
     "output_type": "execute_result"
    },
    {
     "data": {
      "image/png": "[encoded data removed]",
      "text/plain": [
       "<Figure size 1440x648 with 1 Axes>"
      ]
     },
     "metadata": {},
     "output_type": "display_data"
    }
   ],
   "source": [
    "#New Orleans\n",
    "counts = pd.crosstab(nopd_df['Subject Ethnicity'], nopd_df['Subject Injured'],normalize=True)\n",
    "ethnicity_given_injured = counts.divide(counts.sum(axis=0), axis=1)\n",
    "\n",
    "#Transposing the above table to make Subject Injured the two bars to compare\n",
    "(ethnicity_given_injured.T).plot.bar(stacked=True, figsize = (20, 9), title='New Orleans')"
   ]
  },
  {
   "cell_type": "code",
   "execution_count": 43,
   "metadata": {},
   "outputs": [
    {
     "data": {
      "text/plain": [
       "<AxesSubplot:title={'center':'Austin'}, xlabel='Subject Injured'>"
      ]
     },
     "execution_count": 43,
     "metadata": {},
     "output_type": "execute_result"
    },
    {
     "data": {
      "image/png": "[encoded data removed]",
      "text/plain": [
       "<Figure size 1440x648 with 1 Axes>"
      ]
     },
     "metadata": {},
     "output_type": "display_data"
    }
   ],
   "source": [
    "#Austin\n",
    "counts = pd.crosstab(austin_police_df['Subject Ethnicity'], austin_police_df['Subject Injured'],normalize=True)\n",
    "ethnicity_given_injured = counts.divide(counts.sum(axis=0), axis=1)\n",
    "\n",
    "#Transposing the above table to make Subject Injured the two bars to compare\n",
    "(ethnicity_given_injured.T).plot.bar(stacked=True, figsize = (20, 9), title='Austin')"
   ]
  },
  {
   "cell_type": "code",
   "execution_count": 44,
   "metadata": {},
   "outputs": [
    {
     "data": {
      "text/plain": [
       "<AxesSubplot:title={'center':'Orlando'}, xlabel='Subject Injured'>"
      ]
     },
     "execution_count": 44,
     "metadata": {},
     "output_type": "execute_result"
    },
    {
     "data": {
      "image/png": "[encoded data removed]",
      "text/plain": [
       "<Figure size 1440x648 with 1 Axes>"
      ]
     },
     "metadata": {},
     "output_type": "display_data"
    }
   ],
   "source": [
    "#Orlando\n",
    "counts = pd.crosstab(orlando_police_df['Subject Ethnicity'], orlando_police_df['Subject Injured'],normalize=True)\n",
    "ethnicity_given_injured = counts.divide(counts.sum(axis=0), axis=1)\n",
    "\n",
    "#Transposing the above table to make Subject Injured the two bars to compare\n",
    "(ethnicity_given_injured.T).plot.bar(stacked=True, figsize = (20, 9), title='Orlando')"
   ]
  },
  {
   "cell_type": "markdown",
   "metadata": {},
   "source": [
    "---\n",
    "\n",
    "<h2 align='center'> 4. Hypothesis Testing </h2>"
   ]
  },
  {
   "cell_type": "markdown",
   "metadata": {},
   "source": [
    "<h4> New Orleans </h4>"
   ]
  },
  {
   "cell_type": "code",
   "execution_count": 45,
   "metadata": {},
   "outputs": [
    {
     "data": {
      "text/plain": [
       "Ethnicity\n",
       "Asian        101.175490\n",
       "Black       1941.916667\n",
       "Hispanic     179.504902\n",
       "White       1106.402941\n",
       "Name: New Orleans, dtype: float64"
      ]
     },
     "execution_count": 45,
     "metadata": {},
     "output_type": "execute_result"
    }
   ],
   "source": [
    "new_orleans_expected = (demographic_df['New Orleans'] / demographic_df['New Orleans'].sum()) * nopd_df[\"Subject Ethnicity\"].value_counts().sum() \n",
    "new_orleans_expected"
   ]
  },
  {
   "cell_type": "code",
   "execution_count": 46,
   "metadata": {},
   "outputs": [
    {
     "data": {
      "text/plain": [
       "Black       2785\n",
       "White        439\n",
       "Hispanic      80\n",
       "Asian         25\n",
       "Name: Subject Ethnicity, dtype: int64"
      ]
     },
     "execution_count": 46,
     "metadata": {},
     "output_type": "execute_result"
    }
   ],
   "source": [
    "new_orleans_actual = nopd_df[\"Subject Ethnicity\"].value_counts() \n",
    "new_orleans_actual"
   ]
  },
  {
   "cell_type": "code",
   "execution_count": 47,
   "metadata": {},
   "outputs": [
    {
     "data": {
      "text/plain": [
       "{80: 179.5049019607843,\n",
       " 2785: 1941.9166666666665,\n",
       " 439: 1106.4029411764704,\n",
       " 25: 101.17549019607843}"
      ]
     },
     "execution_count": 47,
     "metadata": {},
     "output_type": "execute_result"
    }
   ],
   "source": [
    "mapping = {}\n",
    "races = [\"Hispanic\", \"Black\", \"White\", \"Asian\"]\n",
    "\n",
    "for r in races:\n",
    "    mapping[new_orleans_actual[r]] = new_orleans_expected[r]\n",
    "    \n",
    "mapping"
   ]
  },
  {
   "cell_type": "code",
   "execution_count": 48,
   "metadata": {},
   "outputs": [
    {
     "data": {
      "text/plain": [
       "Power_divergenceResult(statistic=881.1260543949766, pvalue=1.0986503289423765e-190)"
      ]
     },
     "execution_count": 48,
     "metadata": {},
     "output_type": "execute_result"
    }
   ],
   "source": [
    "#Perform Chi-Square Goodness of Fit Test\n",
    "stats.chisquare(f_obs=list(mapping.keys()), f_exp=list(mapping.values()))"
   ]
  },
  {
   "cell_type": "markdown",
   "metadata": {},
   "source": [
    "<h4> Austin </h4>"
   ]
  },
  {
   "cell_type": "code",
   "execution_count": 49,
   "metadata": {},
   "outputs": [
    {
     "data": {
      "text/plain": [
       "Ethnicity\n",
       "Asian        214.347188\n",
       "Black        199.036675\n",
       "Hispanic     865.044010\n",
       "White       1852.572127\n",
       "Name: Austin, dtype: float64"
      ]
     },
     "execution_count": 49,
     "metadata": {},
     "output_type": "execute_result"
    }
   ],
   "source": [
    "austin_expected = (demographic_df['Austin'] / demographic_df['Austin'].sum()) * austin_police_df[\"Subject Ethnicity\"].value_counts().sum() \n",
    "austin_expected"
   ]
  },
  {
   "cell_type": "code",
   "execution_count": 50,
   "metadata": {},
   "outputs": [
    {
     "data": {
      "text/plain": [
       "Hispanic    1088\n",
       "White       1053\n",
       "Black        968\n",
       "Asian         22\n",
       "Name: Subject Ethnicity, dtype: int64"
      ]
     },
     "execution_count": 50,
     "metadata": {},
     "output_type": "execute_result"
    }
   ],
   "source": [
    "austin_actual = austin_police_df[\"Subject Ethnicity\"].value_counts() \n",
    "austin_actual"
   ]
  },
  {
   "cell_type": "code",
   "execution_count": 51,
   "metadata": {},
   "outputs": [
    {
     "data": {
      "text/plain": [
       "{1088: 865.0440097799511,\n",
       " 968: 199.03667481662592,\n",
       " 1053: 1852.5721271393645,\n",
       " 22: 214.34718826405867}"
      ]
     },
     "execution_count": 51,
     "metadata": {},
     "output_type": "execute_result"
    }
   ],
   "source": [
    "mapping = {}\n",
    "races = [\"Hispanic\", \"Black\", \"White\", \"Asian\"]\n",
    "\n",
    "for r in races:\n",
    "    mapping[austin_actual[r]] = austin_expected[r]\n",
    "    \n",
    "mapping"
   ]
  },
  {
   "cell_type": "code",
   "execution_count": 52,
   "metadata": {},
   "outputs": [
    {
     "data": {
      "text/plain": [
       "Power_divergenceResult(statistic=3545.9983249139045, pvalue=0.0)"
      ]
     },
     "execution_count": 52,
     "metadata": {},
     "output_type": "execute_result"
    }
   ],
   "source": [
    "#Perform Chi-Square Goodness of Fit Test\n",
    "stats.chisquare(f_obs=list(mapping.keys()), f_exp=list(mapping.values()))"
   ]
  },
  {
   "cell_type": "code",
   "execution_count": 53,
   "metadata": {},
   "outputs": [
    {
     "data": {
      "text/plain": [
       "Ethnicity\n",
       "Asian        179.798046\n",
       "Black       1001.148208\n",
       "Hispanic    1332.140065\n",
       "White       2504.913681\n",
       "Name: Orlando, dtype: float64"
      ]
     },
     "execution_count": 53,
     "metadata": {},
     "output_type": "execute_result"
    }
   ],
   "source": [
    "orlando_expected = (demographic_df['Orlando'] / demographic_df['Orlando'].sum()) * orlando_police_df[\"Subject Ethnicity\"].value_counts().sum() \n",
    "orlando_expected"
   ]
  },
  {
   "cell_type": "code",
   "execution_count": 54,
   "metadata": {},
   "outputs": [
    {
     "data": {
      "text/plain": [
       "Black       2808\n",
       "White       1733\n",
       "Hispanic     451\n",
       "Asian         26\n",
       "Name: Subject Ethnicity, dtype: int64"
      ]
     },
     "execution_count": 54,
     "metadata": {},
     "output_type": "execute_result"
    }
   ],
   "source": [
    "orlando_actual = orlando_police_df[\"Subject Ethnicity\"].value_counts() \n",
    "orlando_actual"
   ]
  },
  {
   "cell_type": "code",
   "execution_count": 55,
   "metadata": {},
   "outputs": [
    {
     "data": {
      "text/plain": [
       "{451: 1332.14006514658,\n",
       " 2808: 1001.1482084690554,\n",
       " 1733: 2504.913680781759,\n",
       " 26: 179.79804560260587}"
      ]
     },
     "execution_count": 55,
     "metadata": {},
     "output_type": "execute_result"
    }
   ],
   "source": [
    "mapping = {}\n",
    "races = [\"Hispanic\", \"Black\", \"White\", \"Asian\"]\n",
    "\n",
    "for r in races:\n",
    "    mapping[orlando_actual[r]] = orlando_expected[r]\n",
    "    \n",
    "mapping"
   ]
  },
  {
   "cell_type": "code",
   "execution_count": 56,
   "metadata": {},
   "outputs": [
    {
     "data": {
      "text/plain": [
       "Power_divergenceResult(statistic=4213.2271665152675, pvalue=0.0)"
      ]
     },
     "execution_count": 56,
     "metadata": {},
     "output_type": "execute_result"
    }
   ],
   "source": [
    "#Perform Chi-Square Goodness of Fit Test\n",
    "stats.chisquare(f_obs=list(mapping.keys()), f_exp=list(mapping.values()))"
   ]
  },
  {
   "cell_type": "markdown",
   "metadata": {},
   "source": [
    "---\n"
   ]
  },
  {
   "cell_type": "markdown",
   "metadata": {},
   "source": [
    "<h2 align='center'> 5. Conclusion and Further Study </h2>"
   ]
  },
  {
   "cell_type": "markdown",
   "metadata": {},
   "source": [
    "\n",
    "<p>We plan to use the data from Austin and Orlando to compare to New Orleans. According to the New Orleans Data Center, Austin and Orlando are two cities that New Orleans aspires to be like due to the growth of their economy and opportunities. We believe that the use of force by police and whether they proportionately act might effect how citizes trust their government. There are opportunities here to include economic data as well. However, for now, we hope to search deeper in whether currently, each city proportionately uses force on criminals based on chi-squared tests or other tests of proportions. We believe that the relationship between the government and its citizens is very important in a city's growth and prosperity and we hope to shine a light on this relationship in New Orleans. </p>\n",
    "<p>Additionally, we think that the outcome of the cases when police use force is important. For that reason, we plan on doing similar analysis comparing the distribution of the ethnicities when the subject was injured and not injured.</p>"
   ]
  }
 ],
 "metadata": {
  "kernelspec": {
   "display_name": "Python 3",
   "language": "python",
   "name": "python3"
  },
  "language_info": {
   "codemirror_mode": {
    "name": "ipython",
    "version": 3
   },
   "file_extension": ".py",
   "mimetype": "text/x-python",
   "name": "python",
   "nbconvert_exporter": "python",
   "pygments_lexer": "ipython3",
   "version": "3.8.5"
  }
 },
 "nbformat": 4,
 "nbformat_minor": 4
}
