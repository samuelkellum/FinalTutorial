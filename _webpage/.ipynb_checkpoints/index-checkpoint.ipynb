{
 "cells": [
  {
   "cell_type": "markdown",
   "metadata": {},
   "source": [
    "https://samuelkellum.github.io/FinalTutorial/"
   ]
  },
  {
   "cell_type": "markdown",
   "metadata": {},
   "source": [
    "# Police Brutality in New Orleans\n",
    "### Ajit Alapati and Samuel Kellum\n",
    "## Milestone 1\n",
    "We decided to meet in person to collaborate and discuss what data about New Orleans we wanted to explore. We first set up a GitHub repository to compile everything for our project, including the data sets.\n",
    "\n",
    "We did face some initial challenges setting up the GitHub page because neither of us has ever created a GitHub page. Additionally, we had some minor issues initializing the repository with the GitHub page because of GitHub’s new authentication features. In August, GitHub required that we use personal authentication tokens instead of account passwords when using its version control on the command line. In August, GitHub required that we use personal authentication tokens instead of account passwords when using its version control on the command line.  We had no problems importing the data into the Jupyter Notebook and tidying the data by deleting unnecessary columns. We had already imported CSV files into a notebook in the labs. We had one minor problem with the del function syntax (which we found from a previous Final Tutorial example). We faced some more significant challenges in displaying the notebook on the GitHub page. We did not realize that all we had to do was download the notebook as an HTML export. We learn something new every day, which is to read all of the project instructions! If you are reading this on the webpage, and the page looks like a Jupyter Notebook, then that means we figured it out!\n",
    "\n",
    "Our planned technologies, as of now, are Docker, the Jupyter Notebook, Python, and all of the libraries it provides. We have not yet discussed in detail the libraries that we will use, but we know we will be using Pandas, Numpy, and Matplotlib. We have each other’s phone numbers to contact each other about the project and will most likely meet throughout the semester one or two times per week in person to work on the project. Both of us were interested in data about police brutality and misconduct in New Orleans.\n",
    "\n",
    "We wanted to look into policing violence and where these incidents were happening in the city. We found a couple of data sets on data.nola.gov about police misconduct complaints and deadly police encounters in New Orleans. These sorts of data sets open up many possible questions and avenues that we can go down. For example, we were discussing combining datasets to determine who and where these violent interactions were happening. Were they happening disproportionately in poor areas? Were they happening disproportionately towards African Americans?"
   ]
  },
  {
   "cell_type": "code",
   "execution_count": 1,
   "metadata": {},
   "outputs": [],
   "source": [
    "## Loading libraries\n",
    "# Load Numpy\n",
    "import numpy as np\n",
    "# Load MatPlotLib\n",
    "import matplotlib\n",
    "import matplotlib.pyplot as plt\n",
    "# Load Pandas\n",
    "import pandas as pd"
   ]
  },
  {
   "cell_type": "markdown",
   "metadata": {},
   "source": [
    "### NOPD Misconduct Complaints"
   ]
  },
  {
   "cell_type": "markdown",
   "metadata": {},
   "source": [
    "The source of the csv file: https://data.nola.gov/Public-Safety-and-Preparedness/NOPD-Misconduct-Complaints/gz2m-ef5u"
   ]
  },
  {
   "cell_type": "markdown",
   "metadata": {},
   "source": [
    "This DataFrame contains information about misconduct complains filed against the New Orleans Police Department."
   ]
  },
  {
   "cell_type": "code",
   "execution_count": 2,
   "metadata": {},
   "outputs": [
    {
     "data": {
      "text/html": [
       "<div>\n",
       "<style scoped>\n",
       "    .dataframe tbody tr th:only-of-type {\n",
       "        vertical-align: middle;\n",
       "    }\n",
       "\n",
       "    .dataframe tbody tr th {\n",
       "        vertical-align: top;\n",
       "    }\n",
       "\n",
       "    .dataframe thead th {\n",
       "        text-align: right;\n",
       "    }\n",
       "</style>\n",
       "<table border=\"1\" class=\"dataframe\">\n",
       "  <thead>\n",
       "    <tr style=\"text-align: right;\">\n",
       "      <th></th>\n",
       "      <th>Incident Type</th>\n",
       "      <th>Complaint Tracking Number</th>\n",
       "      <th>Date Complaint Occurred</th>\n",
       "      <th>Date Complaint Received by NOPD (PIB)</th>\n",
       "      <th>Date Complaint Investigation Complete</th>\n",
       "      <th>Complaint classification</th>\n",
       "      <th>Investigation status</th>\n",
       "      <th>Disposition</th>\n",
       "      <th>Bureau of Complainant</th>\n",
       "      <th>Division of Complainant</th>\n",
       "      <th>...</th>\n",
       "      <th>Rule Violation</th>\n",
       "      <th>Paragraph Violation</th>\n",
       "      <th>Unique Officer Allegation ID</th>\n",
       "      <th>Officer Race Ethnicity</th>\n",
       "      <th>Officer Gender</th>\n",
       "      <th>Officer Age</th>\n",
       "      <th>Officer years of service</th>\n",
       "      <th>Complainant Gender</th>\n",
       "      <th>Complainant Ethnicity</th>\n",
       "      <th>Complainant Age</th>\n",
       "    </tr>\n",
       "  </thead>\n",
       "  <tbody>\n",
       "    <tr>\n",
       "      <th>0</th>\n",
       "      <td>Public Initiated</td>\n",
       "      <td>2016-0001-P</td>\n",
       "      <td>2016-01-01</td>\n",
       "      <td>2016-01-01</td>\n",
       "      <td>2016-07-21</td>\n",
       "      <td>DI-1</td>\n",
       "      <td>Completed</td>\n",
       "      <td>Unfounded</td>\n",
       "      <td>NaN</td>\n",
       "      <td>8th District</td>\n",
       "      <td>...</td>\n",
       "      <td>RULE 3: PROF CONDUCT</td>\n",
       "      <td>PARAGRAPH 01 - Professionalism</td>\n",
       "      <td>30664.0</td>\n",
       "      <td>NaN</td>\n",
       "      <td>NaN</td>\n",
       "      <td>NaN</td>\n",
       "      <td>NaN</td>\n",
       "      <td>Male</td>\n",
       "      <td>Black</td>\n",
       "      <td>NaN</td>\n",
       "    </tr>\n",
       "    <tr>\n",
       "      <th>1</th>\n",
       "      <td>Public Initiated</td>\n",
       "      <td>2016-0002-P</td>\n",
       "      <td>2016-01-02</td>\n",
       "      <td>2016-01-01</td>\n",
       "      <td>2016-08-03</td>\n",
       "      <td>DI-1</td>\n",
       "      <td>Completed</td>\n",
       "      <td>Exonerated</td>\n",
       "      <td>FOB - Field Operations Bureau</td>\n",
       "      <td>7th District</td>\n",
       "      <td>...</td>\n",
       "      <td>RULE 4: PERF OF DUTY</td>\n",
       "      <td>PARAGRAPH 04 - NEGLECT OF DUTY</td>\n",
       "      <td>30667.0</td>\n",
       "      <td>Black</td>\n",
       "      <td>Male</td>\n",
       "      <td>60</td>\n",
       "      <td>NaN</td>\n",
       "      <td>Female</td>\n",
       "      <td>White</td>\n",
       "      <td>NaN</td>\n",
       "    </tr>\n",
       "    <tr>\n",
       "      <th>2</th>\n",
       "      <td>Public Initiated</td>\n",
       "      <td>2016-0002-P</td>\n",
       "      <td>2016-01-02</td>\n",
       "      <td>2016-01-01</td>\n",
       "      <td>2016-08-03</td>\n",
       "      <td>DI-1</td>\n",
       "      <td>Completed</td>\n",
       "      <td>Exonerated</td>\n",
       "      <td>FOB - Field Operations Bureau</td>\n",
       "      <td>7th District</td>\n",
       "      <td>...</td>\n",
       "      <td>RULE 4: PERF OF DUTY</td>\n",
       "      <td>PARAGRAPH 04 - NEGLECT OF DUTY</td>\n",
       "      <td>30669.0</td>\n",
       "      <td>Black</td>\n",
       "      <td>Male</td>\n",
       "      <td>44</td>\n",
       "      <td>NaN</td>\n",
       "      <td>Female</td>\n",
       "      <td>White</td>\n",
       "      <td>NaN</td>\n",
       "    </tr>\n",
       "    <tr>\n",
       "      <th>3</th>\n",
       "      <td>Public Initiated</td>\n",
       "      <td>2016-0009-P</td>\n",
       "      <td>2016-01-04</td>\n",
       "      <td>2016-01-04</td>\n",
       "      <td>2017-03-20</td>\n",
       "      <td>DI-1</td>\n",
       "      <td>Completed</td>\n",
       "      <td>Unfounded</td>\n",
       "      <td>FOB - Field Operations Bureau</td>\n",
       "      <td>8th District</td>\n",
       "      <td>...</td>\n",
       "      <td>RULE 2: MORAL CONDUCT</td>\n",
       "      <td>PARAGRAPH 01 - ADHERENCE TO LAW</td>\n",
       "      <td>30671.0</td>\n",
       "      <td>White</td>\n",
       "      <td>Male</td>\n",
       "      <td>NaN</td>\n",
       "      <td>NaN</td>\n",
       "      <td>NaN</td>\n",
       "      <td>NaN</td>\n",
       "      <td>NaN</td>\n",
       "    </tr>\n",
       "    <tr>\n",
       "      <th>4</th>\n",
       "      <td>Public Initiated</td>\n",
       "      <td>2016-0006-P</td>\n",
       "      <td>2016-12-30</td>\n",
       "      <td>2016-01-04</td>\n",
       "      <td>2016-07-25</td>\n",
       "      <td>DI-1</td>\n",
       "      <td>Completed</td>\n",
       "      <td>Exonerated</td>\n",
       "      <td>FOB - Field Operations Bureau</td>\n",
       "      <td>Command Staff</td>\n",
       "      <td>...</td>\n",
       "      <td>RULE 4: PERF OF DUTY</td>\n",
       "      <td>PARAGRAPH 02 - INSTRUCTIONS FROM AUTHORITATIVE...</td>\n",
       "      <td>30674.0</td>\n",
       "      <td>Black</td>\n",
       "      <td>Male</td>\n",
       "      <td>54</td>\n",
       "      <td>NaN</td>\n",
       "      <td>Female</td>\n",
       "      <td>Black</td>\n",
       "      <td>50.0</td>\n",
       "    </tr>\n",
       "  </tbody>\n",
       "</table>\n",
       "<p>5 rows × 24 columns</p>\n",
       "</div>"
      ],
      "text/plain": [
       "      Incident Type Complaint Tracking Number Date Complaint Occurred  \\\n",
       "0  Public Initiated               2016-0001-P              2016-01-01   \n",
       "1  Public Initiated               2016-0002-P              2016-01-02   \n",
       "2  Public Initiated               2016-0002-P              2016-01-02   \n",
       "3  Public Initiated               2016-0009-P              2016-01-04   \n",
       "4  Public Initiated               2016-0006-P              2016-12-30   \n",
       "\n",
       "  Date Complaint Received by NOPD (PIB) Date Complaint Investigation Complete  \\\n",
       "0                            2016-01-01                            2016-07-21   \n",
       "1                            2016-01-01                            2016-08-03   \n",
       "2                            2016-01-01                            2016-08-03   \n",
       "3                            2016-01-04                            2017-03-20   \n",
       "4                            2016-01-04                            2016-07-25   \n",
       "\n",
       "  Complaint classification Investigation status Disposition  \\\n",
       "0                     DI-1            Completed   Unfounded   \n",
       "1                     DI-1            Completed  Exonerated   \n",
       "2                     DI-1            Completed  Exonerated   \n",
       "3                     DI-1            Completed   Unfounded   \n",
       "4                     DI-1            Completed  Exonerated   \n",
       "\n",
       "           Bureau of Complainant Division of Complainant  ...  \\\n",
       "0                            NaN            8th District  ...   \n",
       "1  FOB - Field Operations Bureau            7th District  ...   \n",
       "2  FOB - Field Operations Bureau            7th District  ...   \n",
       "3  FOB - Field Operations Bureau            8th District  ...   \n",
       "4  FOB - Field Operations Bureau           Command Staff  ...   \n",
       "\n",
       "          Rule Violation                                Paragraph Violation  \\\n",
       "0   RULE 3: PROF CONDUCT                     PARAGRAPH 01 - Professionalism   \n",
       "1   RULE 4: PERF OF DUTY                     PARAGRAPH 04 - NEGLECT OF DUTY   \n",
       "2   RULE 4: PERF OF DUTY                     PARAGRAPH 04 - NEGLECT OF DUTY   \n",
       "3  RULE 2: MORAL CONDUCT                    PARAGRAPH 01 - ADHERENCE TO LAW   \n",
       "4   RULE 4: PERF OF DUTY  PARAGRAPH 02 - INSTRUCTIONS FROM AUTHORITATIVE...   \n",
       "\n",
       "  Unique Officer Allegation ID Officer Race Ethnicity Officer Gender  \\\n",
       "0                      30664.0                    NaN            NaN   \n",
       "1                      30667.0                  Black           Male   \n",
       "2                      30669.0                  Black           Male   \n",
       "3                      30671.0                  White           Male   \n",
       "4                      30674.0                  Black           Male   \n",
       "\n",
       "  Officer Age  Officer years of service Complainant Gender  \\\n",
       "0         NaN                       NaN               Male   \n",
       "1          60                       NaN             Female   \n",
       "2          44                       NaN             Female   \n",
       "3         NaN                       NaN                NaN   \n",
       "4          54                       NaN             Female   \n",
       "\n",
       "  Complainant Ethnicity Complainant Age  \n",
       "0                 Black             NaN  \n",
       "1                 White             NaN  \n",
       "2                 White             NaN  \n",
       "3                   NaN             NaN  \n",
       "4                 Black            50.0  \n",
       "\n",
       "[5 rows x 24 columns]"
      ]
     },
     "execution_count": 2,
     "metadata": {},
     "output_type": "execute_result"
    }
   ],
   "source": [
    "nopd_complaint_df = pd.read_csv('../_data/NOPD_Misconduct_Complaints.csv')\n",
    "nopd_complaint_df.head()"
   ]
  },
  {
   "cell_type": "markdown",
   "metadata": {},
   "source": [
    "Although almost all of the columns are informative, there are way more columns than we plan on using. We can tidy the data by only keeping the columns we plan on using."
   ]
  },
  {
   "cell_type": "code",
   "execution_count": 3,
   "metadata": {},
   "outputs": [
    {
     "name": "stdout",
     "output_type": "stream",
     "text": [
      "Incident Type\n",
      "Complaint Tracking Number\n",
      "Date Complaint Occurred\n",
      "Date Complaint Received by NOPD (PIB)\n",
      "Date Complaint Investigation Complete\n",
      "Complaint classification\n",
      "Investigation status\n",
      "Disposition\n",
      "Bureau of Complainant\n",
      "Division of Complainant\n",
      "Unit of Complainant\n",
      "Unit Additional Details of Complainant\n",
      "Working Status of Complainant\n",
      "Shift of Complainant\n",
      "Rule Violation\n",
      "Paragraph Violation\n",
      "Unique Officer Allegation ID\n",
      "Officer Race Ethnicity\n",
      "Officer Gender\n",
      "Officer Age\n",
      "Officer years of service\n",
      "Complainant Gender\n",
      "Complainant Ethnicity\n",
      "Complainant Age\n"
     ]
    }
   ],
   "source": [
    "for col in nopd_complaint_df.columns:\n",
    "    print (col)"
   ]
  },
  {
   "cell_type": "code",
   "execution_count": 4,
   "metadata": {},
   "outputs": [],
   "source": [
    "#Tidying data by only keeping columns we plan on using\n",
    "nopd_complaint_df = nopd_complaint_df[['Investigation status','Complainant Ethnicity']]"
   ]
  },
  {
   "cell_type": "code",
   "execution_count": 5,
   "metadata": {},
   "outputs": [
    {
     "data": {
      "text/html": [
       "<div>\n",
       "<style scoped>\n",
       "    .dataframe tbody tr th:only-of-type {\n",
       "        vertical-align: middle;\n",
       "    }\n",
       "\n",
       "    .dataframe tbody tr th {\n",
       "        vertical-align: top;\n",
       "    }\n",
       "\n",
       "    .dataframe thead th {\n",
       "        text-align: right;\n",
       "    }\n",
       "</style>\n",
       "<table border=\"1\" class=\"dataframe\">\n",
       "  <thead>\n",
       "    <tr style=\"text-align: right;\">\n",
       "      <th></th>\n",
       "      <th>Investigation status</th>\n",
       "      <th>Complainant Ethnicity</th>\n",
       "    </tr>\n",
       "  </thead>\n",
       "  <tbody>\n",
       "    <tr>\n",
       "      <th>0</th>\n",
       "      <td>Completed</td>\n",
       "      <td>Black</td>\n",
       "    </tr>\n",
       "    <tr>\n",
       "      <th>1</th>\n",
       "      <td>Completed</td>\n",
       "      <td>White</td>\n",
       "    </tr>\n",
       "    <tr>\n",
       "      <th>2</th>\n",
       "      <td>Completed</td>\n",
       "      <td>White</td>\n",
       "    </tr>\n",
       "    <tr>\n",
       "      <th>3</th>\n",
       "      <td>Completed</td>\n",
       "      <td>NaN</td>\n",
       "    </tr>\n",
       "    <tr>\n",
       "      <th>4</th>\n",
       "      <td>Completed</td>\n",
       "      <td>Black</td>\n",
       "    </tr>\n",
       "    <tr>\n",
       "      <th>...</th>\n",
       "      <td>...</td>\n",
       "      <td>...</td>\n",
       "    </tr>\n",
       "    <tr>\n",
       "      <th>5853</th>\n",
       "      <td>Initial</td>\n",
       "      <td>NaN</td>\n",
       "    </tr>\n",
       "    <tr>\n",
       "      <th>5854</th>\n",
       "      <td>Initial</td>\n",
       "      <td>NaN</td>\n",
       "    </tr>\n",
       "    <tr>\n",
       "      <th>5855</th>\n",
       "      <td>Initial</td>\n",
       "      <td>NaN</td>\n",
       "    </tr>\n",
       "    <tr>\n",
       "      <th>5856</th>\n",
       "      <td>Initial</td>\n",
       "      <td>Black</td>\n",
       "    </tr>\n",
       "    <tr>\n",
       "      <th>5857</th>\n",
       "      <td>Initial</td>\n",
       "      <td>White</td>\n",
       "    </tr>\n",
       "  </tbody>\n",
       "</table>\n",
       "<p>5858 rows × 2 columns</p>\n",
       "</div>"
      ],
      "text/plain": [
       "     Investigation status Complainant Ethnicity\n",
       "0               Completed                 Black\n",
       "1               Completed                 White\n",
       "2               Completed                 White\n",
       "3               Completed                   NaN\n",
       "4               Completed                 Black\n",
       "...                   ...                   ...\n",
       "5853              Initial                   NaN\n",
       "5854              Initial                   NaN\n",
       "5855              Initial                   NaN\n",
       "5856              Initial                 Black\n",
       "5857              Initial                 White\n",
       "\n",
       "[5858 rows x 2 columns]"
      ]
     },
     "execution_count": 5,
     "metadata": {},
     "output_type": "execute_result"
    }
   ],
   "source": [
    "nopd_complaint_df"
   ]
  },
  {
   "cell_type": "markdown",
   "metadata": {},
   "source": [
    "# Milestone 2"
   ]
  },
  {
   "cell_type": "markdown",
   "metadata": {},
   "source": [
    "One of the first things we wanted to look at was the status of the investigations. Since this is a categorical variable, the most important thing we can look at is the counts of each observation."
   ]
  },
  {
   "cell_type": "code",
   "execution_count": 6,
   "metadata": {},
   "outputs": [
    {
     "data": {
      "text/plain": [
       "Completed    4626\n",
       "Active        575\n",
       "Forwarded     398\n",
       "Initial       259\n",
       "Name: Investigation status, dtype: int64"
      ]
     },
     "execution_count": 6,
     "metadata": {},
     "output_type": "execute_result"
    }
   ],
   "source": [
    "nopd_complaint_df[\"Investigation status\"].value_counts()"
   ]
  },
  {
   "cell_type": "markdown",
   "metadata": {},
   "source": [
    "To visualize the distribution of the investigation statuses, a pie chart would look best."
   ]
  },
  {
   "cell_type": "code",
   "execution_count": 7,
   "metadata": {},
   "outputs": [
    {
     "data": {
      "text/plain": [
       "<AxesSubplot:title={'center':'Investigation Status'}>"
      ]
     },
     "execution_count": 7,
     "metadata": {},
     "output_type": "execute_result"
    },
    {
     "data": {
      "image/png": "[encoded data removed]",
      "text/plain": [
       "<Figure size 432x288 with 1 Axes>"
      ]
     },
     "metadata": {},
     "output_type": "display_data"
    }
   ],
   "source": [
    "nopd_complaint_df[\"Investigation status\"].value_counts().plot.pie(ylabel=\"\",title=\"Investigation Status\")"
   ]
  },
  {
   "cell_type": "markdown",
   "metadata": {},
   "source": [
    "The next thing we wanted to look at was the distribution of the complainants' ethnicities. However, we have to clean up the data a little bit since the ethnicities were not entered consistently, as shown below."
   ]
  },
  {
   "cell_type": "code",
   "execution_count": 8,
   "metadata": {},
   "outputs": [
    {
     "data": {
      "text/plain": [
       "Black           2195\n",
       "White            725\n",
       "Race-Unknown      93\n",
       "B                 73\n",
       "Hispanic          73\n",
       "W                 20\n",
       "Asian             12\n",
       "w                  9\n",
       "b                  7\n",
       "black              6\n",
       "Unkown             1\n",
       "white              1\n",
       "Indian             1\n",
       "Unknown            1\n",
       "BLACK              1\n",
       "Name: Complainant Ethnicity, dtype: int64"
      ]
     },
     "execution_count": 8,
     "metadata": {},
     "output_type": "execute_result"
    }
   ],
   "source": [
    "nopd_complaint_df[\"Complainant Ethnicity\"].value_counts()"
   ]
  },
  {
   "cell_type": "markdown",
   "metadata": {},
   "source": [
    "We know that \"Black,\" \"B,\" \"b,\" \"black,\" and \"BLACK\" should all map to the same ethnicity, which we can fix by using the map() function. We can do this for all other ethnicities. The nice thing about the map() function is that we can exclude values that we do not want to map, such as Unknown, which will convert to NaN and not be included in the visualizations."
   ]
  },
  {
   "cell_type": "code",
   "execution_count": 9,
   "metadata": {},
   "outputs": [],
   "source": [
    "nopd_complaint_df[\"Complainant Ethnicity\"] = nopd_complaint_df[\"Complainant Ethnicity\"].map({\n",
    "    'Black': 'Black',\n",
    "    'black': 'Black',\n",
    "    'BLACK': 'Black',\n",
    "    'B': 'Black',\n",
    "    'b': 'Black',\n",
    "    'White': 'White',\n",
    "    'white': 'White',\n",
    "    'w': 'White',\n",
    "    'W': \"White\",\n",
    "    'Asian': 'Asian',\n",
    "    'Indian': 'Asian',\n",
    "    'Hispanic': 'Hispanic'\n",
    "})"
   ]
  },
  {
   "cell_type": "markdown",
   "metadata": {},
   "source": [
    "Now that the ethnicities are mapped properly, as shown below, we can make a visualization to show the distribution of the ethnicities that filed complaints."
   ]
  },
  {
   "cell_type": "code",
   "execution_count": 10,
   "metadata": {},
   "outputs": [
    {
     "data": {
      "text/plain": [
       "Black       2282\n",
       "White        755\n",
       "Hispanic      73\n",
       "Asian         13\n",
       "Name: Complainant Ethnicity, dtype: int64"
      ]
     },
     "execution_count": 10,
     "metadata": {},
     "output_type": "execute_result"
    }
   ],
   "source": [
    "nopd_complaint_df[\"Complainant Ethnicity\"].value_counts()"
   ]
  },
  {
   "cell_type": "code",
   "execution_count": 11,
   "metadata": {},
   "outputs": [
    {
     "data": {
      "text/plain": [
       "<AxesSubplot:title={'center':'Complainant Ethnicity'}>"
      ]
     },
     "execution_count": 11,
     "metadata": {},
     "output_type": "execute_result"
    },
    {
     "data": {
      "image/png": "[encoded data removed]",
      "text/plain": [
       "<Figure size 432x288 with 1 Axes>"
      ]
     },
     "metadata": {},
     "output_type": "display_data"
    }
   ],
   "source": [
    "nopd_complaint_df[\"Complainant Ethnicity\"].value_counts().plot.pie(ylabel=\"\",title=\"Complainant Ethnicity\")"
   ]
  },
  {
   "cell_type": "markdown",
   "metadata": {},
   "source": [
    "We can also create a cross-tabulation between \"Investigation status\" and \"Complainant Ethnicity\" to view if the investigation status is different based on complainant ethnicities. To visalize this, we should create a stacked bar plot."
   ]
  },
  {
   "cell_type": "code",
   "execution_count": 12,
   "metadata": {},
   "outputs": [
    {
     "data": {
      "text/html": [
       "<div>\n",
       "<style scoped>\n",
       "    .dataframe tbody tr th:only-of-type {\n",
       "        vertical-align: middle;\n",
       "    }\n",
       "\n",
       "    .dataframe tbody tr th {\n",
       "        vertical-align: top;\n",
       "    }\n",
       "\n",
       "    .dataframe thead th {\n",
       "        text-align: right;\n",
       "    }\n",
       "</style>\n",
       "<table border=\"1\" class=\"dataframe\">\n",
       "  <thead>\n",
       "    <tr style=\"text-align: right;\">\n",
       "      <th>Investigation status</th>\n",
       "      <th>Active</th>\n",
       "      <th>Completed</th>\n",
       "      <th>Forwarded</th>\n",
       "      <th>Initial</th>\n",
       "    </tr>\n",
       "    <tr>\n",
       "      <th>Complainant Ethnicity</th>\n",
       "      <th></th>\n",
       "      <th></th>\n",
       "      <th></th>\n",
       "      <th></th>\n",
       "    </tr>\n",
       "  </thead>\n",
       "  <tbody>\n",
       "    <tr>\n",
       "      <th>Asian</th>\n",
       "      <td>0.004367</td>\n",
       "      <td>0.004376</td>\n",
       "      <td>0.0</td>\n",
       "      <td>0.000000</td>\n",
       "    </tr>\n",
       "    <tr>\n",
       "      <th>Black</th>\n",
       "      <td>0.759825</td>\n",
       "      <td>0.726477</td>\n",
       "      <td>0.8</td>\n",
       "      <td>0.692308</td>\n",
       "    </tr>\n",
       "    <tr>\n",
       "      <th>Hispanic</th>\n",
       "      <td>0.021834</td>\n",
       "      <td>0.024799</td>\n",
       "      <td>0.0</td>\n",
       "      <td>0.000000</td>\n",
       "    </tr>\n",
       "    <tr>\n",
       "      <th>White</th>\n",
       "      <td>0.213974</td>\n",
       "      <td>0.244347</td>\n",
       "      <td>0.2</td>\n",
       "      <td>0.307692</td>\n",
       "    </tr>\n",
       "  </tbody>\n",
       "</table>\n",
       "</div>"
      ],
      "text/plain": [
       "Investigation status     Active  Completed  Forwarded   Initial\n",
       "Complainant Ethnicity                                          \n",
       "Asian                  0.004367   0.004376        0.0  0.000000\n",
       "Black                  0.759825   0.726477        0.8  0.692308\n",
       "Hispanic               0.021834   0.024799        0.0  0.000000\n",
       "White                  0.213974   0.244347        0.2  0.307692"
      ]
     },
     "execution_count": 12,
     "metadata": {},
     "output_type": "execute_result"
    }
   ],
   "source": [
    "counts = pd.crosstab(nopd_complaint_df['Complainant Ethnicity'], nopd_complaint_df['Investigation status'],normalize=True)\n",
    "ethnicity_given_status = counts.divide(counts.sum(axis=0), axis=1)\n",
    "ethnicity_given_status"
   ]
  },
  {
   "cell_type": "code",
   "execution_count": 13,
   "metadata": {},
   "outputs": [
    {
     "data": {
      "text/plain": [
       "<AxesSubplot:xlabel='Investigation status'>"
      ]
     },
     "execution_count": 13,
     "metadata": {},
     "output_type": "execute_result"
    },
    {
     "data": {
      "image/png": "[encoded data removed]",
      "text/plain": [
       "<Figure size 432x288 with 1 Axes>"
      ]
     },
     "metadata": {
      "needs_background": "light"
     },
     "output_type": "display_data"
    }
   ],
   "source": [
    "#Transposing the above table to make Investigation status the bars on the x-axis\n",
    "(ethnicity_given_status.T).plot.bar(stacked=True)"
   ]
  },
  {
   "cell_type": "markdown",
   "metadata": {},
   "source": [
    "### NOPD Use of Force "
   ]
  },
  {
   "cell_type": "markdown",
   "metadata": {},
   "source": [
    "We also want to analyze at the NOPD's use of force data. We will follow similar steps that we did for the NOPD Misconduct Complaints."
   ]
  },
  {
   "cell_type": "markdown",
   "metadata": {},
   "source": [
    "Source of the csv file: https://data.nola.gov/Public-Safety-and-Preparedness/NOPD-Use-of-Force-Incidents/9mnw-mbde"
   ]
  },
  {
   "cell_type": "code",
   "execution_count": 14,
   "metadata": {},
   "outputs": [
    {
     "data": {
      "text/html": [
       "<div>\n",
       "<style scoped>\n",
       "    .dataframe tbody tr th:only-of-type {\n",
       "        vertical-align: middle;\n",
       "    }\n",
       "\n",
       "    .dataframe tbody tr th {\n",
       "        vertical-align: top;\n",
       "    }\n",
       "\n",
       "    .dataframe thead th {\n",
       "        text-align: right;\n",
       "    }\n",
       "</style>\n",
       "<table border=\"1\" class=\"dataframe\">\n",
       "  <thead>\n",
       "    <tr style=\"text-align: right;\">\n",
       "      <th></th>\n",
       "      <th>PIB File Number</th>\n",
       "      <th>Date Occurred</th>\n",
       "      <th>Originating Bureau</th>\n",
       "      <th>Division level</th>\n",
       "      <th>Division</th>\n",
       "      <th>Unit</th>\n",
       "      <th>Working Status</th>\n",
       "      <th>Shift</th>\n",
       "      <th>Investigation status</th>\n",
       "      <th>Disposition</th>\n",
       "      <th>...</th>\n",
       "      <th>Subject Ethnicity</th>\n",
       "      <th>Subject Age</th>\n",
       "      <th>Subject Build</th>\n",
       "      <th>Subject Height</th>\n",
       "      <th>Subject Injured</th>\n",
       "      <th>Subject Hospitalized</th>\n",
       "      <th>Subject Arrested</th>\n",
       "      <th>Subject Arrest Charges</th>\n",
       "      <th>Use of Force Reason</th>\n",
       "      <th>Officer Injured</th>\n",
       "    </tr>\n",
       "  </thead>\n",
       "  <tbody>\n",
       "    <tr>\n",
       "      <th>0</th>\n",
       "      <td>FTN2016-0112</td>\n",
       "      <td>03/23/2016</td>\n",
       "      <td>FOB - Field Operations Bureau</td>\n",
       "      <td>7th District</td>\n",
       "      <td>Evening Watch</td>\n",
       "      <td>NaN</td>\n",
       "      <td>Unknown Working Status</td>\n",
       "      <td>Unknown Shift Hours</td>\n",
       "      <td>Initial</td>\n",
       "      <td>Pending</td>\n",
       "      <td>...</td>\n",
       "      <td>Black</td>\n",
       "      <td>38</td>\n",
       "      <td>NaN</td>\n",
       "      <td>NaN</td>\n",
       "      <td>No</td>\n",
       "      <td>Yes</td>\n",
       "      <td>No</td>\n",
       "      <td>NaN</td>\n",
       "      <td>refuse verbal commands</td>\n",
       "      <td>No</td>\n",
       "    </tr>\n",
       "    <tr>\n",
       "      <th>1</th>\n",
       "      <td>FTN2016-0169</td>\n",
       "      <td>03/26/2016</td>\n",
       "      <td>FOB - Field Operations Bureau</td>\n",
       "      <td>6th District</td>\n",
       "      <td>B Platoon</td>\n",
       "      <td>NaN</td>\n",
       "      <td>NaN</td>\n",
       "      <td>NaN</td>\n",
       "      <td>Completed</td>\n",
       "      <td>Use Of Force Authorized</td>\n",
       "      <td>...</td>\n",
       "      <td>Black</td>\n",
       "      <td>27</td>\n",
       "      <td>Small</td>\n",
       "      <td>5'4'' to 5'6''</td>\n",
       "      <td>No</td>\n",
       "      <td>Yes</td>\n",
       "      <td>Yes</td>\n",
       "      <td>NaN</td>\n",
       "      <td>Resisting Lawful Arrest</td>\n",
       "      <td>No</td>\n",
       "    </tr>\n",
       "    <tr>\n",
       "      <th>2</th>\n",
       "      <td>FTN2016-0172</td>\n",
       "      <td>03/26/2016</td>\n",
       "      <td>FOB - Field Operations Bureau</td>\n",
       "      <td>7th District</td>\n",
       "      <td>Evening Watch</td>\n",
       "      <td>Patrol</td>\n",
       "      <td>Unknown Working Status</td>\n",
       "      <td>Unknown Shift Hours</td>\n",
       "      <td>Completed</td>\n",
       "      <td>Use Of Force Authorized</td>\n",
       "      <td>...</td>\n",
       "      <td>Black</td>\n",
       "      <td>37</td>\n",
       "      <td>Medium</td>\n",
       "      <td>5'10'' to 6'0''</td>\n",
       "      <td>No</td>\n",
       "      <td>No</td>\n",
       "      <td>No</td>\n",
       "      <td>NaN</td>\n",
       "      <td>refuse verbal commands</td>\n",
       "      <td>No | No | No</td>\n",
       "    </tr>\n",
       "    <tr>\n",
       "      <th>3</th>\n",
       "      <td>FTN2016-0168</td>\n",
       "      <td>03/26/2016</td>\n",
       "      <td>FOB - Field Operations Bureau</td>\n",
       "      <td>8th District</td>\n",
       "      <td>Narcotics</td>\n",
       "      <td>NaN</td>\n",
       "      <td>NaN</td>\n",
       "      <td>NaN</td>\n",
       "      <td>Completed</td>\n",
       "      <td>Use Of Force Authorized</td>\n",
       "      <td>...</td>\n",
       "      <td>White | Black</td>\n",
       "      <td>29 | 33</td>\n",
       "      <td>Large | Large</td>\n",
       "      <td>6'1'' to 6'3'' | 6'1'' to 6'3''</td>\n",
       "      <td>Yes | Yes</td>\n",
       "      <td>No | No</td>\n",
       "      <td>Yes | Yes</td>\n",
       "      <td>NaN</td>\n",
       "      <td>Resisting Lawful Arrest</td>\n",
       "      <td>No | No | No | No</td>\n",
       "    </tr>\n",
       "    <tr>\n",
       "      <th>4</th>\n",
       "      <td>FTN2016-0173</td>\n",
       "      <td>03/27/2016</td>\n",
       "      <td>FOB - Field Operations Bureau</td>\n",
       "      <td>7th District</td>\n",
       "      <td>Day Watch</td>\n",
       "      <td>NaN</td>\n",
       "      <td>NaN</td>\n",
       "      <td>NaN</td>\n",
       "      <td>Completed</td>\n",
       "      <td>Use Of Force Authorized</td>\n",
       "      <td>...</td>\n",
       "      <td>White</td>\n",
       "      <td>23</td>\n",
       "      <td>Small</td>\n",
       "      <td>5'10'' to 6'0''</td>\n",
       "      <td>Yes</td>\n",
       "      <td>Yes</td>\n",
       "      <td>Yes</td>\n",
       "      <td>NaN</td>\n",
       "      <td>Resisting Lawful Arrest</td>\n",
       "      <td>No | No</td>\n",
       "    </tr>\n",
       "  </tbody>\n",
       "</table>\n",
       "<p>5 rows × 33 columns</p>\n",
       "</div>"
      ],
      "text/plain": [
       "  PIB File Number Date Occurred             Originating Bureau Division level  \\\n",
       "0    FTN2016-0112    03/23/2016  FOB - Field Operations Bureau   7th District   \n",
       "1    FTN2016-0169    03/26/2016  FOB - Field Operations Bureau   6th District   \n",
       "2    FTN2016-0172    03/26/2016  FOB - Field Operations Bureau   7th District   \n",
       "3    FTN2016-0168    03/26/2016  FOB - Field Operations Bureau   8th District   \n",
       "4    FTN2016-0173    03/27/2016  FOB - Field Operations Bureau   7th District   \n",
       "\n",
       "        Division    Unit          Working Status                Shift  \\\n",
       "0  Evening Watch     NaN  Unknown Working Status  Unknown Shift Hours   \n",
       "1      B Platoon     NaN                     NaN                  NaN   \n",
       "2  Evening Watch  Patrol  Unknown Working Status  Unknown Shift Hours   \n",
       "3      Narcotics     NaN                     NaN                  NaN   \n",
       "4      Day Watch     NaN                     NaN                  NaN   \n",
       "\n",
       "  Investigation status              Disposition  ... Subject Ethnicity  \\\n",
       "0              Initial                  Pending  ...             Black   \n",
       "1            Completed  Use Of Force Authorized  ...             Black   \n",
       "2            Completed  Use Of Force Authorized  ...             Black   \n",
       "3            Completed  Use Of Force Authorized  ...     White | Black   \n",
       "4            Completed  Use Of Force Authorized  ...             White   \n",
       "\n",
       "  Subject Age  Subject Build                   Subject Height Subject Injured  \\\n",
       "0          38            NaN                              NaN              No   \n",
       "1          27          Small                   5'4'' to 5'6''              No   \n",
       "2          37         Medium                  5'10'' to 6'0''              No   \n",
       "3     29 | 33  Large | Large  6'1'' to 6'3'' | 6'1'' to 6'3''       Yes | Yes   \n",
       "4          23          Small                  5'10'' to 6'0''             Yes   \n",
       "\n",
       "  Subject Hospitalized Subject Arrested Subject Arrest Charges  \\\n",
       "0                  Yes               No                    NaN   \n",
       "1                  Yes              Yes                    NaN   \n",
       "2                   No               No                    NaN   \n",
       "3              No | No        Yes | Yes                    NaN   \n",
       "4                  Yes              Yes                    NaN   \n",
       "\n",
       "       Use of Force Reason    Officer Injured  \n",
       "0   refuse verbal commands                 No  \n",
       "1  Resisting Lawful Arrest                 No  \n",
       "2   refuse verbal commands       No | No | No  \n",
       "3  Resisting Lawful Arrest  No | No | No | No  \n",
       "4  Resisting Lawful Arrest            No | No  \n",
       "\n",
       "[5 rows x 33 columns]"
      ]
     },
     "execution_count": 14,
     "metadata": {},
     "output_type": "execute_result"
    }
   ],
   "source": [
    "nopd_use_of_force_df = pd.read_csv('../_data/NOPD_Use_Of_Force_Incidents.csv')\n",
    "nopd_use_of_force_df.head()"
   ]
  },
  {
   "cell_type": "code",
   "execution_count": 15,
   "metadata": {},
   "outputs": [
    {
     "data": {
      "text/html": [
       "<div>\n",
       "<style scoped>\n",
       "    .dataframe tbody tr th:only-of-type {\n",
       "        vertical-align: middle;\n",
       "    }\n",
       "\n",
       "    .dataframe tbody tr th {\n",
       "        vertical-align: top;\n",
       "    }\n",
       "\n",
       "    .dataframe thead th {\n",
       "        text-align: right;\n",
       "    }\n",
       "</style>\n",
       "<table border=\"1\" class=\"dataframe\">\n",
       "  <thead>\n",
       "    <tr style=\"text-align: right;\">\n",
       "      <th></th>\n",
       "      <th>Subject Ethnicity</th>\n",
       "      <th>Subject Injured</th>\n",
       "      <th>Subject Hospitalized</th>\n",
       "    </tr>\n",
       "  </thead>\n",
       "  <tbody>\n",
       "    <tr>\n",
       "      <th>0</th>\n",
       "      <td>Black</td>\n",
       "      <td>No</td>\n",
       "      <td>Yes</td>\n",
       "    </tr>\n",
       "    <tr>\n",
       "      <th>1</th>\n",
       "      <td>Black</td>\n",
       "      <td>No</td>\n",
       "      <td>Yes</td>\n",
       "    </tr>\n",
       "    <tr>\n",
       "      <th>2</th>\n",
       "      <td>Black</td>\n",
       "      <td>No</td>\n",
       "      <td>No</td>\n",
       "    </tr>\n",
       "    <tr>\n",
       "      <th>3</th>\n",
       "      <td>White | Black</td>\n",
       "      <td>Yes | Yes</td>\n",
       "      <td>No | No</td>\n",
       "    </tr>\n",
       "    <tr>\n",
       "      <th>4</th>\n",
       "      <td>White</td>\n",
       "      <td>Yes</td>\n",
       "      <td>Yes</td>\n",
       "    </tr>\n",
       "  </tbody>\n",
       "</table>\n",
       "</div>"
      ],
      "text/plain": [
       "  Subject Ethnicity Subject Injured Subject Hospitalized\n",
       "0             Black              No                  Yes\n",
       "1             Black              No                  Yes\n",
       "2             Black              No                   No\n",
       "3     White | Black       Yes | Yes              No | No\n",
       "4             White             Yes                  Yes"
      ]
     },
     "execution_count": 15,
     "metadata": {},
     "output_type": "execute_result"
    }
   ],
   "source": [
    "nopd_use_of_force_df = nopd_use_of_force_df[['Subject Ethnicity', 'Subject Injured', 'Subject Hospitalized']]\n",
    "nopd_use_of_force_df.head()"
   ]
  },
  {
   "cell_type": "markdown",
   "metadata": {},
   "source": [
    "In the third row, the ethnicity is listed as \"White | Black.\" That is because the use of force instance represents two subjects, with one white person and one black person."
   ]
  },
  {
   "cell_type": "code",
   "execution_count": 16,
   "metadata": {},
   "outputs": [
    {
     "data": {
      "text/plain": [
       "Black                                    1908\n",
       "White                                     333\n",
       "Black | Black                             183\n",
       "Black | Black | Black                      66\n",
       "Hispanic                                   56\n",
       "Black | Black | Black | Black              35\n",
       "White | White                              19\n",
       "Asian                                      14\n",
       "Black | Black | Black | Black | Black      13\n",
       "Black | White                              11\n",
       "Name: Subject Ethnicity, dtype: int64"
      ]
     },
     "execution_count": 16,
     "metadata": {},
     "output_type": "execute_result"
    }
   ],
   "source": [
    "nopd_use_of_force_df['Subject Ethnicity'].value_counts().head(10)"
   ]
  },
  {
   "cell_type": "markdown",
   "metadata": {},
   "source": [
    "Since the majority of use of force cases involve one person, we have decided to remove cases involving multiple subjects, which is denoted by \"|\"."
   ]
  },
  {
   "cell_type": "code",
   "execution_count": 17,
   "metadata": {},
   "outputs": [
    {
     "data": {
      "text/plain": [
       "['Black', 'White', 'nan', 'Asian', 'W', 'Hispanic', 'Race-Unknown', 'Indian']"
      ]
     },
     "execution_count": 17,
     "metadata": {},
     "output_type": "execute_result"
    }
   ],
   "source": [
    "l = nopd_use_of_force_df[\"Subject Ethnicity\"].unique()\n",
    "\n",
    "l = [str(x) for x in l]\n",
    "unique = [x for x in l if \"|\" not in x]\n",
    "unique"
   ]
  },
  {
   "cell_type": "markdown",
   "metadata": {},
   "source": [
    "Now we can map the ethnicities similar to the previous DataFrame and create a visualization."
   ]
  },
  {
   "cell_type": "code",
   "execution_count": 18,
   "metadata": {},
   "outputs": [],
   "source": [
    "nopd_use_of_force_df[\"Subject Ethnicity\"] = nopd_use_of_force_df['Subject Ethnicity'].map({\n",
    "    \"Black\": \"Black\",\n",
    "    \"White\": \"White\",\n",
    "    \"W\": \"White\",\n",
    "    \"Asian\": \"Asian\",\n",
    "    \"Indian\": \"Asian\",\n",
    "    \"Hispanic\": \"Hispanic\",   \n",
    "})"
   ]
  },
  {
   "cell_type": "code",
   "execution_count": 47,
   "metadata": {},
   "outputs": [
    {
     "data": {
      "text/plain": [
       "<AxesSubplot:title={'center':'Subject Ethnicity'}>"
      ]
     },
     "execution_count": 47,
     "metadata": {},
     "output_type": "execute_result"
    },
    {
     "data": {
      "image/png": "[encoded data removed]",
      "text/plain": [
       "<Figure size 432x288 with 1 Axes>"
      ]
     },
     "metadata": {},
     "output_type": "display_data"
    }
   ],
   "source": [
    "nopd_use_of_force_df[\"Subject Ethnicity\"].value_counts().plot.pie(ylabel=\"\",title=\"Subject Ethnicity\")"
   ]
  },
  {
   "cell_type": "markdown",
   "metadata": {},
   "source": [
    "One thing that would be interesting to look at is the distributions of the ethnicities when the subject was injured and hospitalized as a result of police use of force."
   ]
  },
  {
   "cell_type": "code",
   "execution_count": 20,
   "metadata": {},
   "outputs": [],
   "source": [
    "nopd_use_of_force_df[\"Subject Injured\"] = nopd_use_of_force_df[\"Subject Injured\"].map({\n",
    "    \"Yes\" : \"Yes\",\n",
    "    \"No\": \"No\"\n",
    "})\n",
    "nopd_use_of_force_df[\"Subject Hospitalized\"] = nopd_use_of_force_df[\"Subject Hospitalized\"].map({\n",
    "    \"Yes\" : \"Yes\",\n",
    "    \"No\" : \"No\"\n",
    "})"
   ]
  },
  {
   "cell_type": "markdown",
   "metadata": {},
   "source": [
    "To visualize the difference in ethnicity of the subject when they are injured or not, we should create a stacked bar plot from a cross-tabulation between \"Subject Ethnicity\" and \"Subject Injured.\""
   ]
  },
  {
   "cell_type": "code",
   "execution_count": 21,
   "metadata": {},
   "outputs": [
    {
     "data": {
      "text/html": [
       "<div>\n",
       "<style scoped>\n",
       "    .dataframe tbody tr th:only-of-type {\n",
       "        vertical-align: middle;\n",
       "    }\n",
       "\n",
       "    .dataframe tbody tr th {\n",
       "        vertical-align: top;\n",
       "    }\n",
       "\n",
       "    .dataframe thead th {\n",
       "        text-align: right;\n",
       "    }\n",
       "</style>\n",
       "<table border=\"1\" class=\"dataframe\">\n",
       "  <thead>\n",
       "    <tr style=\"text-align: right;\">\n",
       "      <th>Subject Injured</th>\n",
       "      <th>No</th>\n",
       "      <th>Yes</th>\n",
       "    </tr>\n",
       "    <tr>\n",
       "      <th>Subject Ethnicity</th>\n",
       "      <th></th>\n",
       "      <th></th>\n",
       "    </tr>\n",
       "  </thead>\n",
       "  <tbody>\n",
       "    <tr>\n",
       "      <th>Asian</th>\n",
       "      <td>0.007511</td>\n",
       "      <td>0.004444</td>\n",
       "    </tr>\n",
       "    <tr>\n",
       "      <th>Black</th>\n",
       "      <td>0.835300</td>\n",
       "      <td>0.780000</td>\n",
       "    </tr>\n",
       "    <tr>\n",
       "      <th>Hispanic</th>\n",
       "      <td>0.025751</td>\n",
       "      <td>0.017778</td>\n",
       "    </tr>\n",
       "    <tr>\n",
       "      <th>White</th>\n",
       "      <td>0.131438</td>\n",
       "      <td>0.197778</td>\n",
       "    </tr>\n",
       "  </tbody>\n",
       "</table>\n",
       "</div>"
      ],
      "text/plain": [
       "Subject Injured          No       Yes\n",
       "Subject Ethnicity                    \n",
       "Asian              0.007511  0.004444\n",
       "Black              0.835300  0.780000\n",
       "Hispanic           0.025751  0.017778\n",
       "White              0.131438  0.197778"
      ]
     },
     "execution_count": 21,
     "metadata": {},
     "output_type": "execute_result"
    }
   ],
   "source": [
    "counts = pd.crosstab(nopd_use_of_force_df['Subject Ethnicity'], nopd_use_of_force_df['Subject Injured'],normalize=True)\n",
    "ethnicity_given_injured = counts.divide(counts.sum(axis=0), axis=1)\n",
    "ethnicity_given_injured"
   ]
  },
  {
   "cell_type": "code",
   "execution_count": 22,
   "metadata": {},
   "outputs": [
    {
     "data": {
      "text/plain": [
       "<AxesSubplot:xlabel='Subject Injured'>"
      ]
     },
     "execution_count": 22,
     "metadata": {},
     "output_type": "execute_result"
    },
    {
     "data": {
      "image/png": "[encoded data removed]",
      "text/plain": [
       "<Figure size 432x288 with 1 Axes>"
      ]
     },
     "metadata": {
      "needs_background": "light"
     },
     "output_type": "display_data"
    }
   ],
   "source": [
    "#Transposing the above table to make Subject Injured the two bars to compare\n",
    "(ethnicity_given_injured.T).plot.bar(stacked=True)"
   ]
  },
  {
   "cell_type": "markdown",
   "metadata": {},
   "source": [
    "We can do the same thing between for \"Subject Hospitalized.\""
   ]
  },
  {
   "cell_type": "code",
   "execution_count": 23,
   "metadata": {},
   "outputs": [
    {
     "data": {
      "text/html": [
       "<div>\n",
       "<style scoped>\n",
       "    .dataframe tbody tr th:only-of-type {\n",
       "        vertical-align: middle;\n",
       "    }\n",
       "\n",
       "    .dataframe tbody tr th {\n",
       "        vertical-align: top;\n",
       "    }\n",
       "\n",
       "    .dataframe thead th {\n",
       "        text-align: right;\n",
       "    }\n",
       "</style>\n",
       "<table border=\"1\" class=\"dataframe\">\n",
       "  <thead>\n",
       "    <tr style=\"text-align: right;\">\n",
       "      <th>Subject Hospitalized</th>\n",
       "      <th>No</th>\n",
       "      <th>Yes</th>\n",
       "    </tr>\n",
       "    <tr>\n",
       "      <th>Subject Ethnicity</th>\n",
       "      <th></th>\n",
       "      <th></th>\n",
       "    </tr>\n",
       "  </thead>\n",
       "  <tbody>\n",
       "    <tr>\n",
       "      <th>Asian</th>\n",
       "      <td>0.007057</td>\n",
       "      <td>0.006689</td>\n",
       "    </tr>\n",
       "    <tr>\n",
       "      <th>Black</th>\n",
       "      <td>0.851800</td>\n",
       "      <td>0.781494</td>\n",
       "    </tr>\n",
       "    <tr>\n",
       "      <th>Hispanic</th>\n",
       "      <td>0.028229</td>\n",
       "      <td>0.017837</td>\n",
       "    </tr>\n",
       "    <tr>\n",
       "      <th>White</th>\n",
       "      <td>0.112915</td>\n",
       "      <td>0.193980</td>\n",
       "    </tr>\n",
       "  </tbody>\n",
       "</table>\n",
       "</div>"
      ],
      "text/plain": [
       "Subject Hospitalized        No       Yes\n",
       "Subject Ethnicity                       \n",
       "Asian                 0.007057  0.006689\n",
       "Black                 0.851800  0.781494\n",
       "Hispanic              0.028229  0.017837\n",
       "White                 0.112915  0.193980"
      ]
     },
     "execution_count": 23,
     "metadata": {},
     "output_type": "execute_result"
    }
   ],
   "source": [
    "counts = pd.crosstab(nopd_use_of_force_df['Subject Ethnicity'], nopd_use_of_force_df['Subject Hospitalized'],normalize=True)\n",
    "ethnicity_given_hospitalized = counts.divide(counts.sum(axis=0), axis=1)\n",
    "ethnicity_given_hospitalized"
   ]
  },
  {
   "cell_type": "code",
   "execution_count": 24,
   "metadata": {},
   "outputs": [
    {
     "data": {
      "text/plain": [
       "<AxesSubplot:xlabel='Subject Hospitalized'>"
      ]
     },
     "execution_count": 24,
     "metadata": {},
     "output_type": "execute_result"
    },
    {
     "data": {
      "image/png": "[encoded data removed]",
      "text/plain": [
       "<Figure size 432x288 with 1 Axes>"
      ]
     },
     "metadata": {
      "needs_background": "light"
     },
     "output_type": "display_data"
    }
   ],
   "source": [
    "(ethnicity_given_hospitalized.T).plot.bar(stacked=True)"
   ]
  },
  {
   "cell_type": "markdown",
   "metadata": {},
   "source": [
    "In the final project, we plan on comparing use of force data in New Orleans to Austin and Orlando."
   ]
  },
  {
   "cell_type": "markdown",
   "metadata": {},
   "source": [
    "### Austin Police Response To Resistance"
   ]
  },
  {
   "cell_type": "markdown",
   "metadata": {},
   "source": [
    "Source of the csv file: https://data.austintexas.gov/Public-Safety/R2R-2015/iydp-s2cf\n"
   ]
  },
  {
   "cell_type": "code",
   "execution_count": 25,
   "metadata": {},
   "outputs": [
    {
     "data": {
      "text/html": [
       "<div>\n",
       "<style scoped>\n",
       "    .dataframe tbody tr th:only-of-type {\n",
       "        vertical-align: middle;\n",
       "    }\n",
       "\n",
       "    .dataframe tbody tr th {\n",
       "        vertical-align: top;\n",
       "    }\n",
       "\n",
       "    .dataframe thead th {\n",
       "        text-align: right;\n",
       "    }\n",
       "</style>\n",
       "<table border=\"1\" class=\"dataframe\">\n",
       "  <thead>\n",
       "    <tr style=\"text-align: right;\">\n",
       "      <th></th>\n",
       "      <th>RIN</th>\n",
       "      <th>Primary Key</th>\n",
       "      <th>Date Occurred</th>\n",
       "      <th>Time Occurred</th>\n",
       "      <th>Location</th>\n",
       "      <th>Area Command</th>\n",
       "      <th>Nature of Contact</th>\n",
       "      <th>Reason Desc</th>\n",
       "      <th>R2R Level</th>\n",
       "      <th>Master Subject ID</th>\n",
       "      <th>...</th>\n",
       "      <th>Weapon Used 5</th>\n",
       "      <th>Number Shots</th>\n",
       "      <th>Subject Effects</th>\n",
       "      <th>Effect on Officer</th>\n",
       "      <th>Officer Organization Desc</th>\n",
       "      <th>Officer Commission Date</th>\n",
       "      <th>Officer Yrs of Service</th>\n",
       "      <th>X-Coordinate</th>\n",
       "      <th>Y-Coordinate</th>\n",
       "      <th>CouncilDistrict</th>\n",
       "    </tr>\n",
       "  </thead>\n",
       "  <tbody>\n",
       "    <tr>\n",
       "      <th>0</th>\n",
       "      <td>154,619</td>\n",
       "      <td>201,510,652</td>\n",
       "      <td>01/01/2015 12:00:00 AM</td>\n",
       "      <td>0220</td>\n",
       "      <td>E 6TH ST / TRINITY ST</td>\n",
       "      <td>GE</td>\n",
       "      <td>VIEWED OFFENSE</td>\n",
       "      <td>NECESSARY TO EFFECT ARREST / DETENTION</td>\n",
       "      <td>3.0</td>\n",
       "      <td>459228703: 201510652</td>\n",
       "      <td>...</td>\n",
       "      <td>NaN</td>\n",
       "      <td>NaN</td>\n",
       "      <td>NO COMPLAINT OF INJURY/PAIN</td>\n",
       "      <td>NO COMPLAINT OF INJURY/PAIN</td>\n",
       "      <td>GEORGE 600 REG I PATROL</td>\n",
       "      <td>05/17/2013 12:00:00 AM</td>\n",
       "      <td>2</td>\n",
       "      <td>3,115,416</td>\n",
       "      <td>10,070,416</td>\n",
       "      <td>9.0</td>\n",
       "    </tr>\n",
       "    <tr>\n",
       "      <th>1</th>\n",
       "      <td>154,620</td>\n",
       "      <td>201,510,652</td>\n",
       "      <td>01/01/2015 12:00:00 AM</td>\n",
       "      <td>0225</td>\n",
       "      <td>E 6TH ST / TRINITY ST</td>\n",
       "      <td>GE</td>\n",
       "      <td>VIEWED OFFENSE</td>\n",
       "      <td>NECESSARY TO EFFECT ARREST / DETENTION</td>\n",
       "      <td>3.0</td>\n",
       "      <td>459228703: 201510652</td>\n",
       "      <td>...</td>\n",
       "      <td>NaN</td>\n",
       "      <td>NaN</td>\n",
       "      <td>MINOR INJURY</td>\n",
       "      <td>NO COMPLAINT OF INJURY/PAIN</td>\n",
       "      <td>GEORGE 700 REG I PATROL</td>\n",
       "      <td>05/10/2002 12:00:00 AM</td>\n",
       "      <td>13</td>\n",
       "      <td>3,115,416</td>\n",
       "      <td>10,070,416</td>\n",
       "      <td>9.0</td>\n",
       "    </tr>\n",
       "    <tr>\n",
       "      <th>2</th>\n",
       "      <td>155,009</td>\n",
       "      <td>201,510,652</td>\n",
       "      <td>01/01/2015 12:00:00 AM</td>\n",
       "      <td></td>\n",
       "      <td>E 6TH ST / TRINITY ST</td>\n",
       "      <td>GE</td>\n",
       "      <td>VIEWED OFFENSE</td>\n",
       "      <td>NECESSARY TO EFFECT ARREST / DETENTION</td>\n",
       "      <td>3.0</td>\n",
       "      <td>459228703: 201510652</td>\n",
       "      <td>...</td>\n",
       "      <td>NaN</td>\n",
       "      <td>NaN</td>\n",
       "      <td>NO COMPLAINT OF INJURY/PAIN</td>\n",
       "      <td>NO COMPLAINT OF INJURY/PAIN</td>\n",
       "      <td>GEORGE 300 REG I PATROL</td>\n",
       "      <td>11/30/2012 12:00:00 AM</td>\n",
       "      <td>2</td>\n",
       "      <td>3,115,416</td>\n",
       "      <td>10,070,416</td>\n",
       "      <td>9.0</td>\n",
       "    </tr>\n",
       "    <tr>\n",
       "      <th>3</th>\n",
       "      <td>154,764</td>\n",
       "      <td>201,520,457</td>\n",
       "      <td>01/02/2015 12:00:00 AM</td>\n",
       "      <td>0943</td>\n",
       "      <td>1900 FARO DR</td>\n",
       "      <td>HE</td>\n",
       "      <td>DISPATCHED CALL</td>\n",
       "      <td>TO RESTRAIN FOR SUBJECTS SAFETY</td>\n",
       "      <td>3.0</td>\n",
       "      <td>356649076: 201520457</td>\n",
       "      <td>...</td>\n",
       "      <td>NaN</td>\n",
       "      <td>NaN</td>\n",
       "      <td>COMPLAINT OF INJURY/PAIN</td>\n",
       "      <td>COMPLAINT OF INJURY/PAIN</td>\n",
       "      <td>HENRY 100 REG III PATROL</td>\n",
       "      <td>06/20/2008 12:00:00 AM</td>\n",
       "      <td>7</td>\n",
       "      <td>3,124,262</td>\n",
       "      <td>10,057,181</td>\n",
       "      <td>3.0</td>\n",
       "    </tr>\n",
       "    <tr>\n",
       "      <th>4</th>\n",
       "      <td>154,859</td>\n",
       "      <td>201,520,457</td>\n",
       "      <td>01/02/2015 12:00:00 AM</td>\n",
       "      <td>0943</td>\n",
       "      <td>1900 FARO DR</td>\n",
       "      <td>HE</td>\n",
       "      <td>DISPATCHED CALL</td>\n",
       "      <td>IN CUSTODY, MAINTAINING CONTROL</td>\n",
       "      <td>3.0</td>\n",
       "      <td>356649076: 201520457</td>\n",
       "      <td>...</td>\n",
       "      <td>NaN</td>\n",
       "      <td>NaN</td>\n",
       "      <td>COMPLAINT OF INJURY/PAIN</td>\n",
       "      <td>NO COMPLAINT OF INJURY/PAIN</td>\n",
       "      <td>HENRY 100 REG III PATROL</td>\n",
       "      <td>01/02/2009 12:00:00 AM</td>\n",
       "      <td>6</td>\n",
       "      <td>3,124,262</td>\n",
       "      <td>10,057,181</td>\n",
       "      <td>3.0</td>\n",
       "    </tr>\n",
       "  </tbody>\n",
       "</table>\n",
       "<p>5 rows × 29 columns</p>\n",
       "</div>"
      ],
      "text/plain": [
       "       RIN  Primary Key           Date Occurred Time Occurred  \\\n",
       "0  154,619  201,510,652  01/01/2015 12:00:00 AM          0220   \n",
       "1  154,620  201,510,652  01/01/2015 12:00:00 AM          0225   \n",
       "2  155,009  201,510,652  01/01/2015 12:00:00 AM                 \n",
       "3  154,764  201,520,457  01/02/2015 12:00:00 AM          0943   \n",
       "4  154,859  201,520,457  01/02/2015 12:00:00 AM          0943   \n",
       "\n",
       "                Location Area Command Nature of Contact  \\\n",
       "0  E 6TH ST / TRINITY ST           GE    VIEWED OFFENSE   \n",
       "1  E 6TH ST / TRINITY ST           GE    VIEWED OFFENSE   \n",
       "2  E 6TH ST / TRINITY ST           GE    VIEWED OFFENSE   \n",
       "3           1900 FARO DR           HE   DISPATCHED CALL   \n",
       "4           1900 FARO DR           HE   DISPATCHED CALL   \n",
       "\n",
       "                              Reason Desc  R2R Level     Master Subject ID  \\\n",
       "0  NECESSARY TO EFFECT ARREST / DETENTION        3.0  459228703: 201510652   \n",
       "1  NECESSARY TO EFFECT ARREST / DETENTION        3.0  459228703: 201510652   \n",
       "2  NECESSARY TO EFFECT ARREST / DETENTION        3.0  459228703: 201510652   \n",
       "3         TO RESTRAIN FOR SUBJECTS SAFETY        3.0  356649076: 201520457   \n",
       "4         IN CUSTODY, MAINTAINING CONTROL        3.0  356649076: 201520457   \n",
       "\n",
       "   ... Weapon Used 5 Number Shots              Subject Effects  \\\n",
       "0  ...           NaN          NaN  NO COMPLAINT OF INJURY/PAIN   \n",
       "1  ...           NaN          NaN                 MINOR INJURY   \n",
       "2  ...           NaN          NaN  NO COMPLAINT OF INJURY/PAIN   \n",
       "3  ...           NaN          NaN     COMPLAINT OF INJURY/PAIN   \n",
       "4  ...           NaN          NaN     COMPLAINT OF INJURY/PAIN   \n",
       "\n",
       "             Effect on Officer Officer Organization Desc  \\\n",
       "0  NO COMPLAINT OF INJURY/PAIN   GEORGE 600 REG I PATROL   \n",
       "1  NO COMPLAINT OF INJURY/PAIN   GEORGE 700 REG I PATROL   \n",
       "2  NO COMPLAINT OF INJURY/PAIN   GEORGE 300 REG I PATROL   \n",
       "3     COMPLAINT OF INJURY/PAIN  HENRY 100 REG III PATROL   \n",
       "4  NO COMPLAINT OF INJURY/PAIN  HENRY 100 REG III PATROL   \n",
       "\n",
       "  Officer Commission Date Officer Yrs of Service X-Coordinate Y-Coordinate  \\\n",
       "0  05/17/2013 12:00:00 AM                      2    3,115,416   10,070,416   \n",
       "1  05/10/2002 12:00:00 AM                     13    3,115,416   10,070,416   \n",
       "2  11/30/2012 12:00:00 AM                      2    3,115,416   10,070,416   \n",
       "3  06/20/2008 12:00:00 AM                      7    3,124,262   10,057,181   \n",
       "4  01/02/2009 12:00:00 AM                      6    3,124,262   10,057,181   \n",
       "\n",
       "   CouncilDistrict  \n",
       "0              9.0  \n",
       "1              9.0  \n",
       "2              9.0  \n",
       "3              3.0  \n",
       "4              3.0  \n",
       "\n",
       "[5 rows x 29 columns]"
      ]
     },
     "execution_count": 25,
     "metadata": {},
     "output_type": "execute_result"
    }
   ],
   "source": [
    "austin_police_df = pd.read_csv('../_data/Austin_Response_To_Resistance.csv')\n",
    "austin_police_df.head()"
   ]
  },
  {
   "cell_type": "code",
   "execution_count": 26,
   "metadata": {},
   "outputs": [],
   "source": [
    "#Tidying data by only keeping columns we plan on using\n",
    "austin_police_df = austin_police_df[[\"Subject Race\", \"Subject Ethnicity\", \"Subject Effects\"]]"
   ]
  },
  {
   "cell_type": "code",
   "execution_count": 27,
   "metadata": {},
   "outputs": [
    {
     "data": {
      "text/plain": [
       "W    2116\n",
       "B     989\n",
       "A      20\n",
       "M       7\n",
       "U       5\n",
       "P       2\n",
       "I       1\n",
       "Name: Subject Race, dtype: int64"
      ]
     },
     "execution_count": 27,
     "metadata": {},
     "output_type": "execute_result"
    }
   ],
   "source": [
    "austin_police_df[\"Subject Race\"].value_counts()"
   ]
  },
  {
   "cell_type": "markdown",
   "metadata": {},
   "source": [
    "Once again, we can map the subject races to make them easier to read."
   ]
  },
  {
   "cell_type": "code",
   "execution_count": 28,
   "metadata": {},
   "outputs": [],
   "source": [
    "austin_police_df[\"Subject Race\"] = austin_police_df[\"Subject Race\"].map({\n",
    "    'W': 'White',\n",
    "    'B': 'Black',\n",
    "    'A': 'Asian',\n",
    "    'P': 'Asian',\n",
    "    'I': 'Asian'})"
   ]
  },
  {
   "cell_type": "markdown",
   "metadata": {},
   "source": [
    "Unlike the New Orleans data frame, we have to distinguish between white and hispanic subjects slightly differently. We want to change the subject's \"race\" from White to Hispanic if they are Hispanic.\n",
    "\n",
    "To be consistent with the New Orleans DataFrames, and more technically correct between race and ethnicity (since Hispanic people are techncially White), we should change the subject race column to subject ethnicity and delete the subjet race column."
   ]
  },
  {
   "cell_type": "code",
   "execution_count": 29,
   "metadata": {},
   "outputs": [],
   "source": [
    "austin_police_df.loc[austin_police_df['Subject Ethnicity'] == \"H\", 'Subject Race'] = \"Hispanic\"\n",
    "austin_police_df[\"Subject Ethnicity\"] = austin_police_df[\"Subject Race\"]\n",
    "del austin_police_df [\"Subject Race\"]"
   ]
  },
  {
   "cell_type": "code",
   "execution_count": 30,
   "metadata": {},
   "outputs": [
    {
     "data": {
      "text/plain": [
       "<AxesSubplot:title={'center':'Subject Ethnicity'}>"
      ]
     },
     "execution_count": 30,
     "metadata": {},
     "output_type": "execute_result"
    },
    {
     "data": {
      "image/png": "[encoded data removed]",
      "text/plain": [
       "<Figure size 432x288 with 1 Axes>"
      ]
     },
     "metadata": {},
     "output_type": "display_data"
    }
   ],
   "source": [
    "austin_police_df[\"Subject Ethnicity\"].value_counts().plot.pie(ylabel=\"\",title=\"Subject Ethnicity\")"
   ]
  },
  {
   "cell_type": "markdown",
   "metadata": {},
   "source": [
    "To find out if the subject was injured from the encounter or not, we need to modify map the \"Subject Effects\" column to a new column that indicates whether or not the subject was injured. \n",
    "\n",
    "It is important to note that we will assume that the subject is not injured if there was no injury observed."
   ]
  },
  {
   "cell_type": "code",
   "execution_count": 31,
   "metadata": {},
   "outputs": [
    {
     "data": {
      "text/plain": [
       "array(['NO COMPLAINT OF INJURY/PAIN', 'MINOR INJURY',\n",
       "       'COMPLAINT OF INJURY/PAIN', nan,\n",
       "       'COMPLAINT OF INJURY/PAIN BUT NONE OBSERVED',\n",
       "       'MINOR INJURY; COMPLAINT OF INJURY/PAIN', 'DEATH',\n",
       "       'SERIOUS INJURY', 'SERIOUS INJURY; MINOR INJURY',\n",
       "       'MINOR INJURY; NO COMPLAINT OF INJURY/PAIN',\n",
       "       'COMPLAINT OF INJURY/PAIN BUT NONE OBSERVED; NO COMPLAINT OF INJURY/PAIN',\n",
       "       'COMPLAINT OF INJURY/PAIN; COMPLAINT OF INJURY/PAIN BUT NONE OBSERVED',\n",
       "       'MINOR INJURY; COMPLAINT OF INJURY/PAIN BUT NONE OBSERVED',\n",
       "       'SERIOUS INJURY; COMPLAINT OF INJURY/PAIN'], dtype=object)"
      ]
     },
     "execution_count": 31,
     "metadata": {},
     "output_type": "execute_result"
    }
   ],
   "source": [
    "austin_police_df['Subject Effects'].unique()"
   ]
  },
  {
   "cell_type": "code",
   "execution_count": 32,
   "metadata": {},
   "outputs": [],
   "source": [
    "austin_police_df['Subject Injured'] = austin_police_df['Subject Effects'].map({\n",
    "\"NO COMPLAINT OF INJURY/PAIN\": \"No\",\n",
    "\"COMPLAINT OF INJURY/PAIN BUT NONE OBSERVED\": \"No\",\n",
    "\"COMPLAINT OF INJURY/PAIN BUT NONE OBSERVED; NO COMPLAINT OF INJURY/PAIN\": \"No\",\n",
    "\"COMPLAINT OF INJURY/PAIN; COMPLAINT OF INJURY/PAIN BUT NONE OBSERVED\": \"No\",\n",
    "\"COMPLAINT OF INJURY/PAIN\" : \"Yes\",\n",
    "\"MINOR INJURY; COMPLAINT OF INJURY/PAIN\": \"Yes\",\n",
    "\"DEATH\": \"Yes\",\n",
    "\"SERIOUS INJURY\": \"Yes\",\n",
    "\"SERIOUS INJURY; MINOR INJURY\": \"Yes\",\n",
    "\"MINOR INJURY; NO COMPLAINT OF INJURY/PAIN\": \"Yes\",\n",
    "\"MINOR INJURY; COMPLAINT OF INJURY/PAIN BUT NONE OBSERVED\": \"Yes\",\n",
    "\"SERIOUS INJURY; COMPLAINT OF INJURY/PAIN\": \"Yes\"})"
   ]
  },
  {
   "cell_type": "code",
   "execution_count": 33,
   "metadata": {},
   "outputs": [],
   "source": [
    "#We do not need this column anymore\n",
    "del austin_police_df['Subject Effects']"
   ]
  },
  {
   "cell_type": "code",
   "execution_count": 34,
   "metadata": {},
   "outputs": [
    {
     "data": {
      "text/plain": [
       "No     2139\n",
       "Yes     492\n",
       "Name: Subject Injured, dtype: int64"
      ]
     },
     "execution_count": 34,
     "metadata": {},
     "output_type": "execute_result"
    }
   ],
   "source": [
    "austin_police_df['Subject Injured'].value_counts()"
   ]
  },
  {
   "cell_type": "markdown",
   "metadata": {},
   "source": [
    "Once again, we can complete a cross-tabulation between ethnicity and whether or not the subject was injured."
   ]
  },
  {
   "cell_type": "code",
   "execution_count": 35,
   "metadata": {},
   "outputs": [
    {
     "data": {
      "text/html": [
       "<div>\n",
       "<style scoped>\n",
       "    .dataframe tbody tr th:only-of-type {\n",
       "        vertical-align: middle;\n",
       "    }\n",
       "\n",
       "    .dataframe tbody tr th {\n",
       "        vertical-align: top;\n",
       "    }\n",
       "\n",
       "    .dataframe thead th {\n",
       "        text-align: right;\n",
       "    }\n",
       "</style>\n",
       "<table border=\"1\" class=\"dataframe\">\n",
       "  <thead>\n",
       "    <tr style=\"text-align: right;\">\n",
       "      <th>Subject Injured</th>\n",
       "      <th>No</th>\n",
       "      <th>Yes</th>\n",
       "    </tr>\n",
       "    <tr>\n",
       "      <th>Subject Ethnicity</th>\n",
       "      <th></th>\n",
       "      <th></th>\n",
       "    </tr>\n",
       "  </thead>\n",
       "  <tbody>\n",
       "    <tr>\n",
       "      <th>Asian</th>\n",
       "      <td>0.006497</td>\n",
       "      <td>0.002105</td>\n",
       "    </tr>\n",
       "    <tr>\n",
       "      <th>Black</th>\n",
       "      <td>0.321339</td>\n",
       "      <td>0.254737</td>\n",
       "    </tr>\n",
       "    <tr>\n",
       "      <th>Hispanic</th>\n",
       "      <td>0.347826</td>\n",
       "      <td>0.336842</td>\n",
       "    </tr>\n",
       "    <tr>\n",
       "      <th>White</th>\n",
       "      <td>0.324338</td>\n",
       "      <td>0.406316</td>\n",
       "    </tr>\n",
       "  </tbody>\n",
       "</table>\n",
       "</div>"
      ],
      "text/plain": [
       "Subject Injured          No       Yes\n",
       "Subject Ethnicity                    \n",
       "Asian              0.006497  0.002105\n",
       "Black              0.321339  0.254737\n",
       "Hispanic           0.347826  0.336842\n",
       "White              0.324338  0.406316"
      ]
     },
     "execution_count": 35,
     "metadata": {},
     "output_type": "execute_result"
    }
   ],
   "source": [
    "counts = pd.crosstab(austin_police_df['Subject Ethnicity'], austin_police_df['Subject Injured'],normalize=True)\n",
    "ethnicity_given_injured = counts.divide(counts.sum(axis=0), axis=1)\n",
    "ethnicity_given_injured"
   ]
  },
  {
   "cell_type": "code",
   "execution_count": 36,
   "metadata": {},
   "outputs": [
    {
     "data": {
      "text/plain": [
       "<AxesSubplot:xlabel='Subject Injured'>"
      ]
     },
     "execution_count": 36,
     "metadata": {},
     "output_type": "execute_result"
    },
    {
     "data": {
      "image/png": "[encoded data removed]",
      "text/plain": [
       "<Figure size 432x288 with 1 Axes>"
      ]
     },
     "metadata": {
      "needs_background": "light"
     },
     "output_type": "display_data"
    }
   ],
   "source": [
    "(ethnicity_given_injured.T).plot.bar(stacked=True)"
   ]
  },
  {
   "cell_type": "markdown",
   "metadata": {},
   "source": [
    "### Orlando Police Department Response to Resistance\n",
    "<br>\n",
    "Source of the csv file: <a>https://data.cityoforlando.net/Orlando-Police/OPD-Response-To-Resistance/ap4w-p9kt</a></li>"
   ]
  },
  {
   "cell_type": "markdown",
   "metadata": {},
   "source": [
    "We can follow similar steps for Austin that we did for the Orlando and New Orlenas DataFrames."
   ]
  },
  {
   "cell_type": "code",
   "execution_count": 37,
   "metadata": {},
   "outputs": [
    {
     "data": {
      "text/html": [
       "<div>\n",
       "<style scoped>\n",
       "    .dataframe tbody tr th:only-of-type {\n",
       "        vertical-align: middle;\n",
       "    }\n",
       "\n",
       "    .dataframe tbody tr th {\n",
       "        vertical-align: top;\n",
       "    }\n",
       "\n",
       "    .dataframe thead th {\n",
       "        text-align: right;\n",
       "    }\n",
       "</style>\n",
       "<table border=\"1\" class=\"dataframe\">\n",
       "  <thead>\n",
       "    <tr style=\"text-align: right;\">\n",
       "      <th></th>\n",
       "      <th>Incident Number</th>\n",
       "      <th>Incident Date Time</th>\n",
       "      <th>Incident Location</th>\n",
       "      <th>Officers Involved</th>\n",
       "      <th>Officers Race</th>\n",
       "      <th>Officers Ethnicity</th>\n",
       "      <th>Officers Sex</th>\n",
       "      <th>Officer Battered</th>\n",
       "      <th>Officer Injured</th>\n",
       "      <th>Officer Medical Treatment</th>\n",
       "      <th>...</th>\n",
       "      <th>Offenders Involved</th>\n",
       "      <th>Offenders Race</th>\n",
       "      <th>Offenders Ethnicity</th>\n",
       "      <th>Offenders Sex</th>\n",
       "      <th>Offender Arrested</th>\n",
       "      <th>Offender Injured</th>\n",
       "      <th>Offender Medical Treatment</th>\n",
       "      <th>Witnesses Involved</th>\n",
       "      <th>Status</th>\n",
       "      <th>Location</th>\n",
       "    </tr>\n",
       "  </thead>\n",
       "  <tbody>\n",
       "    <tr>\n",
       "      <th>0</th>\n",
       "      <td>2018-00079161</td>\n",
       "      <td>02/25/2018 10:23:00 PM</td>\n",
       "      <td>26TH / 15 LAWSONA BLV</td>\n",
       "      <td>1.0</td>\n",
       "      <td>W</td>\n",
       "      <td>NH</td>\n",
       "      <td>M</td>\n",
       "      <td>Yes</td>\n",
       "      <td>No</td>\n",
       "      <td>No</td>\n",
       "      <td>...</td>\n",
       "      <td>1.0</td>\n",
       "      <td>W</td>\n",
       "      <td>NH</td>\n",
       "      <td>M</td>\n",
       "      <td>Felony</td>\n",
       "      <td>Yes</td>\n",
       "      <td>Yes</td>\n",
       "      <td>0.0</td>\n",
       "      <td>Unmapped</td>\n",
       "      <td>NaN</td>\n",
       "    </tr>\n",
       "    <tr>\n",
       "      <th>1</th>\n",
       "      <td>2013-00544482</td>\n",
       "      <td>12/29/2013 11:02:00 PM</td>\n",
       "      <td>NaN</td>\n",
       "      <td>1.0</td>\n",
       "      <td>B</td>\n",
       "      <td>NH</td>\n",
       "      <td>M</td>\n",
       "      <td>No</td>\n",
       "      <td>No</td>\n",
       "      <td>No</td>\n",
       "      <td>...</td>\n",
       "      <td>0.0</td>\n",
       "      <td>U</td>\n",
       "      <td>NH</td>\n",
       "      <td>U</td>\n",
       "      <td>Not Arrested</td>\n",
       "      <td>No</td>\n",
       "      <td>No</td>\n",
       "      <td>0.0</td>\n",
       "      <td>Unmapped</td>\n",
       "      <td>NaN</td>\n",
       "    </tr>\n",
       "    <tr>\n",
       "      <th>2</th>\n",
       "      <td>2018-00478744</td>\n",
       "      <td>12/14/2018 08:17:00 AM</td>\n",
       "      <td>9200 Block of AIRPORT BV</td>\n",
       "      <td>1.0</td>\n",
       "      <td>W</td>\n",
       "      <td>NH</td>\n",
       "      <td>M</td>\n",
       "      <td>No</td>\n",
       "      <td>No</td>\n",
       "      <td>No</td>\n",
       "      <td>...</td>\n",
       "      <td>1.0</td>\n",
       "      <td>B</td>\n",
       "      <td>NH</td>\n",
       "      <td>M</td>\n",
       "      <td>Felony</td>\n",
       "      <td>No</td>\n",
       "      <td>No</td>\n",
       "      <td>0.0</td>\n",
       "      <td>Mapped</td>\n",
       "      <td>(28.43097505, -81.31134146)</td>\n",
       "    </tr>\n",
       "    <tr>\n",
       "      <th>3</th>\n",
       "      <td>2017-00316840</td>\n",
       "      <td>08/14/2017 01:50:00 AM</td>\n",
       "      <td>EW WBO / LONG ST</td>\n",
       "      <td>3.0</td>\n",
       "      <td>W;W;W</td>\n",
       "      <td>NH;NH;NH</td>\n",
       "      <td>M;M;M</td>\n",
       "      <td>No</td>\n",
       "      <td>No</td>\n",
       "      <td>No</td>\n",
       "      <td>...</td>\n",
       "      <td>1.0</td>\n",
       "      <td>B</td>\n",
       "      <td>NH</td>\n",
       "      <td>M</td>\n",
       "      <td>Misdemeanor</td>\n",
       "      <td>No</td>\n",
       "      <td>No</td>\n",
       "      <td>0.0</td>\n",
       "      <td>U</td>\n",
       "      <td>NaN</td>\n",
       "    </tr>\n",
       "    <tr>\n",
       "      <th>4</th>\n",
       "      <td>IncidentNumber</td>\n",
       "      <td>NaN</td>\n",
       "      <td>IncidentLocation</td>\n",
       "      <td>NaN</td>\n",
       "      <td>OfficersRace</td>\n",
       "      <td>OfficersEthnicity</td>\n",
       "      <td>OfficersSex</td>\n",
       "      <td>OfficerBattered</td>\n",
       "      <td>OfficerInjured</td>\n",
       "      <td>OfficerMedicalTreatment</td>\n",
       "      <td>...</td>\n",
       "      <td>NaN</td>\n",
       "      <td>OffendersRace</td>\n",
       "      <td>OffendersEthnicity</td>\n",
       "      <td>OffendersSex</td>\n",
       "      <td>OffenderArrested</td>\n",
       "      <td>OffenderInjured</td>\n",
       "      <td>OffenderMedicalTreatment</td>\n",
       "      <td>NaN</td>\n",
       "      <td>Status</td>\n",
       "      <td>NaN</td>\n",
       "    </tr>\n",
       "  </tbody>\n",
       "</table>\n",
       "<p>5 rows × 27 columns</p>\n",
       "</div>"
      ],
      "text/plain": [
       "  Incident Number      Incident Date Time         Incident Location  \\\n",
       "0   2018-00079161  02/25/2018 10:23:00 PM     26TH / 15 LAWSONA BLV   \n",
       "1   2013-00544482  12/29/2013 11:02:00 PM                       NaN   \n",
       "2   2018-00478744  12/14/2018 08:17:00 AM  9200 Block of AIRPORT BV   \n",
       "3   2017-00316840  08/14/2017 01:50:00 AM          EW WBO / LONG ST   \n",
       "4  IncidentNumber                     NaN          IncidentLocation   \n",
       "\n",
       "   Officers Involved Officers Race Officers Ethnicity Officers Sex  \\\n",
       "0                1.0             W                 NH            M   \n",
       "1                1.0             B                 NH            M   \n",
       "2                1.0             W                 NH            M   \n",
       "3                3.0         W;W;W           NH;NH;NH        M;M;M   \n",
       "4                NaN  OfficersRace  OfficersEthnicity  OfficersSex   \n",
       "\n",
       "  Officer Battered Officer Injured Officer Medical Treatment  ...  \\\n",
       "0              Yes              No                        No  ...   \n",
       "1               No              No                        No  ...   \n",
       "2               No              No                        No  ...   \n",
       "3               No              No                        No  ...   \n",
       "4  OfficerBattered  OfficerInjured   OfficerMedicalTreatment  ...   \n",
       "\n",
       "  Offenders Involved Offenders Race Offenders Ethnicity Offenders Sex  \\\n",
       "0                1.0              W                  NH             M   \n",
       "1                0.0              U                  NH             U   \n",
       "2                1.0              B                  NH             M   \n",
       "3                1.0              B                  NH             M   \n",
       "4                NaN  OffendersRace  OffendersEthnicity  OffendersSex   \n",
       "\n",
       "  Offender Arrested Offender Injured Offender Medical Treatment  \\\n",
       "0            Felony              Yes                        Yes   \n",
       "1      Not Arrested               No                         No   \n",
       "2            Felony               No                         No   \n",
       "3       Misdemeanor               No                         No   \n",
       "4  OffenderArrested  OffenderInjured   OffenderMedicalTreatment   \n",
       "\n",
       "   Witnesses Involved    Status                     Location  \n",
       "0                 0.0  Unmapped                          NaN  \n",
       "1                 0.0  Unmapped                          NaN  \n",
       "2                 0.0    Mapped  (28.43097505, -81.31134146)  \n",
       "3                 0.0         U                          NaN  \n",
       "4                 NaN    Status                          NaN  \n",
       "\n",
       "[5 rows x 27 columns]"
      ]
     },
     "execution_count": 37,
     "metadata": {},
     "output_type": "execute_result"
    }
   ],
   "source": [
    "orlando_police_df = pd.read_csv(\"../_data/OPD_Response_To_Resistance.csv\")\n",
    "orlando_police_df.head()"
   ]
  },
  {
   "cell_type": "markdown",
   "metadata": {},
   "source": [
    "Simialar to the New Orleans Use of Force DataFrame, cases with multiple subjects are included in the same row, but this time the subjects are separated by a semicolon. Once again, we will exclude cases with multiple subjects."
   ]
  },
  {
   "cell_type": "code",
   "execution_count": 38,
   "metadata": {},
   "outputs": [
    {
     "data": {
      "text/plain": [
       "['W', 'U', 'B', 'OffendersRace', 'A']"
      ]
     },
     "execution_count": 38,
     "metadata": {},
     "output_type": "execute_result"
    }
   ],
   "source": [
    "# some cleaning of the data\n",
    "l = orlando_police_df[\"Offenders Race\"].unique()\n",
    "l = [str(x) for x in l]\n",
    "unique = [x for x in l if \";\" not in x]\n",
    "unique"
   ]
  },
  {
   "cell_type": "code",
   "execution_count": 39,
   "metadata": {},
   "outputs": [],
   "source": [
    "orlando_police_df[\"Offenders Race\"] = orlando_police_df[\"Offenders Race\"].map({\n",
    "    'W': 'White',\n",
    "    'B': 'Black',\n",
    "    'A': 'Asian'\n",
    "    })"
   ]
  },
  {
   "cell_type": "code",
   "execution_count": 40,
   "metadata": {},
   "outputs": [
    {
     "data": {
      "text/plain": [
       "array(['NH', 'OffendersEthnicity', 'HI', 'NH;NH', 'HI;NH', 'NH;NH;NH',\n",
       "       'HI;HI', 'NH;NH;NH;NH;NH;', 'NH;NH;NH;NH', 'NH;HI',\n",
       "       'NH;NH;NH;NH;NH', 'HI;HI;HI', 'NH;HI;NH', 'HI;NH;HI', 'HI;HI;NH',\n",
       "       'NH;HI;HI', 'HI;NH;NH', 'HI;HI;HI;HI;HI'], dtype=object)"
      ]
     },
     "execution_count": 40,
     "metadata": {},
     "output_type": "execute_result"
    }
   ],
   "source": [
    "orlando_police_df[\"Offenders Ethnicity\"].unique()"
   ]
  },
  {
   "cell_type": "markdown",
   "metadata": {},
   "source": [
    "We should rename the columns to keep the formatting consistent with the other cities."
   ]
  },
  {
   "cell_type": "code",
   "execution_count": 41,
   "metadata": {},
   "outputs": [],
   "source": [
    "orlando_police_df = orlando_police_df.rename(columns={\n",
    "    \"Offenders Ethnicity\": \"Hispanic\",\n",
    "    \"Offenders Race\": \"Subject Ethnicity\",\n",
    "    \"Offender Injured\": \"Subject Injured\"\n",
    "})"
   ]
  },
  {
   "cell_type": "code",
   "execution_count": 42,
   "metadata": {},
   "outputs": [],
   "source": [
    "orlando_police_df[\"Hispanic\"] = orlando_police_df[\"Hispanic\"].map({\n",
    "    \"NH\": False,\n",
    "    \"HI\": True\n",
    "})"
   ]
  },
  {
   "cell_type": "code",
   "execution_count": 43,
   "metadata": {},
   "outputs": [],
   "source": [
    "orlando_police_df.loc[orlando_police_df['Hispanic'] == True, 'Subject Ethnicity'] = \"Hispanic\""
   ]
  },
  {
   "cell_type": "code",
   "execution_count": 44,
   "metadata": {},
   "outputs": [
    {
     "data": {
      "text/plain": [
       "<AxesSubplot:title={'center':'Subject Ethnicity'}>"
      ]
     },
     "execution_count": 44,
     "metadata": {},
     "output_type": "execute_result"
    },
    {
     "data": {
      "image/png": "[encoded data removed]",
      "text/plain": [
       "<Figure size 432x288 with 1 Axes>"
      ]
     },
     "metadata": {},
     "output_type": "display_data"
    }
   ],
   "source": [
    "orlando_police_df[\"Subject Ethnicity\"].value_counts().plot.pie(ylabel=\"\",title=\"Subject Ethnicity\")"
   ]
  },
  {
   "cell_type": "code",
   "execution_count": 45,
   "metadata": {},
   "outputs": [
    {
     "data": {
      "text/html": [
       "<div>\n",
       "<style scoped>\n",
       "    .dataframe tbody tr th:only-of-type {\n",
       "        vertical-align: middle;\n",
       "    }\n",
       "\n",
       "    .dataframe tbody tr th {\n",
       "        vertical-align: top;\n",
       "    }\n",
       "\n",
       "    .dataframe thead th {\n",
       "        text-align: right;\n",
       "    }\n",
       "</style>\n",
       "<table border=\"1\" class=\"dataframe\">\n",
       "  <thead>\n",
       "    <tr style=\"text-align: right;\">\n",
       "      <th>Subject Injured</th>\n",
       "      <th>No</th>\n",
       "      <th>Yes</th>\n",
       "    </tr>\n",
       "    <tr>\n",
       "      <th>Subject Ethnicity</th>\n",
       "      <th></th>\n",
       "      <th></th>\n",
       "    </tr>\n",
       "  </thead>\n",
       "  <tbody>\n",
       "    <tr>\n",
       "      <th>Asian</th>\n",
       "      <td>0.003955</td>\n",
       "      <td>0.007758</td>\n",
       "    </tr>\n",
       "    <tr>\n",
       "      <th>Black</th>\n",
       "      <td>0.606215</td>\n",
       "      <td>0.536546</td>\n",
       "    </tr>\n",
       "    <tr>\n",
       "      <th>Hispanic</th>\n",
       "      <td>0.087571</td>\n",
       "      <td>0.086566</td>\n",
       "    </tr>\n",
       "    <tr>\n",
       "      <th>White</th>\n",
       "      <td>0.302260</td>\n",
       "      <td>0.369130</td>\n",
       "    </tr>\n",
       "  </tbody>\n",
       "</table>\n",
       "</div>"
      ],
      "text/plain": [
       "Subject Injured          No       Yes\n",
       "Subject Ethnicity                    \n",
       "Asian              0.003955  0.007758\n",
       "Black              0.606215  0.536546\n",
       "Hispanic           0.087571  0.086566\n",
       "White              0.302260  0.369130"
      ]
     },
     "execution_count": 45,
     "metadata": {},
     "output_type": "execute_result"
    }
   ],
   "source": [
    "counts = pd.crosstab(orlando_police_df['Subject Ethnicity'], orlando_police_df['Subject Injured'],normalize=True)\n",
    "ethnicity_given_injured = counts.divide(counts.sum(axis=0), axis=1)\n",
    "ethnicity_given_injured"
   ]
  },
  {
   "cell_type": "code",
   "execution_count": 46,
   "metadata": {},
   "outputs": [
    {
     "data": {
      "text/plain": [
       "<AxesSubplot:xlabel='Subject Injured'>"
      ]
     },
     "execution_count": 46,
     "metadata": {},
     "output_type": "execute_result"
    },
    {
     "data": {
      "image/png": "[encoded data removed]",
      "text/plain": [
       "<Figure size 432x288 with 1 Axes>"
      ]
     },
     "metadata": {
      "needs_background": "light"
     },
     "output_type": "display_data"
    }
   ],
   "source": [
    "(ethnicity_given_injured.T).plot.bar(stacked=True)"
   ]
  },
  {
   "cell_type": "markdown",
   "metadata": {},
   "source": [
    "### Plan for Final Tutorial\n",
    "<p>We plan to use the data from Austin and Orlando to compare to New Orleans. According to the New Orleans Data Center, Austin and Orlando are two cities that New Orleans aspires to be like due to the growth of their economy and opportunities. We believe that the use of force by police and whether they proportionately act might effect how citizes trust their government. There are opportunities here to include economic data as well. However, for now, we hope to search deeper in whether currently, each city proportionately uses force on criminals based on chi-squared tests or other tests of proportions. We believe that the relationship between the government and its citizens is very important in a city's growth and prosperity and we hope to shine a light on this relationship in New Orleans. </p>\n",
    "<p>Additionally, we think that the outcome of the cases when police use force is important. For that reason, we plan on doing similar analysis comparing the distribution of the ethnicities when the subject was injured and not injured.</p>"
   ]
  }
 ],
 "metadata": {
  "kernelspec": {
   "display_name": "Python 3",
   "language": "python",
   "name": "python3"
  },
  "language_info": {
   "codemirror_mode": {
    "name": "ipython",
    "version": 3
   },
   "file_extension": ".py",
   "mimetype": "text/x-python",
   "name": "python",
   "nbconvert_exporter": "python",
   "pygments_lexer": "ipython3",
   "version": "3.8.5"
  }
 },
 "nbformat": 4,
 "nbformat_minor": 4
}
