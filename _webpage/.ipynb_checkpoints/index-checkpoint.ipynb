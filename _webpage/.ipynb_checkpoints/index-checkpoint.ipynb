{
 "cells": [
  {
   "cell_type": "markdown",
   "metadata": {},
   "source": [
    "https://samuelkellum.github.io/FinalTutorial/"
   ]
  },
  {
   "cell_type": "markdown",
   "metadata": {},
   "source": [
    "# Police Brutality in New Orleans\n",
    "### Ajit Alapati and Samuel Kellum\n",
    "We decided to meet in person to collaborate and discuss what data about New Orleans we wanted to explore. We first set up a GitHub repository to compile everything for our project, including the data sets.\n",
    "\n",
    "We did face some initial challenges setting up the GitHub page because neither of us has ever created a GitHub page. Additionally, we had some minor issues initializing the repository with the GitHub page because of GitHub’s new authentication features. In August, GitHub required that we use personal authentication tokens instead of account passwords when using its version control on the command line. In August, GitHub required that we use personal authentication tokens instead of account passwords when using its version control on the command line.  We had no problems importing the data into the Jupyter Notebook and tidying the data by deleting unnecessary columns. We had already imported CSV files into a notebook in the labs. We had one minor problem with the del function syntax (which we found from a previous Final Tutorial example). We faced some more significant challenges in displaying the notebook on the GitHub page. We did not realize that all we had to do was download the notebook as an HTML export. We learn something new every day, which is to read all of the project instructions! If you are reading this on the webpage, and the page looks like a Jupyter Notebook, then that means we figured it out!\n",
    "\n",
    "Our planned technologies, as of now, are Docker, the Jupyter Notebook, Python, and all of the libraries it provides. We have not yet discussed in detail the libraries that we will use, but we know we will be using Pandas, Numpy, and Matplotlib. We have each other’s phone numbers to contact each other about the project and will most likely meet throughout the semester one or two times per week in person to work on the project. Both of us were interested in data about police brutality and misconduct in New Orleans.\n",
    "\n",
    "We wanted to look into policing violence and where these incidents were happening in the city. We found a couple of data sets on data.nola.gov about police misconduct complaints and deadly police encounters in New Orleans. These sorts of data sets open up many possible questions and avenues that we can go down. For example, we were discussing combining datasets to determine who and where these violent interactions were happening. Were they happening disproportionately in poor areas? Were they happening disproportionately towards African Americans?\n",
    "\n",
    "Although we are most likely going to do our project on Police Brutality, both of us are also interested in exploring how different parts of the city have recovered from Hurricane Katrina. For example, even 15 years later, we know that New Orleans has still not fully recovered in population from before the storm. One dataset we found has information on the status of various houses that the hurricane has destroyed. It makes sense that the city would repair its essential functions first, but poor people displaced from New Orleans likely did not have as strong of an alternative outside of their homes and needed their houses repaired quickly. Did it take longer to rebuild houses in poor areas? Are some of those houses still destroyed? Are there significantly more vacant houses in poor neighborhoods that the hurricane destroyed?"
   ]
  },
  {
   "cell_type": "code",
   "execution_count": 1,
   "metadata": {},
   "outputs": [],
   "source": [
    "# Load Numpy\n",
    "import numpy as np\n",
    "# Load MatPlotLib\n",
    "import matplotlib\n",
    "import matplotlib.pyplot as plt\n",
    "# Load Pandas\n",
    "import pandas as pd"
   ]
  },
  {
   "cell_type": "markdown",
   "metadata": {},
   "source": [
    "#### NOPD Misconduct Complaints"
   ]
  },
  {
   "cell_type": "markdown",
   "metadata": {},
   "source": [
    "The source of the csv file: https://data.nola.gov/Public-Safety-and-Preparedness/NOPD-Misconduct-Complaints/gz2m-ef5u"
   ]
  },
  {
   "cell_type": "code",
   "execution_count": 2,
   "metadata": {},
   "outputs": [
    {
     "data": {
      "text/html": [
       "<div>\n",
       "<style scoped>\n",
       "    .dataframe tbody tr th:only-of-type {\n",
       "        vertical-align: middle;\n",
       "    }\n",
       "\n",
       "    .dataframe tbody tr th {\n",
       "        vertical-align: top;\n",
       "    }\n",
       "\n",
       "    .dataframe thead th {\n",
       "        text-align: right;\n",
       "    }\n",
       "</style>\n",
       "<table border=\"1\" class=\"dataframe\">\n",
       "  <thead>\n",
       "    <tr style=\"text-align: right;\">\n",
       "      <th></th>\n",
       "      <th>Incident Type</th>\n",
       "      <th>Complaint Tracking Number</th>\n",
       "      <th>Date Complaint Occurred</th>\n",
       "      <th>Date Complaint Received by NOPD (PIB)</th>\n",
       "      <th>Date Complaint Investigation Complete</th>\n",
       "      <th>Complaint classification</th>\n",
       "      <th>Investigation status</th>\n",
       "      <th>Disposition</th>\n",
       "      <th>Bureau of Complainant</th>\n",
       "      <th>Division of Complainant</th>\n",
       "      <th>...</th>\n",
       "      <th>Rule Violation</th>\n",
       "      <th>Paragraph Violation</th>\n",
       "      <th>Unique Officer Allegation ID</th>\n",
       "      <th>Officer Race Ethnicity</th>\n",
       "      <th>Officer Gender</th>\n",
       "      <th>Officer Age</th>\n",
       "      <th>Officer years of service</th>\n",
       "      <th>Complainant Gender</th>\n",
       "      <th>Complainant Ethnicity</th>\n",
       "      <th>Complainant Age</th>\n",
       "    </tr>\n",
       "  </thead>\n",
       "  <tbody>\n",
       "    <tr>\n",
       "      <th>0</th>\n",
       "      <td>Public Initiated</td>\n",
       "      <td>2016-0001-P</td>\n",
       "      <td>2016-01-01</td>\n",
       "      <td>2016-01-01</td>\n",
       "      <td>2016-07-21</td>\n",
       "      <td>DI-1</td>\n",
       "      <td>Completed</td>\n",
       "      <td>Unfounded</td>\n",
       "      <td>NaN</td>\n",
       "      <td>8th District</td>\n",
       "      <td>...</td>\n",
       "      <td>RULE 3: PROF CONDUCT</td>\n",
       "      <td>PARAGRAPH 01 - Professionalism</td>\n",
       "      <td>30664.0</td>\n",
       "      <td>NaN</td>\n",
       "      <td>NaN</td>\n",
       "      <td>NaN</td>\n",
       "      <td>NaN</td>\n",
       "      <td>Male</td>\n",
       "      <td>Black</td>\n",
       "      <td>NaN</td>\n",
       "    </tr>\n",
       "    <tr>\n",
       "      <th>1</th>\n",
       "      <td>Public Initiated</td>\n",
       "      <td>2016-0002-P</td>\n",
       "      <td>2016-01-02</td>\n",
       "      <td>2016-01-01</td>\n",
       "      <td>2016-08-03</td>\n",
       "      <td>DI-1</td>\n",
       "      <td>Completed</td>\n",
       "      <td>Exonerated</td>\n",
       "      <td>FOB - Field Operations Bureau</td>\n",
       "      <td>7th District</td>\n",
       "      <td>...</td>\n",
       "      <td>RULE 4: PERF OF DUTY</td>\n",
       "      <td>PARAGRAPH 04 - NEGLECT OF DUTY</td>\n",
       "      <td>30667.0</td>\n",
       "      <td>Black</td>\n",
       "      <td>Male</td>\n",
       "      <td>60</td>\n",
       "      <td>NaN</td>\n",
       "      <td>Female</td>\n",
       "      <td>White</td>\n",
       "      <td>NaN</td>\n",
       "    </tr>\n",
       "    <tr>\n",
       "      <th>2</th>\n",
       "      <td>Public Initiated</td>\n",
       "      <td>2016-0002-P</td>\n",
       "      <td>2016-01-02</td>\n",
       "      <td>2016-01-01</td>\n",
       "      <td>2016-08-03</td>\n",
       "      <td>DI-1</td>\n",
       "      <td>Completed</td>\n",
       "      <td>Exonerated</td>\n",
       "      <td>FOB - Field Operations Bureau</td>\n",
       "      <td>7th District</td>\n",
       "      <td>...</td>\n",
       "      <td>RULE 4: PERF OF DUTY</td>\n",
       "      <td>PARAGRAPH 04 - NEGLECT OF DUTY</td>\n",
       "      <td>30669.0</td>\n",
       "      <td>Black</td>\n",
       "      <td>Male</td>\n",
       "      <td>44</td>\n",
       "      <td>NaN</td>\n",
       "      <td>Female</td>\n",
       "      <td>White</td>\n",
       "      <td>NaN</td>\n",
       "    </tr>\n",
       "    <tr>\n",
       "      <th>3</th>\n",
       "      <td>Public Initiated</td>\n",
       "      <td>2016-0009-P</td>\n",
       "      <td>2016-01-04</td>\n",
       "      <td>2016-01-04</td>\n",
       "      <td>2017-03-20</td>\n",
       "      <td>DI-1</td>\n",
       "      <td>Completed</td>\n",
       "      <td>Unfounded</td>\n",
       "      <td>FOB - Field Operations Bureau</td>\n",
       "      <td>8th District</td>\n",
       "      <td>...</td>\n",
       "      <td>RULE 2: MORAL CONDUCT</td>\n",
       "      <td>PARAGRAPH 01 - ADHERENCE TO LAW</td>\n",
       "      <td>30671.0</td>\n",
       "      <td>White</td>\n",
       "      <td>Male</td>\n",
       "      <td>NaN</td>\n",
       "      <td>NaN</td>\n",
       "      <td>NaN</td>\n",
       "      <td>NaN</td>\n",
       "      <td>NaN</td>\n",
       "    </tr>\n",
       "    <tr>\n",
       "      <th>4</th>\n",
       "      <td>Public Initiated</td>\n",
       "      <td>2016-0006-P</td>\n",
       "      <td>2016-12-30</td>\n",
       "      <td>2016-01-04</td>\n",
       "      <td>2016-07-25</td>\n",
       "      <td>DI-1</td>\n",
       "      <td>Completed</td>\n",
       "      <td>Exonerated</td>\n",
       "      <td>FOB - Field Operations Bureau</td>\n",
       "      <td>Command Staff</td>\n",
       "      <td>...</td>\n",
       "      <td>RULE 4: PERF OF DUTY</td>\n",
       "      <td>PARAGRAPH 02 - INSTRUCTIONS FROM AUTHORITATIVE...</td>\n",
       "      <td>30674.0</td>\n",
       "      <td>Black</td>\n",
       "      <td>Male</td>\n",
       "      <td>54</td>\n",
       "      <td>NaN</td>\n",
       "      <td>Female</td>\n",
       "      <td>Black</td>\n",
       "      <td>50.0</td>\n",
       "    </tr>\n",
       "  </tbody>\n",
       "</table>\n",
       "<p>5 rows × 24 columns</p>\n",
       "</div>"
      ],
      "text/plain": [
       "      Incident Type Complaint Tracking Number Date Complaint Occurred  \\\n",
       "0  Public Initiated               2016-0001-P              2016-01-01   \n",
       "1  Public Initiated               2016-0002-P              2016-01-02   \n",
       "2  Public Initiated               2016-0002-P              2016-01-02   \n",
       "3  Public Initiated               2016-0009-P              2016-01-04   \n",
       "4  Public Initiated               2016-0006-P              2016-12-30   \n",
       "\n",
       "  Date Complaint Received by NOPD (PIB) Date Complaint Investigation Complete  \\\n",
       "0                            2016-01-01                            2016-07-21   \n",
       "1                            2016-01-01                            2016-08-03   \n",
       "2                            2016-01-01                            2016-08-03   \n",
       "3                            2016-01-04                            2017-03-20   \n",
       "4                            2016-01-04                            2016-07-25   \n",
       "\n",
       "  Complaint classification Investigation status Disposition  \\\n",
       "0                     DI-1            Completed   Unfounded   \n",
       "1                     DI-1            Completed  Exonerated   \n",
       "2                     DI-1            Completed  Exonerated   \n",
       "3                     DI-1            Completed   Unfounded   \n",
       "4                     DI-1            Completed  Exonerated   \n",
       "\n",
       "           Bureau of Complainant Division of Complainant  ...  \\\n",
       "0                            NaN            8th District  ...   \n",
       "1  FOB - Field Operations Bureau            7th District  ...   \n",
       "2  FOB - Field Operations Bureau            7th District  ...   \n",
       "3  FOB - Field Operations Bureau            8th District  ...   \n",
       "4  FOB - Field Operations Bureau           Command Staff  ...   \n",
       "\n",
       "          Rule Violation                                Paragraph Violation  \\\n",
       "0   RULE 3: PROF CONDUCT                     PARAGRAPH 01 - Professionalism   \n",
       "1   RULE 4: PERF OF DUTY                     PARAGRAPH 04 - NEGLECT OF DUTY   \n",
       "2   RULE 4: PERF OF DUTY                     PARAGRAPH 04 - NEGLECT OF DUTY   \n",
       "3  RULE 2: MORAL CONDUCT                    PARAGRAPH 01 - ADHERENCE TO LAW   \n",
       "4   RULE 4: PERF OF DUTY  PARAGRAPH 02 - INSTRUCTIONS FROM AUTHORITATIVE...   \n",
       "\n",
       "  Unique Officer Allegation ID Officer Race Ethnicity Officer Gender  \\\n",
       "0                      30664.0                    NaN            NaN   \n",
       "1                      30667.0                  Black           Male   \n",
       "2                      30669.0                  Black           Male   \n",
       "3                      30671.0                  White           Male   \n",
       "4                      30674.0                  Black           Male   \n",
       "\n",
       "  Officer Age  Officer years of service Complainant Gender  \\\n",
       "0         NaN                       NaN               Male   \n",
       "1          60                       NaN             Female   \n",
       "2          44                       NaN             Female   \n",
       "3         NaN                       NaN                NaN   \n",
       "4          54                       NaN             Female   \n",
       "\n",
       "  Complainant Ethnicity Complainant Age  \n",
       "0                 Black             NaN  \n",
       "1                 White             NaN  \n",
       "2                 White             NaN  \n",
       "3                   NaN             NaN  \n",
       "4                 Black            50.0  \n",
       "\n",
       "[5 rows x 24 columns]"
      ]
     },
     "execution_count": 2,
     "metadata": {},
     "output_type": "execute_result"
    }
   ],
   "source": [
    "nopd_complaint_df = pd.read_csv('../_data/NOPD_Misconduct_Complaints.csv')\n",
    "nopd_complaint_df.head()"
   ]
  },
  {
   "cell_type": "code",
   "execution_count": 3,
   "metadata": {},
   "outputs": [
    {
     "data": {
      "text/html": [
       "<div>\n",
       "<style scoped>\n",
       "    .dataframe tbody tr th:only-of-type {\n",
       "        vertical-align: middle;\n",
       "    }\n",
       "\n",
       "    .dataframe tbody tr th {\n",
       "        vertical-align: top;\n",
       "    }\n",
       "\n",
       "    .dataframe thead th {\n",
       "        text-align: right;\n",
       "    }\n",
       "</style>\n",
       "<table border=\"1\" class=\"dataframe\">\n",
       "  <thead>\n",
       "    <tr style=\"text-align: right;\">\n",
       "      <th></th>\n",
       "      <th>Complaint classification</th>\n",
       "      <th>Investigation status</th>\n",
       "      <th>Disposition</th>\n",
       "      <th>Division of Complainant</th>\n",
       "      <th>Unit of Complainant</th>\n",
       "      <th>Unit Additional Details of Complainant</th>\n",
       "      <th>Working Status of Complainant</th>\n",
       "      <th>Rule Violation</th>\n",
       "      <th>Paragraph Violation</th>\n",
       "      <th>Officer Race Ethnicity</th>\n",
       "      <th>Officer Gender</th>\n",
       "      <th>Officer Age</th>\n",
       "      <th>Officer years of service</th>\n",
       "      <th>Complainant Gender</th>\n",
       "      <th>Complainant Ethnicity</th>\n",
       "      <th>Complainant Age</th>\n",
       "    </tr>\n",
       "  </thead>\n",
       "  <tbody>\n",
       "    <tr>\n",
       "      <th>0</th>\n",
       "      <td>DI-1</td>\n",
       "      <td>Completed</td>\n",
       "      <td>Unfounded</td>\n",
       "      <td>8th District</td>\n",
       "      <td>NaN</td>\n",
       "      <td>NaN</td>\n",
       "      <td>NaN</td>\n",
       "      <td>RULE 3: PROF CONDUCT</td>\n",
       "      <td>PARAGRAPH 01 - Professionalism</td>\n",
       "      <td>NaN</td>\n",
       "      <td>NaN</td>\n",
       "      <td>NaN</td>\n",
       "      <td>NaN</td>\n",
       "      <td>Male</td>\n",
       "      <td>Black</td>\n",
       "      <td>NaN</td>\n",
       "    </tr>\n",
       "    <tr>\n",
       "      <th>1</th>\n",
       "      <td>DI-1</td>\n",
       "      <td>Completed</td>\n",
       "      <td>Exonerated</td>\n",
       "      <td>7th District</td>\n",
       "      <td>Night Watch</td>\n",
       "      <td>Patrol</td>\n",
       "      <td>Regular Working</td>\n",
       "      <td>RULE 4: PERF OF DUTY</td>\n",
       "      <td>PARAGRAPH 04 - NEGLECT OF DUTY</td>\n",
       "      <td>Black</td>\n",
       "      <td>Male</td>\n",
       "      <td>60</td>\n",
       "      <td>NaN</td>\n",
       "      <td>Female</td>\n",
       "      <td>White</td>\n",
       "      <td>NaN</td>\n",
       "    </tr>\n",
       "    <tr>\n",
       "      <th>2</th>\n",
       "      <td>DI-1</td>\n",
       "      <td>Completed</td>\n",
       "      <td>Exonerated</td>\n",
       "      <td>7th District</td>\n",
       "      <td>Night Watch</td>\n",
       "      <td>Patrol</td>\n",
       "      <td>Regular Working</td>\n",
       "      <td>RULE 4: PERF OF DUTY</td>\n",
       "      <td>PARAGRAPH 04 - NEGLECT OF DUTY</td>\n",
       "      <td>Black</td>\n",
       "      <td>Male</td>\n",
       "      <td>44</td>\n",
       "      <td>NaN</td>\n",
       "      <td>Female</td>\n",
       "      <td>White</td>\n",
       "      <td>NaN</td>\n",
       "    </tr>\n",
       "    <tr>\n",
       "      <th>3</th>\n",
       "      <td>DI-1</td>\n",
       "      <td>Completed</td>\n",
       "      <td>Unfounded</td>\n",
       "      <td>8th District</td>\n",
       "      <td>8th District</td>\n",
       "      <td>Patrol</td>\n",
       "      <td>Regular Working</td>\n",
       "      <td>RULE 2: MORAL CONDUCT</td>\n",
       "      <td>PARAGRAPH 01 - ADHERENCE TO LAW</td>\n",
       "      <td>White</td>\n",
       "      <td>Male</td>\n",
       "      <td>NaN</td>\n",
       "      <td>NaN</td>\n",
       "      <td>NaN</td>\n",
       "      <td>NaN</td>\n",
       "      <td>NaN</td>\n",
       "    </tr>\n",
       "    <tr>\n",
       "      <th>4</th>\n",
       "      <td>DI-1</td>\n",
       "      <td>Completed</td>\n",
       "      <td>Exonerated</td>\n",
       "      <td>Command Staff</td>\n",
       "      <td>Admin</td>\n",
       "      <td>NaN</td>\n",
       "      <td>NaN</td>\n",
       "      <td>RULE 4: PERF OF DUTY</td>\n",
       "      <td>PARAGRAPH 02 - INSTRUCTIONS FROM AUTHORITATIVE...</td>\n",
       "      <td>Black</td>\n",
       "      <td>Male</td>\n",
       "      <td>54</td>\n",
       "      <td>NaN</td>\n",
       "      <td>Female</td>\n",
       "      <td>Black</td>\n",
       "      <td>50.0</td>\n",
       "    </tr>\n",
       "  </tbody>\n",
       "</table>\n",
       "</div>"
      ],
      "text/plain": [
       "  Complaint classification Investigation status Disposition  \\\n",
       "0                     DI-1            Completed   Unfounded   \n",
       "1                     DI-1            Completed  Exonerated   \n",
       "2                     DI-1            Completed  Exonerated   \n",
       "3                     DI-1            Completed   Unfounded   \n",
       "4                     DI-1            Completed  Exonerated   \n",
       "\n",
       "  Division of Complainant Unit of Complainant  \\\n",
       "0            8th District                 NaN   \n",
       "1            7th District         Night Watch   \n",
       "2            7th District         Night Watch   \n",
       "3            8th District        8th District   \n",
       "4           Command Staff               Admin   \n",
       "\n",
       "  Unit Additional Details of Complainant Working Status of Complainant  \\\n",
       "0                                    NaN                           NaN   \n",
       "1                                 Patrol               Regular Working   \n",
       "2                                 Patrol               Regular Working   \n",
       "3                                 Patrol               Regular Working   \n",
       "4                                    NaN                           NaN   \n",
       "\n",
       "          Rule Violation                                Paragraph Violation  \\\n",
       "0   RULE 3: PROF CONDUCT                     PARAGRAPH 01 - Professionalism   \n",
       "1   RULE 4: PERF OF DUTY                     PARAGRAPH 04 - NEGLECT OF DUTY   \n",
       "2   RULE 4: PERF OF DUTY                     PARAGRAPH 04 - NEGLECT OF DUTY   \n",
       "3  RULE 2: MORAL CONDUCT                    PARAGRAPH 01 - ADHERENCE TO LAW   \n",
       "4   RULE 4: PERF OF DUTY  PARAGRAPH 02 - INSTRUCTIONS FROM AUTHORITATIVE...   \n",
       "\n",
       "  Officer Race Ethnicity Officer Gender Officer Age  Officer years of service  \\\n",
       "0                    NaN            NaN         NaN                       NaN   \n",
       "1                  Black           Male          60                       NaN   \n",
       "2                  Black           Male          44                       NaN   \n",
       "3                  White           Male         NaN                       NaN   \n",
       "4                  Black           Male          54                       NaN   \n",
       "\n",
       "  Complainant Gender Complainant Ethnicity  Complainant Age  \n",
       "0               Male                 Black              NaN  \n",
       "1             Female                 White              NaN  \n",
       "2             Female                 White              NaN  \n",
       "3                NaN                   NaN              NaN  \n",
       "4             Female                 Black             50.0  "
      ]
     },
     "execution_count": 3,
     "metadata": {},
     "output_type": "execute_result"
    }
   ],
   "source": [
    "#Tidying data by dropping columns we don't plan on using\n",
    "del nopd_complaint_df['Incident Type']\n",
    "del nopd_complaint_df['Complaint Tracking Number']\n",
    "del nopd_complaint_df['Date Complaint Received by NOPD (PIB)']\n",
    "del nopd_complaint_df['Date Complaint Occurred']\n",
    "del nopd_complaint_df['Date Complaint Investigation Complete']\n",
    "del nopd_complaint_df['Bureau of Complainant']\n",
    "del nopd_complaint_df['Shift of Complainant']\n",
    "del nopd_complaint_df['Unique Officer Allegation ID']\n",
    "\n",
    "nopd_complaint_df.head()"
   ]
  },
  {
   "cell_type": "code",
   "execution_count": 4,
   "metadata": {},
   "outputs": [
    {
     "data": {
      "text/plain": [
       "count     4.000000\n",
       "mean     32.750000\n",
       "std       6.291529\n",
       "min      28.000000\n",
       "25%      29.500000\n",
       "50%      30.500000\n",
       "75%      33.750000\n",
       "max      42.000000\n",
       "Name: Officer years of service, dtype: float64"
      ]
     },
     "execution_count": 4,
     "metadata": {},
     "output_type": "execute_result"
    }
   ],
   "source": [
    "#Since this data frame does not contain useful information (only four NaN values), we will drop this column as well\n",
    "nopd_complaint_df['Officer years of service'].describe()"
   ]
  },
  {
   "cell_type": "code",
   "execution_count": 5,
   "metadata": {},
   "outputs": [],
   "source": [
    "del nopd_complaint_df['Officer years of service']"
   ]
  },
  {
   "cell_type": "code",
   "execution_count": null,
   "metadata": {},
   "outputs": [],
   "source": []
  },
  {
   "cell_type": "code",
   "execution_count": 6,
   "metadata": {},
   "outputs": [
    {
     "data": {
      "text/plain": [
       "<AxesSubplot:ylabel='Investigation status'>"
      ]
     },
     "execution_count": 6,
     "metadata": {},
     "output_type": "execute_result"
    },
    {
     "data": {
      "image/png": "[encoded data removed]",
      "text/plain": [
       "<Figure size 432x288 with 1 Axes>"
      ]
     },
     "metadata": {},
     "output_type": "display_data"
    }
   ],
   "source": [
    "nopd_complaint_df[\"Investigation status\"].value_counts().plot.pie()"
   ]
  },
  {
   "cell_type": "code",
   "execution_count": 7,
   "metadata": {},
   "outputs": [
    {
     "data": {
      "text/plain": [
       "<AxesSubplot:ylabel='Complainant Ethnicity'>"
      ]
     },
     "execution_count": 7,
     "metadata": {},
     "output_type": "execute_result"
    },
    {
     "data": {
      "image/png": "[encoded data removed]",
      "text/plain": [
       "<Figure size 432x288 with 1 Axes>"
      ]
     },
     "metadata": {},
     "output_type": "display_data"
    }
   ],
   "source": [
    "nopd_complaint_df[\"Complainant Ethnicity\"] = nopd_complaint_df[\"Complainant Ethnicity\"].map({\n",
    "    'Black': 'Black',\n",
    "    'White': 'White',\n",
    "    'Asian': 'Asian',\n",
    "    'Hispanic': 'Hispanic',\n",
    "    'b': 'Black',\n",
    "    'white': 'White',\n",
    "    'Indian': 'Indian',\n",
    "    'w': 'White',\n",
    "    'W': \"White\",\n",
    "    'black': 'Black'})\n",
    "nopd_complaint_df[\"Complainant Ethnicity\"].value_counts().plot.pie()"
   ]
  },
  {
   "cell_type": "markdown",
   "metadata": {},
   "source": [
    "#### NOPD Use of Force "
   ]
  },
  {
   "cell_type": "code",
   "execution_count": null,
   "metadata": {},
   "outputs": [],
   "source": []
  },
  {
   "cell_type": "code",
   "execution_count": 8,
   "metadata": {},
   "outputs": [
    {
     "data": {
      "text/html": [
       "<div>\n",
       "<style scoped>\n",
       "    .dataframe tbody tr th:only-of-type {\n",
       "        vertical-align: middle;\n",
       "    }\n",
       "\n",
       "    .dataframe tbody tr th {\n",
       "        vertical-align: top;\n",
       "    }\n",
       "\n",
       "    .dataframe thead th {\n",
       "        text-align: right;\n",
       "    }\n",
       "</style>\n",
       "<table border=\"1\" class=\"dataframe\">\n",
       "  <thead>\n",
       "    <tr style=\"text-align: right;\">\n",
       "      <th></th>\n",
       "      <th>PIB File Number</th>\n",
       "      <th>Date Occurred</th>\n",
       "      <th>Originating Bureau</th>\n",
       "      <th>Division level</th>\n",
       "      <th>Division</th>\n",
       "      <th>Unit</th>\n",
       "      <th>Working Status</th>\n",
       "      <th>Shift</th>\n",
       "      <th>Investigation status</th>\n",
       "      <th>Disposition</th>\n",
       "      <th>...</th>\n",
       "      <th>Subject Ethnicity</th>\n",
       "      <th>Subject Age</th>\n",
       "      <th>Subject Build</th>\n",
       "      <th>Subject Height</th>\n",
       "      <th>Subject Injured</th>\n",
       "      <th>Subject Hospitalized</th>\n",
       "      <th>Subject Arrested</th>\n",
       "      <th>Subject Arrest Charges</th>\n",
       "      <th>Use of Force Reason</th>\n",
       "      <th>Officer Injured</th>\n",
       "    </tr>\n",
       "  </thead>\n",
       "  <tbody>\n",
       "    <tr>\n",
       "      <th>0</th>\n",
       "      <td>FTN2016-0112</td>\n",
       "      <td>03/23/2016</td>\n",
       "      <td>FOB - Field Operations Bureau</td>\n",
       "      <td>7th District</td>\n",
       "      <td>Evening Watch</td>\n",
       "      <td>NaN</td>\n",
       "      <td>Unknown Working Status</td>\n",
       "      <td>Unknown Shift Hours</td>\n",
       "      <td>Initial</td>\n",
       "      <td>Pending</td>\n",
       "      <td>...</td>\n",
       "      <td>Black</td>\n",
       "      <td>38</td>\n",
       "      <td>NaN</td>\n",
       "      <td>NaN</td>\n",
       "      <td>No</td>\n",
       "      <td>Yes</td>\n",
       "      <td>No</td>\n",
       "      <td>NaN</td>\n",
       "      <td>refuse verbal commands</td>\n",
       "      <td>No</td>\n",
       "    </tr>\n",
       "    <tr>\n",
       "      <th>1</th>\n",
       "      <td>FTN2016-0169</td>\n",
       "      <td>03/26/2016</td>\n",
       "      <td>FOB - Field Operations Bureau</td>\n",
       "      <td>6th District</td>\n",
       "      <td>B Platoon</td>\n",
       "      <td>NaN</td>\n",
       "      <td>NaN</td>\n",
       "      <td>NaN</td>\n",
       "      <td>Completed</td>\n",
       "      <td>Use Of Force Authorized</td>\n",
       "      <td>...</td>\n",
       "      <td>Black</td>\n",
       "      <td>27</td>\n",
       "      <td>Small</td>\n",
       "      <td>5'4'' to 5'6''</td>\n",
       "      <td>No</td>\n",
       "      <td>Yes</td>\n",
       "      <td>Yes</td>\n",
       "      <td>NaN</td>\n",
       "      <td>Resisting Lawful Arrest</td>\n",
       "      <td>No</td>\n",
       "    </tr>\n",
       "    <tr>\n",
       "      <th>2</th>\n",
       "      <td>FTN2016-0172</td>\n",
       "      <td>03/26/2016</td>\n",
       "      <td>FOB - Field Operations Bureau</td>\n",
       "      <td>7th District</td>\n",
       "      <td>Evening Watch</td>\n",
       "      <td>Patrol</td>\n",
       "      <td>Unknown Working Status</td>\n",
       "      <td>Unknown Shift Hours</td>\n",
       "      <td>Completed</td>\n",
       "      <td>Use Of Force Authorized</td>\n",
       "      <td>...</td>\n",
       "      <td>Black</td>\n",
       "      <td>37</td>\n",
       "      <td>Medium</td>\n",
       "      <td>5'10'' to 6'0''</td>\n",
       "      <td>No</td>\n",
       "      <td>No</td>\n",
       "      <td>No</td>\n",
       "      <td>NaN</td>\n",
       "      <td>refuse verbal commands</td>\n",
       "      <td>No | No | No</td>\n",
       "    </tr>\n",
       "    <tr>\n",
       "      <th>3</th>\n",
       "      <td>FTN2016-0168</td>\n",
       "      <td>03/26/2016</td>\n",
       "      <td>FOB - Field Operations Bureau</td>\n",
       "      <td>8th District</td>\n",
       "      <td>Narcotics</td>\n",
       "      <td>NaN</td>\n",
       "      <td>NaN</td>\n",
       "      <td>NaN</td>\n",
       "      <td>Completed</td>\n",
       "      <td>Use Of Force Authorized</td>\n",
       "      <td>...</td>\n",
       "      <td>White | Black</td>\n",
       "      <td>29 | 33</td>\n",
       "      <td>Large | Large</td>\n",
       "      <td>6'1'' to 6'3'' | 6'1'' to 6'3''</td>\n",
       "      <td>Yes | Yes</td>\n",
       "      <td>No | No</td>\n",
       "      <td>Yes | Yes</td>\n",
       "      <td>NaN</td>\n",
       "      <td>Resisting Lawful Arrest</td>\n",
       "      <td>No | No | No | No</td>\n",
       "    </tr>\n",
       "    <tr>\n",
       "      <th>4</th>\n",
       "      <td>FTN2016-0173</td>\n",
       "      <td>03/27/2016</td>\n",
       "      <td>FOB - Field Operations Bureau</td>\n",
       "      <td>7th District</td>\n",
       "      <td>Day Watch</td>\n",
       "      <td>NaN</td>\n",
       "      <td>NaN</td>\n",
       "      <td>NaN</td>\n",
       "      <td>Completed</td>\n",
       "      <td>Use Of Force Authorized</td>\n",
       "      <td>...</td>\n",
       "      <td>White</td>\n",
       "      <td>23</td>\n",
       "      <td>Small</td>\n",
       "      <td>5'10'' to 6'0''</td>\n",
       "      <td>Yes</td>\n",
       "      <td>Yes</td>\n",
       "      <td>Yes</td>\n",
       "      <td>NaN</td>\n",
       "      <td>Resisting Lawful Arrest</td>\n",
       "      <td>No | No</td>\n",
       "    </tr>\n",
       "  </tbody>\n",
       "</table>\n",
       "<p>5 rows × 33 columns</p>\n",
       "</div>"
      ],
      "text/plain": [
       "  PIB File Number Date Occurred             Originating Bureau Division level  \\\n",
       "0    FTN2016-0112    03/23/2016  FOB - Field Operations Bureau   7th District   \n",
       "1    FTN2016-0169    03/26/2016  FOB - Field Operations Bureau   6th District   \n",
       "2    FTN2016-0172    03/26/2016  FOB - Field Operations Bureau   7th District   \n",
       "3    FTN2016-0168    03/26/2016  FOB - Field Operations Bureau   8th District   \n",
       "4    FTN2016-0173    03/27/2016  FOB - Field Operations Bureau   7th District   \n",
       "\n",
       "        Division    Unit          Working Status                Shift  \\\n",
       "0  Evening Watch     NaN  Unknown Working Status  Unknown Shift Hours   \n",
       "1      B Platoon     NaN                     NaN                  NaN   \n",
       "2  Evening Watch  Patrol  Unknown Working Status  Unknown Shift Hours   \n",
       "3      Narcotics     NaN                     NaN                  NaN   \n",
       "4      Day Watch     NaN                     NaN                  NaN   \n",
       "\n",
       "  Investigation status              Disposition  ... Subject Ethnicity  \\\n",
       "0              Initial                  Pending  ...             Black   \n",
       "1            Completed  Use Of Force Authorized  ...             Black   \n",
       "2            Completed  Use Of Force Authorized  ...             Black   \n",
       "3            Completed  Use Of Force Authorized  ...     White | Black   \n",
       "4            Completed  Use Of Force Authorized  ...             White   \n",
       "\n",
       "  Subject Age  Subject Build                   Subject Height Subject Injured  \\\n",
       "0          38            NaN                              NaN              No   \n",
       "1          27          Small                   5'4'' to 5'6''              No   \n",
       "2          37         Medium                  5'10'' to 6'0''              No   \n",
       "3     29 | 33  Large | Large  6'1'' to 6'3'' | 6'1'' to 6'3''       Yes | Yes   \n",
       "4          23          Small                  5'10'' to 6'0''             Yes   \n",
       "\n",
       "  Subject Hospitalized Subject Arrested Subject Arrest Charges  \\\n",
       "0                  Yes               No                    NaN   \n",
       "1                  Yes              Yes                    NaN   \n",
       "2                   No               No                    NaN   \n",
       "3              No | No        Yes | Yes                    NaN   \n",
       "4                  Yes              Yes                    NaN   \n",
       "\n",
       "       Use of Force Reason    Officer Injured  \n",
       "0   refuse verbal commands                 No  \n",
       "1  Resisting Lawful Arrest                 No  \n",
       "2   refuse verbal commands       No | No | No  \n",
       "3  Resisting Lawful Arrest  No | No | No | No  \n",
       "4  Resisting Lawful Arrest            No | No  \n",
       "\n",
       "[5 rows x 33 columns]"
      ]
     },
     "execution_count": 8,
     "metadata": {},
     "output_type": "execute_result"
    }
   ],
   "source": [
    "nopd_use_of_force_df = pd.read_csv('../_data/NOPD_Use_Of_Force_Incidents.csv')\n",
    "nopd_use_of_force_df.head()"
   ]
  },
  {
   "cell_type": "code",
   "execution_count": null,
   "metadata": {},
   "outputs": [],
   "source": [
    "#Tidying data by dropping columns we don't plan on using\n",
    "nopd_use_of_force_df = nopd_use_of_force_df[[\"Subject Sex\", \"Subject Race\", \"Subject Ethnicity\", \"Subject Conduct Desc\", \"Subject Resistance\", \"Subject Effects\", \"X-Coordinate\", \"Y-Coordinate\"]].copy()"
   ]
  },
  {
   "cell_type": "code",
   "execution_count": 9,
   "metadata": {},
   "outputs": [
    {
     "data": {
      "text/plain": [
       "['Black', 'White', 'nan', 'Asian', 'W', 'Hispanic', 'Race-Unknown', 'Indian']"
      ]
     },
     "execution_count": 9,
     "metadata": {},
     "output_type": "execute_result"
    }
   ],
   "source": [
    "l = nopd_use_of_force_df[\"Subject Ethnicity\"].unique()\n",
    "\n",
    "l = [str(x) for x in l]\n",
    "unique = [x for x in l if \"|\" not in x]\n",
    "unique"
   ]
  },
  {
   "cell_type": "code",
   "execution_count": 10,
   "metadata": {},
   "outputs": [],
   "source": [
    "nopd_use_of_force_df[\"Ethnicity\"] = nopd_use_of_force_df['Subject Ethnicity'].map({\n",
    "    \"Black\": \"Black\",\n",
    "    \"White\": \"White\",\n",
    "    \"W\": \"White\",\n",
    "    \"Asian\": \"Asian\",\n",
    "    \"Hispanic\": \"Hispanic\",\n",
    "    \"Indian\": \"Indian\"    \n",
    "})"
   ]
  },
  {
   "cell_type": "code",
   "execution_count": 11,
   "metadata": {},
   "outputs": [
    {
     "data": {
      "text/plain": [
       "<AxesSubplot:ylabel='Ethnicity'>"
      ]
     },
     "execution_count": 11,
     "metadata": {},
     "output_type": "execute_result"
    },
    {
     "data": {
      "image/png": "[encoded data removed]",
      "text/plain": [
       "<Figure size 432x288 with 1 Axes>"
      ]
     },
     "metadata": {},
     "output_type": "display_data"
    }
   ],
   "source": [
    "nopd_use_of_force_df[\"Ethnicity\"].value_counts().plot.pie()"
   ]
  },
  {
   "cell_type": "markdown",
   "metadata": {},
   "source": [
    "<h1>Austin Response To Resistance</h1>"
   ]
  },
  {
   "cell_type": "markdown",
   "metadata": {},
   "source": [
    "The source of the csv file: https://data.austintexas.gov/Public-Safety/R2R-2015/iydp-s2cf\n"
   ]
  },
  {
   "cell_type": "code",
   "execution_count": 12,
   "metadata": {},
   "outputs": [],
   "source": [
    "austin_police_df = pd.read_csv('../_data/Austin_Response_To_Resistance.csv')"
   ]
  },
  {
   "cell_type": "code",
   "execution_count": 13,
   "metadata": {},
   "outputs": [],
   "source": [
    "#Tidying data by dropping columns we don't plan on using\n",
    "austin_police_df = austin_police_df[[\"Subject Sex\", \"Subject Race\", \"Subject Ethnicity\", \"Subject Conduct Desc\", \"Subject Resistance\", \"Subject Effects\", \"X-Coordinate\", \"Y-Coordinate\"]].copy()"
   ]
  },
  {
   "cell_type": "code",
   "execution_count": 14,
   "metadata": {},
   "outputs": [
    {
     "data": {
      "text/plain": [
       "array(['W', 'B', 'M', nan, 'A', 'U', 'P', 'I'], dtype=object)"
      ]
     },
     "execution_count": 14,
     "metadata": {},
     "output_type": "execute_result"
    }
   ],
   "source": [
    "austin_police_df[\"Subject Race\"].unique()"
   ]
  },
  {
   "cell_type": "code",
   "execution_count": 15,
   "metadata": {},
   "outputs": [],
   "source": [
    "austin_police_df[\"Subject Race\"] = austin_police_df[\"Subject Race\"].map({\n",
    "    'W': 'White',\n",
    "    'B': 'Black',\n",
    "    'A': 'Asian',\n",
    "    'P': 'Pacific Islander',\n",
    "    'I': 'Indian'})"
   ]
  },
  {
   "cell_type": "code",
   "execution_count": 16,
   "metadata": {},
   "outputs": [],
   "source": [
    "austin_police_df['Hispanic'] = austin_police_df[\"Subject Ethnicity\"] == \"H\""
   ]
  },
  {
   "cell_type": "code",
   "execution_count": 17,
   "metadata": {},
   "outputs": [],
   "source": [
    "austin_police_df.loc[austin_police_df['Hispanic'] == True, 'Subject Race'] = \"Hispanic\""
   ]
  },
  {
   "cell_type": "code",
   "execution_count": 18,
   "metadata": {},
   "outputs": [
    {
     "data": {
      "text/plain": [
       "<AxesSubplot:ylabel='Subject Race'>"
      ]
     },
     "execution_count": 18,
     "metadata": {},
     "output_type": "execute_result"
    },
    {
     "data": {
      "image/png": "[encoded data removed]",
      "text/plain": [
       "<Figure size 432x288 with 1 Axes>"
      ]
     },
     "metadata": {},
     "output_type": "display_data"
    }
   ],
   "source": [
    "austin_police_df[\"Subject Race\"].value_counts().plot.pie()"
   ]
  },
  {
   "cell_type": "code",
   "execution_count": 19,
   "metadata": {},
   "outputs": [
    {
     "data": {
      "text/plain": [
       "array(['NO COMPLAINT OF INJURY/PAIN', 'MINOR INJURY',\n",
       "       'COMPLAINT OF INJURY/PAIN', nan,\n",
       "       'COMPLAINT OF INJURY/PAIN BUT NONE OBSERVED',\n",
       "       'MINOR INJURY; COMPLAINT OF INJURY/PAIN', 'DEATH',\n",
       "       'SERIOUS INJURY', 'SERIOUS INJURY; MINOR INJURY',\n",
       "       'MINOR INJURY; NO COMPLAINT OF INJURY/PAIN',\n",
       "       'COMPLAINT OF INJURY/PAIN BUT NONE OBSERVED; NO COMPLAINT OF INJURY/PAIN',\n",
       "       'COMPLAINT OF INJURY/PAIN; COMPLAINT OF INJURY/PAIN BUT NONE OBSERVED',\n",
       "       'MINOR INJURY; COMPLAINT OF INJURY/PAIN BUT NONE OBSERVED',\n",
       "       'SERIOUS INJURY; COMPLAINT OF INJURY/PAIN'], dtype=object)"
      ]
     },
     "execution_count": 19,
     "metadata": {},
     "output_type": "execute_result"
    }
   ],
   "source": [
    "austin_police_df['Subject Effects'].unique()"
   ]
  },
  {
   "cell_type": "code",
   "execution_count": 20,
   "metadata": {},
   "outputs": [],
   "source": [
    "austin_police_df['Injured'] = austin_police_df['Subject Effects'].map({\n",
    "\"NO COMPLAINT OF INJURY/PAIN\": \"Yes\",\n",
    "\"COMPLAINT OF INJURY/PAIN\" : \"Yes\",\n",
    "\"COMPLAINT OF INJURY/PAIN BUT NONE OBSERVED\": \"No\", #should this be Yes?\n",
    "\"MINOR INJURY; COMPLAINT OF INJURY/PAIN\": \"Yes\",\n",
    "\"DEATH\": \"Yes\",\n",
    "\"SERIOUS INJURY\": \"Yes\",\n",
    "\"SERIOUS INJURY; MINOR INJURY\": \"Yes\",\n",
    "\"MINOR INJURY; NO COMPLAINT OF INJURY/PAIN\": \"Yes\",\n",
    "\"COMPLAINT OF INJURY/PAIN BUT NONE OBSERVED; NO COMPLAINT OF INJURY/PAIN\": \"No\",\n",
    "\"COMPLAINT OF INJURY/PAIN; COMPLAINT OF INJURY/PAIN BUT NONE OBSERVED\": \"No\",\n",
    "\"MINOR INJURY; COMPLAINT OF INJURY/PAIN BUT NONE OBSERVED\": \"Yes\",\n",
    "\"SERIOUS INJURY; COMPLAINT OF INJURY/PAIN\": \"Yes\"})"
   ]
  },
  {
   "cell_type": "code",
   "execution_count": 21,
   "metadata": {},
   "outputs": [],
   "source": [
    "del austin_police_df['Subject Effects']"
   ]
  },
  {
   "cell_type": "code",
   "execution_count": 22,
   "metadata": {},
   "outputs": [],
   "source": [
    "injured_austin_police_df = austin_police_df[austin_police_df['Injured'] == \"Yes\"]"
   ]
  },
  {
   "cell_type": "code",
   "execution_count": 23,
   "metadata": {},
   "outputs": [
    {
     "data": {
      "text/plain": [
       "<AxesSubplot:ylabel='Subject Race'>"
      ]
     },
     "execution_count": 23,
     "metadata": {},
     "output_type": "execute_result"
    },
    {
     "data": {
      "image/png": "[encoded data removed]",
      "text/plain": [
       "<Figure size 432x288 with 1 Axes>"
      ]
     },
     "metadata": {},
     "output_type": "display_data"
    }
   ],
   "source": [
    "injured_austin_police_df[\"Subject Race\"].value_counts().plot.pie()"
   ]
  },
  {
   "cell_type": "code",
   "execution_count": 24,
   "metadata": {},
   "outputs": [],
   "source": [
    "not_injured_austin_police_df = austin_police_df[austin_police_df['Injured'] == \"No\"]"
   ]
  },
  {
   "cell_type": "code",
   "execution_count": 25,
   "metadata": {},
   "outputs": [
    {
     "data": {
      "text/plain": [
       "<AxesSubplot:ylabel='Subject Race'>"
      ]
     },
     "execution_count": 25,
     "metadata": {},
     "output_type": "execute_result"
    },
    {
     "data": {
      "image/png": "[encoded data removed]",
      "text/plain": [
       "<Figure size 432x288 with 1 Axes>"
      ]
     },
     "metadata": {},
     "output_type": "display_data"
    }
   ],
   "source": [
    "not_injured_austin_police_df[\"Subject Race\"].value_counts().plot.pie()"
   ]
  },
  {
   "cell_type": "markdown",
   "metadata": {},
   "source": [
    "<h1>Orlando Police Department Response to Resistance</h1>\n",
    "<br>\n",
    "<li>Source of the csv file: <a>https://data.cityoforlando.net/Orlando-Police/OPD-Response-To-Resistance/ap4w-p9kt</a></li>"
   ]
  },
  {
   "cell_type": "code",
   "execution_count": 8,
   "metadata": {},
   "outputs": [
    {
     "data": {
      "text/plain": [
       "['W', 'U', 'B', 'OffendersRace', 'A']"
      ]
     },
     "execution_count": 8,
     "metadata": {},
     "output_type": "execute_result"
    }
   ],
   "source": [
    "orlando_police = pd.read_csv(\"../_data/OPD_Response_To_Resistance.csv\")\n",
    "\n",
    "# some cleaning of the data\n",
    "l = orlando_police[\"Offenders Race\"].unique()\n",
    "l = [str(x) for x in l]\n",
    "unique = [x for x in l if \";\" not in x]\n",
    "unique"
   ]
  },
  {
   "cell_type": "code",
   "execution_count": 10,
   "metadata": {},
   "outputs": [],
   "source": [
    "orlando_police[\"Offenders Race\"] = orlando_police[\"Offenders Race\"].map({\n",
    "    'W': 'White',\n",
    "    'B': 'Black',\n",
    "    'A': 'Asian'\n",
    "    })"
   ]
  },
  {
   "cell_type": "code",
   "execution_count": 14,
   "metadata": {},
   "outputs": [
    {
     "data": {
      "text/plain": [
       "array(['NH', 'OffendersEthnicity', 'HI', 'NH;NH', 'HI;NH', 'NH;NH;NH',\n",
       "       'HI;HI', 'NH;NH;NH;NH;NH;', 'NH;NH;NH;NH', 'NH;HI',\n",
       "       'NH;NH;NH;NH;NH', 'HI;HI;HI', 'NH;HI;NH', 'HI;NH;HI', 'HI;HI;NH',\n",
       "       'NH;HI;HI', 'HI;NH;NH', 'HI;HI;HI;HI;HI'], dtype=object)"
      ]
     },
     "execution_count": 14,
     "metadata": {},
     "output_type": "execute_result"
    }
   ],
   "source": [
    "orlando_police[\"Offenders Ethnicity\"].unique()"
   ]
  },
  {
   "cell_type": "code",
   "execution_count": 26,
   "metadata": {},
   "outputs": [],
   "source": [
    "orlando_police = orlando_police.rename(columns={\n",
    "    \"Offenders Ethnicity\": \"Hispanic\",\n",
    "    \"Offenders Race\": \"Subject Race\"\n",
    "})"
   ]
  },
  {
   "cell_type": "code",
   "execution_count": 27,
   "metadata": {},
   "outputs": [],
   "source": [
    "orlando_police[\"Hispanic\"] = orlando_police[\"Hispanic\"].map({\n",
    "    \"NH\": False,\n",
    "    \"HI\": True\n",
    "})"
   ]
  },
  {
   "cell_type": "code",
   "execution_count": 28,
   "metadata": {},
   "outputs": [],
   "source": [
    "orlando_police.loc[orlando_police['Hispanic'] == True, 'Subject Race'] = \"Hispanic\""
   ]
  },
  {
   "cell_type": "code",
   "execution_count": 32,
   "metadata": {},
   "outputs": [
    {
     "data": {
      "text/plain": [
       "<AxesSubplot:ylabel='Subject Race'>"
      ]
     },
     "execution_count": 32,
     "metadata": {},
     "output_type": "execute_result"
    },
    {
     "data": {
      "image/png": "[encoded data removed]",
      "text/plain": [
       "<Figure size 432x288 with 1 Axes>"
      ]
     },
     "metadata": {},
     "output_type": "display_data"
    }
   ],
   "source": [
    "orlando_police[\"Subject Race\"].value_counts().plot.pie()"
   ]
  },
  {
   "cell_type": "markdown",
   "metadata": {},
   "source": [
    "<h1>Our plan</h1>\n",
    "<p>We plan to use the data from Austin and Orlando to compare to New Orleans. According to the New Orleans Data Center, Austin and Orlando are two cities that New Orleans aspires to be like due to the growth of their economy and opportunities. We believe that the use of force by police and whether they proportionately act might effect how citizes trust their government. There are opportunities here to include economic data as well. However, for now, we hope to search deeper in whether currently, each city proportionately uses force on criminals based on chi-squared tests or other tests of proportions. We believe that the relationship between the government and its citizens is very important in a city's growth and prosperity and we hope to shine a light on this relationship in New Orleans. </p>"
   ]
  }
 ],
 "metadata": {
  "kernelspec": {
   "display_name": "Python 3 (ipykernel)",
   "language": "python",
   "name": "python3"
  },
  "language_info": {
   "codemirror_mode": {
    "name": "ipython",
    "version": 3
   },
   "file_extension": ".py",
   "mimetype": "text/x-python",
   "name": "python",
   "nbconvert_exporter": "python",
   "pygments_lexer": "ipython3",
   "version": "3.10.0"
  }
 },
 "nbformat": 4,
 "nbformat_minor": 4
}
